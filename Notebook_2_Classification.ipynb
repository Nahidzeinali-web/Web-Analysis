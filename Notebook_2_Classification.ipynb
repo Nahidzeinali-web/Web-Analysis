{
 "cells": [
  {
   "cell_type": "markdown",
   "id": "3d822420",
   "metadata": {},
   "source": [
    "# Notebook for Sentiment Classifiers"
   ]
  },
  {
   "cell_type": "markdown",
   "id": "d66c2a8f",
   "metadata": {},
   "source": [
    "This notebook contains the codes to train a sentiment classifer for the selected data set. \n",
    "\n",
    "We randomly selected 2000 sentences from the body texts of the downloaded articles as the data set. After manually labelling the sentences as *positive*, *negative*, and *neutral*, we randomly selected 80% of the sentences in the data set as training data to train 8 different kinds of classification algorithms. We then compared the algothrims' performances to select the best classifier for our data set.\n",
    "\n",
    "\n",
    "The notebook consists of 4 main sections:\n",
    "1. [Construct the data set](#section_1)\n",
    "2. [Prepare the data for modeling](#section_2)\n",
    "3. [Classifier selection](#section_3)\n",
    "> - 3.1. [K-Nearest Neighbours](#section_3.1)\n",
    "> - 3.2. [Logistic Regression](#section_3.2)\n",
    "> - 3.3. [Multinomial Naive Bayes](#section_3.3)\n",
    "> - 3.4. [Devision Tress](#section_3.4)\n",
    "> - 3.5. [Random Forest](#section_3.5)\n",
    "> - 3.6. [Linear Support Vector Machines](#section_3.6)\n",
    "> - 3.7. [Kernalized Support Vector Machines](#section_3.7)\n",
    "> - 3.8. [Neural Network](#section_3.8)\n",
    "4. [Test the selected model](#section_4)\n",
    "\n",
    "\n",
    "By comparing their performances regarding test accuracy and other indexes, we selected `Random Forest` as the best classification algorithm for our data set, and tested it on 10 new sentences.\n"
   ]
  },
  {
   "cell_type": "markdown",
   "id": "c0c31ddd",
   "metadata": {},
   "source": [
    "## <a id=\"section_1\">1. Construct the data set</a>"
   ]
  },
  {
   "cell_type": "markdown",
   "id": "5081f047",
   "metadata": {},
   "source": [
    "To construct a data set for training the sentiment classifer, we first tokenized the body text in all the articles we downloaded from the website and put them into a large list. Then we randomly selected 2000 sentences from the list to be used as the data set to train the classifers."
   ]
  },
  {
   "cell_type": "code",
   "execution_count": 1,
   "id": "36661a55",
   "metadata": {},
   "outputs": [
    {
     "data": {
      "text/plain": [
       "(8964, 5)"
      ]
     },
     "execution_count": 1,
     "metadata": {},
     "output_type": "execute_result"
    }
   ],
   "source": [
    "import pandas as pd\n",
    "\n",
    "# Load the html_metadata.csv as df\n",
    "df = pd.read_csv(\"outcome/html_metadata.csv\", sep=\"\\t\")\n",
    "\n",
    "# Explore the number and columns and rows of the dataframe\n",
    "df.shape"
   ]
  },
  {
   "cell_type": "code",
   "execution_count": 3,
   "id": "59aaa5ca",
   "metadata": {},
   "outputs": [
    {
     "name": "stderr",
     "output_type": "stream",
     "text": [
      "/tmp/ipykernel_136/3409672835.py:8: SettingWithCopyWarning: \n",
      "A value is trying to be set on a copy of a slice from a DataFrame.\n",
      "Try using .loc[row_indexer,col_indexer] = value instead\n",
      "\n",
      "See the caveats in the documentation: https://pandas.pydata.org/pandas-docs/stable/user_guide/indexing.html#returning-a-view-versus-a-copy\n",
      "  text[\"body_text\"] = text[\"body_text\"].astype(str)\n",
      "/tmp/ipykernel_136/3409672835.py:9: SettingWithCopyWarning: \n",
      "A value is trying to be set on a copy of a slice from a DataFrame.\n",
      "Try using .loc[row_indexer,col_indexer] = value instead\n",
      "\n",
      "See the caveats in the documentation: https://pandas.pydata.org/pandas-docs/stable/user_guide/indexing.html#returning-a-view-versus-a-copy\n",
      "  text[\"sentences\"] = text[\"body_text\"].apply(lambda x: sent_tokenize(x))\n"
     ]
    }
   ],
   "source": [
    "import nltk\n",
    "from nltk.tokenize import sent_tokenize\n",
    "\n",
    "# Create a new dataframe that contains only the body_text of each article\n",
    "text = df[[\"body_text\"]]\n",
    "\n",
    "# Tokenize the body text into sentences\n",
    "text[\"body_text\"] = text[\"body_text\"].astype(str)\n",
    "text[\"sentences\"] = text[\"body_text\"].apply(lambda x: sent_tokenize(x))"
   ]
  },
  {
   "cell_type": "code",
   "execution_count": 4,
   "id": "bce592b2",
   "metadata": {},
   "outputs": [
    {
     "data": {
      "text/plain": [
       "['Peas, in and out of the pod     The pea plant (Pisum sativum) is a member of the the Legume family (Fabaceae), which also contains beans, peanuts and alfalfa.',\n",
       " 'Peas have been consumed in the Mediterranean and Middle East for at least 6,000 years, first being cultivated in Turkey 3,000 years ago.',\n",
       " 'These plants are loved by farmers and gardeners for their ability to add nitrogen to the soil, thus enriching it for other crops.',\n",
       " 'Today there are several subspecies of peas, including garden peas, snow peas, snap peas and field peas.',\n",
       " 'Advertisement          Garden Pea            A dish of steamed garden peas     Garden peas (Pisum sativum var.',\n",
       " 'sativum), also known as English peas, are the most common kind of pea plant.',\n",
       " 'Like all other peas, garden pea plants are twining vines 1 to 1.5 feet in length, covered with tiny tendrils.',\n",
       " 'They bear bright green, elongated oval-shaped leaves and five-petaled, irregular pink or white flowers which give way long green pods containing edible seeds.',\n",
       " 'Advertisement      Related Stories           Home Sweet Home     Characteristics of a Pea Plant   By Ann Wolters            Chow Down     How to Cook Green Split Peas   By Athena Hessong            Home Sweet Home     Edible Wild Plants in North Carolina   By David Degnan          Video of the Day      Garden pea pods appear swollen and rounded when ready to harvest.',\n",
       " 'The outer pod is inedible and must be removed to collect the peas within.',\n",
       " \"Garden peas tend to lose their sweet flavor as soon as they are picked, and must therefore be quickly eaten, preserved or frozen.Much-loved garden pea cultivars include the long-vined 'Alderman', also known as 'Tall Telephone', the early-maturing 'Alaska', and the near-leafess 'Novella'.\",\n",
       " 'Advertisement          Snow Pea            Snow pea pods     Another popular subspecies of pea is the snow pea (Pisum sativum var.',\n",
       " 'macrocarpon), also known as the Chinese pea or mangetout pea.',\n",
       " 'A snow pea plant resembles a garden pea plant in every aspect besides its pod.',\n",
       " 'Snow pea pods are large, flat and somewhat translucent.',\n",
       " 'The peas which they contain are not round and succulent as garden peas are, but are rather inconspicuous.',\n",
       " 'Snow pea pods are eaten whole, and may be steamed, stir-fried or enjoyed fresh.',\n",
       " 'They are widely used in Asian cuisine.',\n",
       " \"One popular snow pea variety is 'Mammoth Melting Sugar', which produces sweet, toothsome pods up to 4.5 inches in length (See Reference 2) .\",\n",
       " 'Advertisement          Snap Pea   In the 20th century, a new kind of pea, called the snap pea, was hybridized by crossing an rare type of pea that had tightly packed pods with thick walls with a regular snow pea.',\n",
       " 'The result was a pea with a thick and crunchy, yet edible pod containing large, round, succulent peas.',\n",
       " \"The first variety of snap pea, 'Sugar Snap', became an All American Selection in 1979.\",\n",
       " 'Snap peas can replace snow peas in traditional Asian recipes, or garden peas in any dish requiring them.',\n",
       " 'Advertisement          Field Pea   Field peas (Pisum sativum var.',\n",
       " 'arvense) are not as tender and delicate as other types of peas.',\n",
       " 'They are often dried to make make split pea soup, rather than being consumed fresh or lightly cooked.',\n",
       " 'They also make a nutrient-rich livestock fodder.',\n",
       " 'Farmers sometimes plant field peas between other crops, simply for the purpose of adding fresh nitrogen to the soil.',\n",
       " 'Advertisement',\n",
       " 'Intertherm blowers may not shut off if they are set improperly.',\n",
       " 'Intertherm furnace blowers are a popular product for home owners and HVAC professionals.',\n",
       " \"The blower or fan circulates the heat from the furnace's burner throughout the vents of the home.\",\n",
       " 'Occasionally the burner will stay on constantly, for several possible reasons, causing cool air to be circulated through the house when the burner is not warmed up.',\n",
       " 'More extensive issues with the burner or any furnace part may require professional guidance.',\n",
       " 'Advertisement          Step 1   Open up the access panel of the furnace.',\n",
       " 'Most furnaces have a door that slides or screws off.',\n",
       " 'Unscrew the door and set it out of the way.',\n",
       " 'Video of the Day          Step 2   Look for the temperature limit switch.',\n",
       " 'It generally looks something like a small box with a shiny covering and a white button or switch protruding from the front.',\n",
       " 'Its often located in the upper, middle portion of the access area.',\n",
       " 'Advertisement      Related Stories           Home Sweet Home     Hampton Bay Remote Installation Instructions   By Corey Goodwin            Home Sweet Home     How to Wire a Thermostat to Run Only the Fan   By Eric Jonas            Home Sweet Home     How to Fix the Ignitor Problem on a Furnace   By Kenneth Crawford        Step 3   Lift up the cover to the limit switch.',\n",
       " 'Inside should be a large dial with several metal markers on it.',\n",
       " \"Step 4   Reset the metal arms, starting from the left, to around 90, 120 and 200 if they aren't already at these settings.\",\n",
       " 'These three temperatures tell the Intertherm blower when to come on, go off and the final one tells the burner when to turn off.',\n",
       " 'Advertisement          Step 5   Pull the white switch out to reset the Intertherm blower to automatic.',\n",
       " 'This will cause the blower to shut on or off based on the designated settings.',\n",
       " 'Step 6   Wait 10 to 15 minutes to see if the Intertherm blower shuts off once the burner stops running.',\n",
       " 'If this doesn\\'t fix the problem you\\'ll need to call an HVAC professional for help with a wiring problem or a bad fan.Tip In the HVAC Troubleshooting Guide Rex Miller notes that, \"many professionals now recommend leaving on the blower at all times for greater circulation of heat.\"',\n",
       " 'Advertisement',\n",
       " \"Things You'll Need   3 cans of colorful outdoor spray paint designed for metalRust stripper (if the cart is heavily rusted)Electric sanderMedium grained sandpaper (P120)Painters tapePlastic         An old metal cart becomes a side table.\",\n",
       " 'Image Credit:      Jessica Begum      Do you have an old metal cart tucked away in your garage?',\n",
       " \"Don't toss it to the curb--transform it into a fabulous outdoor side table!\",\n",
       " \"It's easy to do, and it's a unique way to add a pop of color to your outdoor space.\",\n",
       " 'Advertisement          Step 1            Before: Metal cart.',\n",
       " 'Image Credit:      Jessica Begum      An old metal cart like this one is worth a second look.',\n",
       " 'It can become a fun outdoor side table with a few simple items from the hardware store and a little TLC.',\n",
       " \"If you don't have an electric sander, consider renting one from the hardware store.\",\n",
       " 'Sanding metal by hand is not recommended because of the amount of sanding required.',\n",
       " \"Advertisement      Related Stories           Get Crafty     How to Paint Painted Metal   By Alex Smith            Let's Celebrate     How to Paint a Sleigh for Christmas   By Danielle Smyth            Home Sweet Home     Painting Metal Mesh Patio Furniture   By Kimberly Johnson          Video of the Day          Step 2            Sand with an electric sander.\",\n",
       " 'Image Credit:      Jessica Begum      Begin by removing the wheels off your cart if possible, and remove all shelves to be sanded separately.',\n",
       " 'The doors on this cart were removed and discarded.',\n",
       " 'If your cart is heavily rusted, you can remove the rust with rust stripper by following the directions on the bottle.',\n",
       " 'If the cart is lightly rusted, you can simply sand the rust away.',\n",
       " 'Sand the entire surface of the cart with an electric sander.',\n",
       " \"It's a good idea to wear a face mask and safety goggles and make sure you are sanding outdoors.\",\n",
       " \"You'll want to sand in a circular motion for several minutes.\",\n",
       " 'Advertisement          Step 3            Sand until original paint sheen is gone.',\n",
       " \"Image Credit:      Jessica Begum      Related Stories           Get Crafty     How to Paint Painted Metal   By Alex Smith            Let's Celebrate     How to Paint a Sleigh for Christmas   By Danielle Smyth            Home Sweet Home     Painting Metal Mesh Patio Furniture   By Kimberly Johnson    This entire cart, including the shelves, took about an hour of consistent sanding.\",\n",
       " 'It is not necessary to remove all of the old paint.',\n",
       " 'In fact, your final sand result will look blotchy, with some of the primer and even the bare metal showing through.',\n",
       " 'This is fine as long as the initial sheen of the original paint is removed.',\n",
       " 'Advertisement          Step 4            Protect unpainted surfaces.',\n",
       " 'Image Credit:      Jessica Begum      Next, wipe with a damp rag and let dry.',\n",
       " \"You'll now want to protect any surfaces you don't want painted.\",\n",
       " 'This particular cart had a nice vinyl top worth preserving.',\n",
       " 'To do this, simply cut plastic about a half inch smaller than the surface and tape edges down, carefully lining up tape edge with the edge of the cart.',\n",
       " 'Use small pieces of tape at rounder corners, and trim with scissors if necessary.',\n",
       " 'If your cart has the wheels still attached, cover them with plastic and secure with tape.',\n",
       " 'Advertisement            Advertisement          Step 5            Paint three light layers.',\n",
       " 'Image Credit:      Jessica Begum      On a protected outdoor surface, begin spraying the cart with long even strokes of paint.',\n",
       " 'Begin with a light coat and then allow to dry for at least an hour.',\n",
       " 'Then, turn the cart and apply paint to the backside.',\n",
       " 'Allow to dry.',\n",
       " 'The first pass of paint will look blotchy.',\n",
       " 'Continue this process three times.',\n",
       " 'If you are painting the cart two tone like this one, allow the paint to dry overnight before continuing to the next step.',\n",
       " 'Advertisement          Step 6            Cover outside with plastic and tape.',\n",
       " 'Image Credit:      Jessica Begum      The inside of this cart is a different color, so the newly painted outside of the cart needs to be completely covered with plastic (to protect from overspray) and sealed with painters tape.',\n",
       " \"Once you've done this, follow the process above and apply three coats of paint.\",\n",
       " 'Remove the tape and plastic before you allow to dry.',\n",
       " 'This will keep the paint from peeling when dry.',\n",
       " 'Advertisement          Step 7            Allow to dry for one week before heavy use.',\n",
       " 'Image Credit:      Jessica Begum      Before putting the shelves and wheels back on your cart, let the paint dry for about a week in a protected area such as a garage.',\n",
       " 'Then, reassemble shelves and wheels and your cart is ready to use!',\n",
       " 'Advertisement',\n",
       " \"Things You'll Need   Phillips screwdriverThermocoupleAdjustable wrenchA Trane gas furnace has a thermocouple that is attached to the pilot light.\",\n",
       " 'The job of the thermocouple is to sense whether or not there is a flame and to stop the flow of gas if there is not a flame.',\n",
       " 'The thermocouple attaches to a fitting on the gas line at one end and to the pilot light orifice at the other.',\n",
       " 'Replacing the thermocouple on a Trane gas furnace is accomplished in less than half an hour.',\n",
       " 'Advertisement          Step 1   Shut off the gas supply to the furnace using the main gas shutoff valve or a shutoff valve that is closer to the furnace, if one is available.',\n",
       " 'Video of the Day          Step 2   Remove the access panel from the front of the furnace using a Phillips screwdriver.',\n",
       " 'Advertisement      Related Stories           Home Sweet Home     How to Replace a Thermocouple in a Ruud   By Doug Hewitt            Home Sweet Home     Honeywell Thermocouple Replacement Instructions   By Karleigh Spears            Home Sweet Home     How to Remove a Schlage Deadbolt That Has No Visible Screw Heads   By Brad Maddy        Step 3   Locate the thermocouple which is attached to the pilot light.',\n",
       " 'Trace the thermocouple to where it attaches to the gas line.',\n",
       " 'Step 4   Unfasten the fitting of the thermocouple by turning it counterclockwise with an adjustable wrench.',\n",
       " 'Advertisement          Step 5   Pull out the other end of the thermocouple from the pilot light once the gas line end has been completely removed.',\n",
       " 'Step 6   Stick the steel tube end of the new thermocouple into the pilot light where the old one was removed.',\n",
       " 'When you purchase the new thermocouple, ensure that you get the correct length.',\n",
       " 'Advertisement          Step 7   Fasten the fitting on the copper end of the thermocouple to the fitting on the gas line by hand.',\n",
       " 'Ensure that the fitting is attached evenly to avoid cross-threading.',\n",
       " 'Tighten the fitting with an adjustable wrench.',\n",
       " 'Replace the access panel and turn on the gas supply.',\n",
       " 'Relight the pilot light by following the instructions on the particular Trane furnace that you have.',\n",
       " 'Advertisement',\n",
       " 'Bermuda grass is a popular turf species throughout the southern United States.',\n",
       " 'Bermuda grass is a popular turf species for lawns and sports fields throughout the southern United States.',\n",
       " 'Bermuda grass is a vigorous, sod-forming perennial that can spread with seeds, stolons and rhizomes.',\n",
       " 'It prefers daytime temperatures between 95 and 100 degrees Fahrenheit and will suffer if temperatures fall below 30 degrees Fahrenheit.',\n",
       " 'Bermuda grass is also known for an ability to tolerate saline conditions as well as both acidic and alkaline soils but performs best withing a certain pH range.',\n",
       " 'Properly applied lime may be used to raise the pH of acidic soils.',\n",
       " 'Advertisement          Determing if Lime Is Necessary   Getting soil tested is necessary to determine whether or not lime is necessary and how much should be used.',\n",
       " 'According to Richard L. Duble, a turfgrass specialist with the Texas Cooperative Extension, Bermuda grass is tolerant of a broad soil pH range.',\n",
       " 'However, it performs optimally if the pH is between 6.5 and 8.',\n",
       " 'Soils with a pH below 6.5 should be treated with limestone according to test result recommendations.',\n",
       " 'Advertisement      Related Stories           Home Sweet Home     How to Calculate Lime Per Acre on a Pasture   By Allison Travis            Home Sweet Home     What Type of Lime Will Kill Weeds?',\n",
       " 'By Megan Martin            Home Sweet Home     The Best Weed Control for Centipede Grass   By Angela Ryczkowski          Video of the Day          Spring Fertilization   Lime should only be applied if a soil sample analysis suggests adding lime to raise the soil pH.',\n",
       " 'It may not be necessary to apply lime annually.',\n",
       " 'The lime can be applied about three weeks after the lawn completely greens up for the season.',\n",
       " 'Although the dates of green-up vary between locations, lawns in South Carolina are typically ready to be treated with lime in mid-spring.',\n",
       " 'Advertisement          Before Planting   Lime can be applied before seeding a new lawn or field.',\n",
       " 'If a soil sample analysis finds that the pH should be raised for optimal growth, supply the lime necessary to raise soil pH to within the desired range for Bermuda grass.',\n",
       " 'Fertilizer and lime can be broadcast over the field and incorporated into other seedbed-preparing tillage operations.',\n",
       " 'Advertisement          Problems With Excess Lime   Although Bermuda grass lawns will likely not immediately suffer if too much lime is added, possible long-term effects should be taken into consideration.',\n",
       " 'Over-liming will raise the soil pH and increase levels of calcium and magnesium.',\n",
       " 'A high pH can tie up phosphates and elements like boron, iron, copper, manganese and zinc.',\n",
       " 'Advertisement',\n",
       " \"Things You'll Need   Putty knifeCaulking adhesiveSponge         Fix your shower door as soon as you detect a problem.\",\n",
       " 'Image Credit:      Stockbyte/Stockbyte/Getty Images      If you have noticed that the glass in your shower door is coming away from the metal frame, it is important to fix the problem immediately.',\n",
       " 'Once the glass comes loose from the metal frame and once the adhesive releases its grip, the glass will continue to detach from the frame.',\n",
       " 'Falling glass is a serious safety hazard, so take care of this problem as soon as you can.',\n",
       " 'Advertisement          Step 1   Wiggle the glass gently in the frame to see if it will come out the rest of the way.',\n",
       " 'If one corner of the glass is coming free, there is a good chance that the rest will as well.',\n",
       " 'If only one corner or side is loose, work with the glass still in the metal frame.',\n",
       " 'Video of the Day          Step 2   Pry out any old adhesive with a putty knife.',\n",
       " 'This ensures a better seal between the metal and the glass.',\n",
       " 'Advertisement      Related Stories           Home Sweet Home     How to Remove a Sliding Patio Door With Vinyl Siding   By Elizabeth Knoll            Home Sweet Home     How to Measure Glass for a Window   By Michele M. Howard            Home Sweet Home     How to Clean Non-Glare Glass in Picture Frames   By Cat McCabe        Step 3   Squirt a small amount of caulking adhesive into the metal frame where the glass sits.',\n",
       " 'While you can do this with a tube of caulking adhesive, it is easier if you have the caulking adhesive mounted in a caulk gun.',\n",
       " 'Step 4   Push the glass back into the metal frame and hold it there for a full minute to allow the adhesive to take hold.',\n",
       " 'Advertisement          Step 5   Scrape any stray adhesive off the metal door using your putty knife and wipe up any residue with a damp sponge.',\n",
       " 'Step 6   Allow the caulking adhesive to cure completely.',\n",
       " 'The amount of time this takes is listed on the packaging.',\n",
       " 'During this time, do not move the door or use the shower.Tip Tape the area around the metal frame to make the caulk cleanup easier.Warning Be very careful when working with glass.',\n",
       " 'Make sure that your hands are perfectly dry and keep children away from the area.',\n",
       " 'Advertisement',\n",
       " '1 of 22             Easy Ways to Clean and Combat Odors with Baking Soda       When it comes to cleaning, there are two things that we feel every home should have: vinegar and baking soda.',\n",
       " 'While vinegar has some serious cleaning super powers, baking soda is no slouch when it comes to adding sparkle to your home.',\n",
       " 'You might be pleasantly surprised by the many ways baking soda can clean and deodorize everyday items.',\n",
       " 'Image Credit: Jessica Kielman                2 of 22             Baking Pans       Burned food on baking pans is no joke!',\n",
       " 'This easy method comes to the rescue – without using harsh chemicals.',\n",
       " \"Image Credit: Jessica Kielman                3 of 22             Toilet Bowl Hard Water Stains       Over-the-counter cleaners don't always combat hard water stains.\",\n",
       " 'This homemade concoction will.',\n",
       " \"Image Credit: Jessica Kielman                4 of 22             Coolers       Grabbing food and drinks from a dirty, smelly cooler just isn't appetizing.\",\n",
       " 'Say goodbye to germs with this cleaning method.',\n",
       " 'Image Credit: Jessica Kielman                5 of 22             White Sinks       Because white sinks can stain and scratch easily, this natural cleaner will become your favorite kitchen sidekick.',\n",
       " 'Image Credit: Jessica Kielman                6 of 22             Kitchen Cabinet Doors       Built up grease and grime is no good for wood.',\n",
       " \"You've got to keep those cabinets clean.\",\n",
       " \"We've got two methods: one gentle, one more aggressive depending on you situation.\",\n",
       " 'Image Credit: Debbie Williams                7 of 22             Melted Plastic on a Stovetop       That plastic bag got a little too close to your stovetop?',\n",
       " 'No worries – this melted mishap is easily solved with this baking soda trick.',\n",
       " 'Image Credit: Jessica Kielman                8 of 22             Jewelry       With just a few ingredients from your pantry, you can clean your jewelry in less than 20 minutes!',\n",
       " 'Image Credit: Jessica Kielman                9 of 22             Grout       While vinegar may be the main ingredient in this tutorial, baking soda gives it that extra power to lift and wipe away stains.',\n",
       " 'Image Credit: Jessica Kielman                10 of 22             Slow Cookers       This tutorial takes the headache out of cleaning your slow cooker and leaves it sparkling clean.',\n",
       " 'Image Credit: Jessica Kielman                11 of 22             Oven Racks       This hassle-free method should be done every few months to keep oven racks from becoming stained and rusty.',\n",
       " 'Image Credit: Jessica Kielman                12 of 22             Dishwasher       Clean and deodorize your dishwasher at least once a month to ensure it runs properly and gets your dishes squeaky clean.',\n",
       " 'This natural solution will help.',\n",
       " 'Image Credit: Jessica Kielman                13 of 22             Toilet Cleaning Pods       Let these three ingredient homemade toilet bowl cleaners do the work for you in between those deep cleanings.',\n",
       " 'Image Credit: Jessica Kielman                14 of 22             Mattress Deodorizer       This DIY deodorizer combats smells and leaves mattresses clean and fresh.',\n",
       " 'Sweeter slumbers await!',\n",
       " 'Image Credit: Jessica Kielman                15 of 22             Washing Soda       When you want to lift stubborn stains from your laundry, try using washing soda.',\n",
       " 'We\\'ll show you how to \"bake\" your baking soda to make this chemical compound.',\n",
       " 'Image Credit: Jessica Kielman                16 of 22             Laundry Detergent Pods       Using that aforementioned washing soda, you can now make your own laundry pods that are safe for all washing machines.',\n",
       " 'And will get your clothes clean.',\n",
       " 'Image Credit: Jessica Kielman                17 of 22             Tile Floors       No one wants to walk barefoot on a dirty floor.',\n",
       " 'This homemade floor cleaner is here to help.',\n",
       " 'Image Credit: Jessica Kielman                18 of 22             Irons       Combat dirt and calcification buildup on your iron with this easy trick.',\n",
       " 'And try to do it once a month to prolong its life.',\n",
       " 'Image Credit: Jessica Kielman                19 of 22             Outdoor Grills       We all know how grills can get really, really dirty.',\n",
       " 'Before your next backyard BBQ, be sure to scrub it clean!',\n",
       " \"Image Credit: Jessica Kielman                20 of 22             Refrigerators       Stains and odors don't stand a chance with this natural solution.\",\n",
       " 'Image Credit: fuzzbones0/iStock/GettyImages                21 of 22             Bathrooms & Kitchens       Try out this homemade soft scrub cleaner on sinks, bathtubs, scratched dishes, pots and pans, and even your stovetop!',\n",
       " 'Talk about a VIP cleaner.',\n",
       " 'Image Credit: Jessica Kielman                22 of 22             Smelly Drains       Our sister site, Hunker, has a genius non-toxic cleaning method for keeping sink drains fresh and free of odors.',\n",
       " 'Image Credit: Michele Andersen             Advertisement',\n",
       " 'nan',\n",
       " 'While a filter-cleaning agent is often recommend to effectively clean buildup on a spa filter, there are other options.',\n",
       " 'A homemade cleaning formula can just as effectively degrease the oils and remove calcium deposits from the filter.',\n",
       " 'And if the filter has excessive amounts of mineral deposits or algae growth, a strong acidic formula is more useful than commercial filter-cleaning products.',\n",
       " 'Advertisement          Basic Cleaning   Spa manufacturers recommend cleaning the filter regularly -- as often as every two weeks -- to prevent residue buildup.',\n",
       " 'For a regular cleaning, hosing the filter down with water is sufficient to remove most dirt and other sediment.',\n",
       " 'Spray the filter from the top to the bottom so any dirt flows down.',\n",
       " 'Work between the pleats to dislodge all stuck dirt.',\n",
       " 'Advertisement      Related Stories           Home Sweet Home     How to Easily Clean an Intex Pool Filter   By Melody Dawn            Home Sweet Home     How to Clean a Hydraulic Filter   By Carole Ellis            Home Sweet Home     How to Remove a Hayward Pool Filter Lid   By Johnathan Cronk          Video of the Day          Oils   Buildup of body oils and suntan lotions on the filter may require a more intensive cleaning.',\n",
       " 'Prepare a solution of 1 cup of trisodium phosphate and 5 gallons of water in a bucket, or mix a solution of 1 cup of dishwashing liquid and 5 gallons of water.',\n",
       " 'Place the filter directly in the bucket and soak it overnight.',\n",
       " 'Rinse the filter well the next day to remove the soap or the chemical.',\n",
       " 'If the filter still has oil on it, soak it again overnight in one of the solutions.',\n",
       " 'Advertisement          Minerals and Other Buildup   Tackle mineral buildup or a coating of algae on the filter with an acidic solution.',\n",
       " 'Mix 1 part muriatic acid with 6 parts water.',\n",
       " 'Be sure to add the acid to the water, not the water to the acid, as splashing acid can cause severe burns.',\n",
       " 'Soak the filter in the acid until it stops bubbling.',\n",
       " 'Rinse the filter thoroughly to remove all traces of the acid.',\n",
       " 'Advertisement          Tips and Warnings   Do not use diatomaceous earth to clean a filter cartridge; the powder may become trapped in the filter and damage it or make it less effective.',\n",
       " 'If any oils or mineral deposits remain on the filter, it may restrict the water flow through the filter and prevent it from working effectively.',\n",
       " 'Ensure that the filter is completely clean before reinstalling it in the spa.',\n",
       " 'Always wear gloves and eye protection when handling muriatic acid.',\n",
       " 'Advertisement',\n",
       " 'All you need to make your own oil lamp wicks is some heavy cotton yarn.',\n",
       " 'The wick is the most important part of any candle or oil lamp because, without it, the lamp or candle would not burn.',\n",
       " 'Generally, wicks are made of bundled fibers which draw the oil from the oil lamp toward the flame to be used as fuel to keep the flame burning.',\n",
       " 'While it is easy to purchase oil lamp wicks at your local craft store, making them yourself can be an enjoyable project.',\n",
       " 'When it comes to wicks, there are several methods and patterns to try out.',\n",
       " 'Advertisement          Basic Braided Wicks   To make a basic, braided wick you will need three strips of heavy cotton yarn or string cut to the desired length of your wick.',\n",
       " 'Mix 2 tablespoons of salt with 1 tablespoon of boric acid in a cup of water and soak your cotton yarn in this mixture for at least 12 hours.',\n",
       " 'After the cotton has soaked, lay it on a flat surface outside to dry in the sun.',\n",
       " 'Finally, braid the three strips of cotton together to create your oil lamp wick.',\n",
       " 'Advertisement      Related Stories           Get Crafty     How to Make Homemade Candle Wicks   By Racheal Ambrose             Home Sweet Home     How to Make Replacement Tiki Wick Cotton Rope   By Susan Elliott            Get Crafty     How to Make a Homemade Wick   By Jessica Westover          Video of the Day          Square Braided Wicks   Square braided wicks are thicker and last longer than basic braided wicks.',\n",
       " 'To create one, soak two long strips of cotton yarn in the same mixture of water, salt and boric acid and dry them outdoors.',\n",
       " 'To begin the braid, wrap the middle of one string twice around your finger, making two loops, then pass the end of the other string through the loops up to the middle of the string.',\n",
       " 'Take the right end of the second string and weave it over the right loop and through the left then weave the other end of the string over the left loop and through the right from the opposite direction.',\n",
       " 'Remove the loops from your finger, pull the knots tight then take the left and right strands and lay them over top of the completed stitches to form two new loops.',\n",
       " 'Use the remaining two strings to weave over and under the loops as you did before.',\n",
       " 'Continue weaving in this pattern until the wick reaches the desired length.',\n",
       " 'Advertisement          Priming Homemade Wicks   To be sure your oil lamp wick burns properly, it is wise to prime it before use.',\n",
       " 'Priming homemade wicks is as simple as soaking them in hot, melted wax.',\n",
       " 'Soak the wicks until they are completely saturated and begin to release air bubbles.',\n",
       " 'Once the wicks are saturated in wax, remove them and dip them in water to cool the wax.',\n",
       " 'Lay the wicks flat on a piece of paper and blot away any excess moisture with a piece of paper towel.',\n",
       " 'The wicks should be hard and dry in less than a minute.',\n",
       " 'Advertisement          Using Homemade Oil Lamp Wicks   Each oil lamp is bound to be different, but you should be able to install your homemade wick by removing the globe — the protective glass casing — to expose the wick holder.',\n",
       " 'Unscrew the wick holder, remove the old wick and replace it with one of your homemade wicks.',\n",
       " 'After screwing the wick holder back in place, adjust the wick so no more than 1/2 inch of it is exposed.',\n",
       " 'Exposing too much of the wick will produce more smoke than light, and if the wick is not exposed enough, the light it produces will not be very bright.',\n",
       " 'To use your lamp, light the wick and carefully replace the globe.',\n",
       " 'Adjust the height of the wick as it burns.',\n",
       " 'Advertisement',\n",
       " \"Things You'll Need   25-foot-long retractable tape measurePenPaperPlants         Planting a vine to grow up an electrical pole is not an option.\",\n",
       " 'Looking out your back window or patio doors, you want a pleasant view of plants and the surrounding terrain.',\n",
       " 'Utility poles may bring modern conveniences to the neighborhood, but they certainly can look ugly and detract from otherwise fantastic vistas.',\n",
       " 'Hiding the stark, barren vertical poles is somewhat challenging, as it requires landscape design planning, time and a budget to purchase large-sized plant materials.',\n",
       " 'Safety and code-enforcement issues also must be considered.',\n",
       " 'Advertisement          Step 1   Contact your local government and utility company to learn about any code or maintenance standards regarding the electrical posts.',\n",
       " 'Ask about the distance requirements regarding the planting of trees near the posts.',\n",
       " 'A municipality may have codes that limit what tree species or mature plant heights are acceptable to plant.',\n",
       " 'The utility company can tell you how close a branch or plant may be to the pole before its maintenance crews prune it to protect their utility pole and wire property.',\n",
       " 'Write down these requirements.',\n",
       " 'Advertisement      Related Stories           Home Sweet Home     Decorative Ways to Hide Electrical Poles   By Rosallee Scott            Home Sweet Home     How to Hide an Electric Pole in a Backyard   By Marie Roper            Home Sweet Home     How Far Apart Do You Plant the Green Giant Arborvitae?',\n",
       " 'By Keith Allen          Video of the Day          Step 2   Look out to the electrical pole from every window and primary activity area in the back yard, including the patio or picnic area.',\n",
       " \"Note where the view of the electrical pole is most offensive so you'll know where you need to landscape to improve your backyard experience.\",\n",
       " 'Step 3   Recruit a family member or friend to act as a model to gauge where a screening tree would be most effective in blocking the view of the electrical pole from several vantage points.',\n",
       " 'Give him the retractable tape measure.',\n",
       " 'While standing at the house or patio, send the person to stand at the back of your property line, representing the trunk of the potential tree.',\n",
       " 'Have him move as needed to get a sense of where the tree would need to be to block the electrical pole from most, if not all, of the primary vantage points you are looking from.',\n",
       " \"Use the tape measure to pinpoint locations, or to help you visualize the width of a tree's branch canopy needed for the best screening effect, and record these locations.\",\n",
       " 'Advertisement          Step 4   Write down any figures regarding how wide the plant must be for good screening, combining these with the code requirements regarding acceptable heights and tree species you obtained earlier.',\n",
       " 'These notes and numbers will help you choose from the numerous plants available at a nursery.',\n",
       " \"Remember to consider the plant's mature size, growth rates and any ornamental features along with its screening ability.\",\n",
       " 'Advertisement          Step 5   Visit the local plant nursery and look for evergreen plants that will potentially block the view of the electrical post.',\n",
       " \"Avoid deciduous plants unless you don't mind seeing the utility post in winter months.\",\n",
       " 'Either a singular large tree -- or a tree that will grow and mature to an appropriate size -- or multiple narrow, upright shrubs or trees may be used to create a visual screen to block the view of the electrical post.',\n",
       " 'Advertisement          Step 6   Plant the trees an appropriate distance from the electrical pole on your property, as advised by local code, the utility company or the nursery.',\n",
       " 'Do not buy a tree that grows so fast or large that constant pruning maintenance is needed, causing the tree to become a nuisance or financial burden.Tip Narrow-habit shrubs or trees, sometimes described as being fastigiate or columnar by horticulturists, are best to block vertical electrical posts.',\n",
       " 'Upright arborvitae, for example, focus their growth vertically, blocking your view of a pole without taking away too much horizontal space in the backyard.If you are certain you want a specific tree species or a certain size, talk to the nursery staff.',\n",
       " \"It's likely they can contact their wholesale grower to obtain a tree or shrub that is already large or at a price to suit your budget.Warning Do not plant vines under the pole to climb up and mask it.\",\n",
       " 'Such plants are killed with chemical herbicides or constantly pruned off to keep utility poles clean by the maintenance crews.',\n",
       " \"Always plant screening plants on your property -- not on others' private property or in a public right-of-way.Larger trees or shrubs cost much more than those that are younger and smaller.\",\n",
       " 'Although planting a larger shrub or tree instantly blocks the view of the electrical pole, more cost is incurred in purchase, transportation and planting labor on bigger plants, especially those with massive, heavy root balls.',\n",
       " 'Larger plants require more watering and care to ensure their roots reestablish more thoroughly the first two to three years after planting.',\n",
       " 'There is more risk of winds toppling a large plant, or the effects of drought causing dieback on larger plants with limited root systems.',\n",
       " 'Advertisement',\n",
       " \"Things You'll Need   NewspaperCoarse-bristled brushDry powdered cement mixBroom and dust panDish soap         Clean your fryer with care as spills take time to clean.\",\n",
       " 'A fryer grease spill is never pleasant to clean up, but if it spills on cement, it creates a rather frustrating problem.',\n",
       " 'Cement is a porous surface full of tiny holes for grease to seep into, making this stain challenging to remove.',\n",
       " 'Rather than dealing with an ugly and highly noticeable grease stain serving only as a reminder of clumsiness, eliminate the stain with a few household items and no one will ever know it even happened.',\n",
       " 'Advertisement          Step 1   Blot up fresh grease with newspapers.',\n",
       " 'Use a coarse-bristled brush to loosen dried grease from the cement.',\n",
       " 'Video of the Day          Step 2   Cover the entire stain with dry powdered cement mix.',\n",
       " 'Step 3   Leave the stain covered for 24 to 48 hours to allow the dry cement powder to absorb the grease.',\n",
       " 'Advertisement      Related Stories           Home Sweet Home     How to Get a Hot Chocolate Stain Off Cement   By Racheal Ambrose             Home Sweet Home     How to Get a Set Stain Out of a Couch   By Alicia Bodine            Home Sweet Home     How to Unclog Grease From a Sink   By Amy Kingston        Step 4   Clean up the powdered cement with a broom and dustpan and discard it.',\n",
       " 'Step 5   Pour hot water onto any leftover stain and drizzle grease cutting dish soap liberally over the area.',\n",
       " 'Step 6   Scrub the area with the hot soapy water and a coarse-bristled brush.',\n",
       " 'Step 7   Rinse the area off with clean water and allow it to dry.',\n",
       " 'If the stain is still there, repeat the process until it is gone.Tip Clean clay kitty litter and sawdust are effective substitutes for dry powdered cement.If the stain is outside and rain is a possibility, cover the stain with plastic to avoid getting the absorbent get wet.',\n",
       " 'Advertisement',\n",
       " 'Stove pipe must change to chimney pipe when it enters the wall.',\n",
       " 'Image Credit:      Jupiterimages/Photos.com/Getty Images      Double wall chimney pipes are designed to protect buildings from high temperatures generated by some heating appliances.',\n",
       " 'These pipes only need a 2-inch clearance to combustibles because they remain cool on the outside, while their internal design allows them to withstand temperatures as high as 1,700 or 2,100 degrees Fahrenheit for a limited time.',\n",
       " 'Advertisement          Pipe Types   Some homeowners are confused about the difference between chimney pipe and stovepipe.',\n",
       " \"Both types of pipe are available as double wall, but stovepipe can't withstand the same high temperatures that chimney pipes are designed to tolerate.\",\n",
       " 'It can become even more confusing when you start talking about flue vents, which are a type of thin-walled metal chimney used to vent oil or gas appliances.',\n",
       " 'Double wall flue vents are also available.',\n",
       " 'Advertisement      Related Stories           Home Sweet Home     What Kind of Stove Pipe Should Be Used for Wood Burning Stoves?',\n",
       " 'By Cynthia Myers            Home Sweet Home     What Type of Pipe Is Used for a Sewer Line?',\n",
       " 'By Steve Sloane            Home Sweet Home     What Causes a Chimney to Sweat?',\n",
       " 'By Sebastien Rocheleau          Video of the Day          Class A   Double wall chimney pipe is made from galvanized or stainless steel with some kind of insulation, such as fiberglass or asbestos, packed between the walls.',\n",
       " 'Unlike stovepipe, it can pass through walls and ceilings.',\n",
       " 'Class A chimney pipe is used to vent fireplaces, boilers and furnaces that burn oil, wood or coal, and must meet Underwriter Laboratory standards for factory built chimneys.',\n",
       " 'This standard, which is known as UL 103 mandates that Class A chimneys be designed to operate at a continuous temperature of 1,000 degrees Fahrenheit.',\n",
       " 'In addition, the chimney must be able to run for one hour at 1,400 degrees Fahrenheit and pass three ten-minute chimney fire tests at either 1,700 or 2,100 degrees Fahrenheit, depending on their rating.',\n",
       " 'Advertisement          Flue Vents   Type B double wall flue vents are used to vent gas appliances that produce flue gases no higher than 480 degrees Fahrenheit, while L-vents usually vent oil furnaces that produce gases no higher than 570 degrees Fahrenheit.',\n",
       " 'B-vents must never be used with anything except LP or natural gas.',\n",
       " 'Some manufacturers state that their L-vents are tested to withstand a 10-minute fire at 1,700 degrees.',\n",
       " 'Advertisement          Stove Pipe   Double wall stovepipe is used to connect wood burning stoves to the chimney and is only meant to be used in the same room where the stove is located.',\n",
       " \"Since building codes don't allow it to pass through a wall or a ceiling, it has to be converted to class A chimney pipe when it reaches the wall or ceiling.\",\n",
       " \"Double wall stovepipe is made with a stainless steel inner wall and a steel outer wall that's painted black.\",\n",
       " 'It uses air to insulate the second wall, which improves draft and efficiency.',\n",
       " 'Advertisement',\n",
       " \"Things You'll Need   Finials4 wood to machine double-ended screws4 nuts8 washersDrillScrewdriverCrescent wrench4 PVC end capsEpoxy or other metal to plastic glueHammerTowelSmall block of woodSpray paint         Baseballs make fun bedpost finials for a sports-themed room.\",\n",
       " 'Give an old iron bed renewed life with a new set of finials.',\n",
       " 'Those ornate knobs that adorn the posts of iron beds are often the first casualties of pillow fights or moving day.',\n",
       " \"With a little imagination and ingenuity, you can replace finials, but think about ditching the ho-hum plain one for an ornate or whimsical one to make add to the bed's decor.\",\n",
       " 'If you are not particularly concerned about authenticity, consider decorative curtain rod finials, wooden toys, toy blocks, baseballs, drawer pulls or just about anything that strikes your fancy.',\n",
       " 'Advertisement          Step 1            Spray paint your bed frame for a fresh look.',\n",
       " 'Spray paint the bed frame in the color of your choice if the finish is worn or you want a new look.',\n",
       " 'Prepare it first by sanding or filing sharp-edged nicks.',\n",
       " 'Measure the diameter of the bedposts and purchase four PVC end caps to fit.',\n",
       " 'Test the fit by pushing the cap 1/2 inch onto the bedpost.',\n",
       " 'Remove the cap.',\n",
       " 'Advertisement      Related Stories           Home Sweet Home     How to Repair a Loose Iron Railing   By Mark Morris            Home Sweet Home     How to Make a Slat Platform Bed Stop Squeaking   By Amy Lukavics            Home Sweet Home     How to Make a Deck Post Taller   By Jonah Morrissey          Video of the Day          Step 2   Mark the exact center of the end caps.',\n",
       " 'Drill a hole just large enough for the machine end of the screw to fit through.',\n",
       " 'Spray paint the caps to match the bed posts.',\n",
       " 'Allow caps to dry completely.',\n",
       " 'Step 3   Prepare the finial by drilling a small pilot hole and inserting the wood screw end of the double-ended screw.',\n",
       " 'Screw it in until the finial is at the edge of the machine screw threads.',\n",
       " 'Pliers help here, or put a nut on the other end and use the crescent wrench as a handle.',\n",
       " 'Advertisement          Step 4   Secure the finial to the end cap using washers and nuts.',\n",
       " 'You may need to add more washers for a snug fit.',\n",
       " 'If they will show, spray paint the washers before attaching them.',\n",
       " 'Step 5   Skip the epoxy or glue if the caps will fit tightly without it; otherwise, mix and apply epoxy as directed on package.',\n",
       " 'Slip the caps over the bedposts.',\n",
       " 'Use a hammer and a small block of wood wrapped in a towel to tap it firmly into place.',\n",
       " 'Immediately wipe off any excess epoxy.',\n",
       " 'Step back and admire your handiwork quickly before they inevitably turn into a place to hang clothes.Tip You can find quick tutorials on the Internet that show you how to find the exact center of a circle.If the cap is a tight fit, test fit only half and inch or so on the bedpost, otherwise you can spend hours working it back off the post.Leave off the glue if the caps fit tightly and you think you might want to change them out one day.Warning If your bed is a valuable antique, replace the finials with authentic pieces.',\n",
       " 'This may require a professional.Check with an antiques expert before you attempt to refinish the bed because doing so may diminish its value.',\n",
       " 'Advertisement',\n",
       " 'Create a lush and colorful flower garden by planting fast-spreading perennials.',\n",
       " 'Image Credit:      Tatsiana Niamera/iStock/GettyImages      Fast-spreading perennials will quickly fill in an area, sometimes even choking out surrounding plants.',\n",
       " 'For the impatient gardener who wishes to start perennials from seed, these are some of the best -- because as long as the conditions are right, they will germinate and begin to grow in 30 days or less.',\n",
       " 'Most perennials take two to three years before they will flower when started from seed.',\n",
       " 'These perennials will flower between 12 to 20 weeks from the time the seeds begin to sprout.',\n",
       " 'Advertisement      Rapid Ground Cover There are a number of fast-spreading perennial groundcovers that, if not kept in check, will literally take over an area.',\n",
       " \"Common periwinkle (\\u200bVinca minor\\u200b, USDA zones 4-9), bugleweed (\\u200bAjuga reptans\\u200b, zones 3-10) and lamb's ears (\\u200bStachys byzantina\\u200b, zones 4-9) are practically unstoppable once established.\",\n",
       " \"Advertisement      Related Stories           Home Sweet Home     Flowers to Plant in West Texas   By Erin Maurer            Home Sweet Home     How to Care for a Cannis Flower   By Calendi Svihula            Home Sweet Home     How to Grow Protea Plants   By Sarah Morse          Video of the Day      Digging and removing the plants is the best way to get rid of the ones you don't want.\",\n",
       " 'These plants do a good job of choking out weeds.',\n",
       " 'Plant these ground covers in an area of your garden with established plants, such as trees or shrubs, because they may spread too aggressively in your fast-spreading flower garden.',\n",
       " 'Advertisement      Low-Growing Perennial Edging Using fast-spreading perennials is a great way to establish a floral low-growing perennial border.',\n",
       " \"Choose low-growing plants so they don't hide the plants growing behind them.\",\n",
       " 'Advertisement      Sea thrift (\\u200bArmeria maritima\\u200b, zones 4-8) reaches a mature height of 6 to 12 inches.',\n",
       " 'Alpine aster (\\u200bAster alpinus\\u200b, zones 5-7) also reaches a mature height of 6 to 12 inches.',\n",
       " 'Cheddar pinks (\\u200bDianthus\\u200b spp., zones 4-9) reach a mature height of 12 inches.',\n",
       " 'Many of these plants will self-sow, in addition to spreading by underground roots.',\n",
       " 'Advertisement      Perennials for Center of Garden The center of the perennial flowerbed is fairly easy to access throughout most of the gardening season.',\n",
       " 'Plant fast-spreading perennials that will bloom all season long in this area, since you will easily be able to reach them to remove the faded flowers.',\n",
       " 'This process is known as deadheading.',\n",
       " 'Space these plants far enough apart so they do not overtake one another or the front border.',\n",
       " 'Advertisement      Good choices for the center of a garden area are rose campion (\\u200bSilene coronaria\\u200b, zones 4-10), black-eyed Susan (\\u200bRudbeckia\\u200b spp., zones 3-9) and purple coneflower (Echinacea purpurea, zones 3-8).Perennials for Back-of-the-Border Fast-spreading perennials planted near the back of the garden border can be difficult to access.',\n",
       " \"Some of these perennials will bloom again if you deadhead them, but if you cannot easily get to them, don't worry.\",\n",
       " 'Advertisement      Tall garden phlox (\\u200bPhlox paniculata\\u200b, zones 4-8), delphinium (\\u200bDelphinium\\u200b spp., zones 5-9) and bee balm (\\u200bMonarda\\u200b spp., zones 4-9) are all fast spreaders, especially if the soil conditions are right.A good way to encourage perennials to spread fast is to top dress the soil with 3 inches of compost in early spring.',\n",
       " 'Another way to encourage them to grow faster is to provide regular irrigation.',\n",
       " 'An inch of water per week is ideal.',\n",
       " 'Advertisement',\n",
       " 'Circuit breakers are located inside breaker box, also sometimes called a panel box.',\n",
       " 'A breaker is a circuit interrupt device that will stop the flow of current and voltage when the breaker exceeds its amperage value labeled on the switch itself.',\n",
       " 'For instance if the breaker is listed as 20 amps and more than 20 amps is being drawn from the circuit, it will trip and disconnect the power.',\n",
       " 'This prevents the wires from overheating and melting, causing shorts or fire.',\n",
       " 'Advertisement          Two Pole Breakers   A two pole breaker takes up two spaces in the electrical panel.',\n",
       " 'It feeds power to two wires connected to the breaker from each phase.',\n",
       " 'Individually the wires carry 110 volts each.',\n",
       " 'If measured together they carry 220 volts.',\n",
       " 'There are two kinds of double pole breakers, internal and external trip.',\n",
       " 'Both breaker types are considered common trip breakers because if one leg trips the other is forced off as well.',\n",
       " 'Advertisement      Related Stories           Home Sweet Home     Independent vs. Common Trip Circuit Breaker   By Fraser Sherman            Home Sweet Home     How to Wire a Double-Pole Three-Way Switch   By JOHN S            Home Sweet Home     What Is the Purpose of a Fuse?',\n",
       " 'By Dave Donovan          Video of the Day          Two Pole Breakers With One Switch   A two pole breaker that has only one switch is called an internal trip breaker.',\n",
       " 'The two phases disconnects are tied together inside the breaker itself so that if one phase trips it kills power to both.',\n",
       " \"Because the two phases are tripped inside the breaker, it's considered an internal trip.\",\n",
       " 'Resetting the single switch will reset both phases inside of the breaker.',\n",
       " 'Advertisement          Two Pole Breaker With Two Switches   A two pole breaker with two switches is an external trip breaker.',\n",
       " 'There is a clip binding the two switches together, either plastic or metal.',\n",
       " 'If one of the phases trips, the switch on that phase will move toward the off position of the switch and force the second breaker off via the clip connecting them.',\n",
       " 'Because the action of turning off the second phase happens outside of the breaker via the connection clip, it is considered an external trip.',\n",
       " 'Advertisement          QO/QC and Homeline Models   A two pole one switch breaker is the more expensive QO/QC model.',\n",
       " 'The two pole two switch breaker is the Homeline model.',\n",
       " 'Both will do the same job and have the similar specs.',\n",
       " \"The Homeline model was Square D's attempt to compete with such brands as Siemens and Murry's interchangeable breakers.\",\n",
       " 'Some breakers will fit in other panel brands and models.',\n",
       " \"However, according to the panel-board manufacturer's printed labels, your only supposed to replace breakers with the listed breaker types on the label.\",\n",
       " 'Advertisement',\n",
       " 'nan',\n",
       " \"Things You'll Need   Dropcloths5-gallon buckets (2)Chlorine or oxygen bleachExtension handPaint rollersClothOld clothingPainter's tapeStain-blocking primerPlastic paint trayCeiling paint         Ceilings can make a room look larger, taller or wider.\",\n",
       " 'While ceilings are typically not the first thing you notice about a room, when a ceiling is dirty and stained, it gives the whole room a dingy feel.',\n",
       " 'Ceilings are often neglected because they are difficult to clean and can be easily stained by cooking splatters, smoke and water.',\n",
       " 'Removing ceiling stains requires a few common household items, but cleaning may not remove all the stains from your ceiling.',\n",
       " 'You may need to repaint.',\n",
       " 'Advertisement          Cleaning       Step 1   Remove items from the room or cover them with dropcloths.',\n",
       " 'When cleaning the ceiling, it is not uncommon for the cleaning solution to drip and land on furniture and carpeting.',\n",
       " 'Using dropcloths will prevent possible damage to the items.',\n",
       " 'Advertisement      Related Stories           Home Sweet Home     How to Bleach a Ceiling   By Amanda Flanigan            Home Sweet Home     The Best Solution for Cleaning a Greasy Kitchen Ceiling   By Danielle Smyth            Home Sweet Home     How do I Remove Stubborn Mildew Stains From a Bathroom Ceiling?',\n",
       " 'By Amanda Flanigan          Video of the Day          Step 2   Mix 2 gallons of water and 1 1/2 cups of chlorine bleach together with a wooden spoon.',\n",
       " 'For a safer alternative, replace the chlorine bleach with 1 cup of oxygen bleach.',\n",
       " 'Step 3   Attach an extension handle to a clean paint roller.',\n",
       " 'Dip the paint roller in the bleach mixture and roll it on the ceiling as if you were applying paint.',\n",
       " 'Let the mixture sit on the ceiling for 15 minutes.',\n",
       " 'Alternatively, use a ladder to gain access to the ceiling and scrub the stains with a sponge saturated in the mixture.',\n",
       " 'Advertisement          Step 4   Wipe the mixture off the ceiling with a clean cloth dampened in cool water.',\n",
       " 'Let the ceiling dry completely.',\n",
       " 'Repeat the process until the stains are no longer visible.',\n",
       " 'Covering       Step 1   Wear clothing that can be splattered with paint.',\n",
       " 'Remove items from the room or cover them with dropcloths.',\n",
       " 'Lay dropcloths on the floor to prevent possible damage to items if paint splatters.',\n",
       " \"Advertisement          Step 2   Protect trim and moldings with painter's tape.\",\n",
       " \"Painter's tape provides a small barrier against accidentally rolling or brushing the paint onto windowsills, trim and other areas.\",\n",
       " 'Step 3   Spray a stain-blocking primer on the ceiling.',\n",
       " 'Available in an aerosol can for easy ceiling application, primers will prevent the stains for bleeding through to the paint.',\n",
       " 'Let the primer dry for several hours before continuing.',\n",
       " 'Advertisement          Step 4   Fill a plastic paint tray with ceiling paint.',\n",
       " 'Dip a clean paint roller in the paint and roll it back and forth.',\n",
       " 'Let the excess paint drip off the roller and into the tray.',\n",
       " 'Begin rolling the paint roller over the ceiling back and forth until the ceiling is completely painted.',\n",
       " 'Let the ceiling dry thoroughly before removing dropcloths and returning items to the room.',\n",
       " 'Advertisement',\n",
       " \"Things You'll Need   Replacement flapCordless drill or screwdriver         Flaps on pet doors undergo heavy wear and tear.\",\n",
       " 'Larson is a storm-door manufacturer that offers doors with pet entries already installed.',\n",
       " 'Pet doors are designed for heavy use, but eventually the flap does wear out.',\n",
       " 'Unlike a regular door that we open and close, the flap is dragged along in and out with the pet and thus is subject to wear.',\n",
       " 'As Larson is a well-established company, you can easily order a replacement flap, then install it.',\n",
       " 'Advertisement          Step 1   Order the correct replacement flap.',\n",
       " 'Find the registration number of your Larson door before ordering.',\n",
       " 'Measure the size of the flap.',\n",
       " 'Larson doors have two sizes of pet-door flap, either 10-by-15 inches or 14-by-23 inches.',\n",
       " 'Contact Larson directly by phone or online, or go to your dealer with the information for the part needed.',\n",
       " 'Advertisement      Related Stories           Home Sweet Home     How to Clean a Ball-Bearing Drawer Slide   By Meg Butler            Home Sweet Home     How to Fix a Door That Slams   By C.L.',\n",
       " 'Rease            Home Sweet Home     Ikea Hack: DIY Rustic Cube Shelves   By Shannon Acheson          Video of the Day          Step 2   Locate the screw at the top of the pet door, in the frame just above it.',\n",
       " 'Unscrew the pet door flap.',\n",
       " 'Slide the metal bracket holding the flap down and out of the frame.',\n",
       " 'Step 3   Slip the flap itself out of the metal bracket by sliding it sideways.',\n",
       " 'Discard the old flap.',\n",
       " 'Advertisement          Step 4   Slide the new flap into the bracket by inserting the top edge into the bottom track of the bracket where the pocket for the flap is.',\n",
       " 'Push it through until it is seated evenly at both edges.',\n",
       " 'Step 5   Slide the bracket back up into place in the door frame and secure it with the screw.',\n",
       " 'Advertisement',\n",
       " 'nan',\n",
       " \"Image Credit:      CatLane/E+/GettyImages      When it comes to crafting, clutter isn't necessarily a bad thing—especially if the clutter equates to craft supplies for DIY projects.\",\n",
       " \"That being said, it's still helpful to add some order to the chaos of threads, beads, paint tubes, and pins.\",\n",
       " 'Otherwise, you might have a hard time finding what you need when prepping for your next craft project.',\n",
       " 'No matter if you crochet, paint, sew, or make paper crafts with a Cricut machine, you can add a level of functionality to your craft supplies with storage containers, cabinets, dividers, drawers and bins for the ultimate craft room organization.',\n",
       " 'Advertisement      Not sure where to start?',\n",
       " \"We've got all of your craft storage needs covered with the best craft organizers for art supplies and craft rooms alike.\",\n",
       " 'Video of the Day      What to Consider When Shopping for Craft Organizers \\u200cStorage Space:\\u200c When organizing your craft supplies, the amount of storage space you have to work with is important to consider.',\n",
       " 'This will help inform your organizing approach and allow you to make the most out of the area, whether it be a hall closet, home office or craft space.',\n",
       " 'When shopping for organizers, measure your storage space to ensure larger items such as shelving units, storage cabinets and even pegboards will fit.',\n",
       " 'Advertisement      Related Stories           Get Crafty     Prevent a Tangled Mess With These Handy Thread Organizers   By Beth Huntington            Get Crafty     10 DIY Sewing Storage & Organization Hacks   By Beth Huntington            Get Crafty     Sewing Tables to Fit Every Space and Budget   By Beth Huntington    \\u200cVertical Space:\\u200c In addition to storage space, it also helps to consider what vertical space you can utilize with craft organizers such as pegboards, shelves and wall-mounted organizing solutions.',\n",
       " 'Vertical space is also important to consider if you plan on utilizing storage cabinets or bookshelves with storage bins for craft items such as yarn or fabric.',\n",
       " \"Advertisement      \\u200cCraft Type:\\u200c This isn't the most vital thing to consider—especially since most storage solutions are quite versatile—but it helps to consider the types of projects you work on and how you might organize specific craft supplies, such as spools of thread, skeins of yarn, scrapbooking supplies, vinyl for Cricut projects and acrylic paint.\",\n",
       " 'While you can find many uses for craft organizers, there are some options that work best with certain craft supplies, like a thread rack for spools of thread.',\n",
       " 'Advertisement      Related Stories           Get Crafty     Prevent a Tangled Mess With These Handy Thread Organizers   By Beth Huntington            Get Crafty     10 DIY Sewing Storage & Organization Hacks   By Beth Huntington            Get Crafty     Sewing Tables to Fit Every Space and Budget   By Beth Huntington    \\u200cLifestyle:\\u200c Your crafting lifestyle is also beneficial to think about.',\n",
       " \"For example, if you're someone who likes to have everything out in the open where you can see it, you'll likely want to utilize a pegboard and additional wall-mounted storage plus a rolling storage cart for a more open workspace.\",\n",
       " \"And, if you're someone who prefers to declutter, cabinets with storage solutions like storage bins and storage drawers might be a better choice.\",\n",
       " \"Advertisement      In addition to your workspace storage, it's also helpful to think about whether or not you craft on the go, as there are several ways to stay organized while away from your craft room.\",\n",
       " 'For example, you can purchase carrying cases and tote bags for your sewing machine and Cricut machine with lots of additional pockets and storage features.',\n",
       " 'You can also find backpacks for crochet or knitting on Amazon that keep all of your supplies organized while traveling.',\n",
       " 'Advertisement            Advertisement      \\u200cPrice:\\u200c When shopping for craft storage, price is also helpful to factor in, as things can add up quickly and there are ways to get more bang for your buck.',\n",
       " 'For example, it might be worth investing in a sturdy shelf for sewing supplies, however, you can easily repurpose old sauce jars (spray paint the lids a fun color for added style!)',\n",
       " 'to hold things like bobbins, pins, needles, buttons and more.',\n",
       " \"Advertisement      If you're organizing your entire craft room, creating a budget for your storage solutions can help ensure you don't go overboard and give you plenty of room to get creative with alternative storage containers.\",\n",
       " 'You can do a mix of high- and low-end craft storage, which will not only help you organize all of your craft and art supplies but also add a more personal and unique touch to your craft room organization.',\n",
       " 'Advertisement            Image Credit:      Rhys Hayward/Moment/GettyImages      1.',\n",
       " \"Top Notch Rolling Ribbon And Craft Station      Top Notch Rolling Ribbon And Craft Station   $74.99 at JOANN $83.45 at AmazonIf you don't have a lot of storage space but need something that boasts lots of functionality, you'll find it in the Top Notch Rolling Ribbon And Craft Station.\",\n",
       " 'This storage solution features a rolling cart design with shelves, drawers and compartments, plus multiple rod dispensers for craft supplies such as ribbon and string.',\n",
       " 'The cart is a fantastic storage option for all crafters, especially those who gravitate toward Cricut projects, scrapbooking and paper crafts, and jewelry making.2.',\n",
       " 'ArtBin Desktop Accessory Storage      ArtBin Desktop Accessory Storage   $13.99 at JOANN $16.68 at AmazonFor the Cricut crafter, a tabletop organizer can make your DIY experience much more efficient.',\n",
       " \"We love the ArtBin Desktop Accessory Storage because it's an all-inclusive storage solution for Cricut tools, allowing you to neatly organize your weeding tools, scissors, scrapers, tweezers and spatulas in a way that looks organized but is still completely visible.\",\n",
       " 'The desktop organizer even has enough compartments for storing additional blades so you have them close by when yours starts to dull.',\n",
       " 'Advertisement      3.',\n",
       " '\\u200b\\u200bSimply Tidy™ Jewelry Storage Snap Box      Jewelry Storage Snap Box Simply Tidy™   $11.99 at Michaels The Simply Tidy™ Jewelry Storage Snap Box is an excellent storage solution with lots of versatility, whether you use it to keep DIY jewelry supplies organized or to store your spools of thread.',\n",
       " \"The stackable storage container feature three tiers with 10 compartments each, so you don't have to worry about running out of space, either.\",\n",
       " 'Plus, it fits neatly on a shelf or in a closet for easy storage.4.',\n",
       " '\\u200b\\u200bTOOLF 3-Tier Utility cart, Rolling Storage Cart      TOOLF 3-Tier Rolling Cart   $53.99 at Amazon A rolling storage cart such as the TOOLF 3-Tier Utility cart, Rolling Storage Cart is another great way to keep your craft clutter in order.',\n",
       " \"We love this rolling cart because it's versatile enough for a variety of crafts, doesn't take up too much space, and has functional features like built-in pegboards for added organization.\",\n",
       " 'The cart is available in a gorgeous sage green, light pink, dark gray, and white, too, so you can choose one that not only works for your organizational needs but also one that looks good in your craft room.5.',\n",
       " 'Prefinished White Pegboard, 48 in.',\n",
       " 'H x 24 in.',\n",
       " 'W      Prefinished White Pegboard   $14.99 at The Home Depot Sometimes a simple pegboard is the best craft organizer.',\n",
       " \"The Home Depot's Prefinished White Pegboard is a cheap way to DIY your craft room storage in a way that organizes and displays what you have.\",\n",
       " \"We love it because you can cut it to custom fit any area, it's compatible with most standard pegboard accessories, and it allows for easy, vertical storage, no matter the size of your room.\",\n",
       " 'Additionally, the pegboard can be painted to blend in with your wall or match your home office.',\n",
       " 'This size measures 48 inches high and 24 inches wide.6.',\n",
       " 'The Floral Society Vertical Canvas Wall Organizer      The Floral Society Vertical Canvas Wall Organizer   $152.00 at Food52 For the best art supplies organizer, look no further than this gorgeous Vertical Canvas Wall Organizer from The Floral Society.',\n",
       " 'The organizing solution features lots of functionality but is also super stylish, adding a touch of decor to your creative space.',\n",
       " 'Constructed from durable canvas material, the wall organizer features 23 compartments for a variety of painting tools, including brushes, palette knives and more.',\n",
       " 'In addition to painting, this wall organizer would also work well for creative hobbies like pottery or gardening, with plenty of storage space for all the necessary supplies.',\n",
       " 'Advertisement      7.',\n",
       " 'AROUY Vinyl Storage Organizer      AROUY Vinyl Storage Organizer   $16.99+ at Amazon Cricut crafters know how annoying vinyl can be when it comes to storage.',\n",
       " 'One of the best craft organizers for vinyl is the AROUY Vinyl Storage Organizer, which can be wall-mounted or hung over the door in a space-saving way.',\n",
       " 'The vinyl storage solution features enough compartments to hold 24, 48 or 52 tubes (depending on the size you choose) and is designed to keep each properly rolled up in a neat and tidy manner.8.',\n",
       " 'GERYMU Art Supply Storage Organizer      GERYMU Art Supply Storage Organizer   $15.99+ at Amazon Take your crafting on the go with an art supply caddy.',\n",
       " \"This fabric option from Amazon is our top pick because it's not only ultra-functional, but it doubles as a stylish tote, too.\",\n",
       " 'Whether you need to store your crochet, paint or scrapbooking supplies, this tote bag features enough compartments to keep you organized and allows you to easily transport them as needed.',\n",
       " \"When you're not on the go, the caddy also doubles as a tabletop organizer and can be placed on top of a shelf or in the corner of a craft desk for additional organization needs.9.\",\n",
       " '\\u200b\\u200bJKB Concepts Acrylic Paint Organizer & Storage Set      JKB Concepts Acrylic Paint Organizer & Storage Set   $39.95 at Amazon $39.95 at WalmartBottles of paint can become easily cluttered in a way that looks messy versus intentional.',\n",
       " 'For the best paint storage solution, consider this acrylic steps and paintbrush holder set.',\n",
       " 'Made from durable acrylic material, the brush and paint storage solution can hold up to 45 2-ounce bottles of paint and dozens of brushes, pencils and pens in three separate compartments.',\n",
       " 'As an added bonus, both look fantastic on a shelf or tabletop but also work well behind closed doors for more orderly craft cabinet storage.10.',\n",
       " 'Jaxpety Foldable Sewing Table      Jaxpety Foldable Sewing Table   $95.39 at Wayfair $95.79 at WalmartThose who wish to add a sewing area to their craft room will love the Jaxpety Foldable Sewing Table, which is a space-saving storage solution for sewing projects.',\n",
       " 'The table has enough room to hold your sewing machine with built-in shelves for supplies, including your sewing kit, spools of thread and extra fabric.',\n",
       " 'On top of that, it features an expandable leaf that gives you more room when cutting and sewing larger projects.',\n",
       " 'Prevent a Tangled Mess With These Handy Thread Organizers               by              Beth Huntington                              Sewing Tables to Fit Every Space and Budget               by              Beth Huntington                  Advertisement',\n",
       " 'A scissor lift is sometimes referred to as a table lift.',\n",
       " 'These lifting mechanisms have been in use for many years in the industrial sector and are now common sights in supermarkets and other retail outlets.',\n",
       " 'Because they allow access to a greater height than is reachable by hand, many small businesses are also turning to scissor lifts as useful tools for everyday work.',\n",
       " 'The most common problem is that the lift suddenly refuses to move.',\n",
       " 'Advertisement          Step 1   Check the power supply to the lift including cables, the actual power switch and all the fuses.',\n",
       " 'If the list is stationary and is silent, then there is no power getting through to the lift mechanism.',\n",
       " 'Video of the Day          Step 2   Using a voltage meter to check the power in the motor; motors do not last forever and the motor could have failed.',\n",
       " 'Advertisement      Related Stories           Home Sweet Home     The Power Lift Gate Is Not Working   By Lee Morgan            Home Sweet Home     How to Change the Battery on a Liftmaster 371LM   By Leonardo R. Grabkowski            Home Sweet Home     How to Increase the Speed of a Ceiling Fan   By Misty Barton        Step 3   Close the flow control valve by turning it in a clockwise direction a few times.',\n",
       " 'Test this by pressing the Up button for a few seconds and then pressing Down.',\n",
       " 'Listen carefully.',\n",
       " 'If there is a clicking noise, then the velocity fuse is locked.',\n",
       " 'Step 4   Check the continuity of the coil.',\n",
       " 'If the coil is not working, there could be a problem with the solenoid.Warning Caution should always be taken when working on a scissor lift that is in the upright position, as the lift could suddenly descend.',\n",
       " 'Regular maintenance is always advised and electrical parts should be checked by a qualified electrician.',\n",
       " 'Advertisement',\n",
       " \"Things You'll Need   MaskBlack tarpShovelFungicideInsecticidal soapPrunersTrowelFanPotting soilWaterBleach         Your plants help clean the air in your home, but the presence of mold and mildew can trigger health problems.\",\n",
       " 'It is common to see mold and its partner mildew on plants and in soil.',\n",
       " 'Mildew, a growth produced by molds, can appear ashy, white or blue-green.',\n",
       " 'Mold is a simple form of plant life belonging to the family of fungi.',\n",
       " 'Both appear when conditions are moist to overly wet and when there is a lack of heat and air circulation.',\n",
       " 'Molds are found in outdoor soils, usually in pots, but also in shady, overly crowded areas that retain moisture.',\n",
       " 'Indoor molds and mildew do not hurt plants but can be a problem for people with allergies.',\n",
       " 'Advertisement      Outdoor Removal     Step 1   Put a mask over your mouth and nose if you are sensitive to allergens.',\n",
       " 'Spread the black tarp out in a sunny, open location.',\n",
       " 'Scrape off the top half inch of soil in outdoor beds that have been infected with mold and mildew.',\n",
       " 'This will remove the organisms in the soil that are making mold appear.',\n",
       " 'Advertisement      Related Stories           Home Sweet Home     Diseases & Cures for Schefflera Tree Houseplants   By Audrey Lynn            Home Sweet Home     Elatior Begonia Care   By Michelle Wishhart            Home Sweet Home     How to Get Rid of Mold on a Bee Balm Plant   By Willow Sidhe          Video of the Day          Step 2   Spread the soil out on the tarp and let it dry in the sun for a day.',\n",
       " 'Every two or three hours disturb and redistribute the soil so all the particles are exposed to the heat and light.',\n",
       " 'The sun will kill the mold spores and in turn the mildew.',\n",
       " 'Return the soil to the garden bed after it has \"cooked\" for a day.',\n",
       " \"Advertisement          Step 3   Use a fungicide to spray any foliage in the bed that has mildew on it, following manufacturer's instructions.\",\n",
       " 'To prevent the problem from recurring, prune limbs on trees or shrubs that may be hindering sunlight.',\n",
       " 'Allow a little sun into the garden bed and increase the air movement by removing overcrowded vegetation.',\n",
       " 'Advertisement          Step 4   Look for the presence of aphids or scale insects, which secrete honeydew as a byproduct of their feeding, a sweet substance that will cause sooty mold.',\n",
       " 'This will usually form on foliage, but it can drip onto soil.',\n",
       " 'Get rid of the pests with a safe insecticidal soap, using as directed.Indoor Removal     Step 1   Put on your mask if you are affected by allergens.',\n",
       " 'Scrape off the top surface of the soil where you see mold and dispose of it.',\n",
       " 'Move the plant to a warmer area to dry out the soil.',\n",
       " 'Do not water for a few days or until soil is dry.',\n",
       " 'The presence of mold and mildew indoors indicates too much moisture, which is probably from over-watering.',\n",
       " 'Advertisement          Step 2   Place a fan in the room where the plant is kept.',\n",
       " 'An increase in air circulation will help keep the soil from staying so sodden and giving mold spores an opportunity to grow.',\n",
       " 'Alternatively, you can put the plant outside for two or three days, if it is not too cold for the plant.',\n",
       " 'Step 3   Check the plant for the presence of insects.',\n",
       " 'Ants in the pot can indicate the presence of aphids.',\n",
       " 'Ants and aphids are often together because aphids produce honeydew, which ants love.',\n",
       " 'Honeydew in turn forms sooty mold.',\n",
       " 'You should put the plant in the sink and rinse it off or spray the plant with an insecticidal soap.',\n",
       " 'Some types of scale insects also produce honeydew.',\n",
       " 'Advertisement          Step 4   Look the soil over carefully in a week.',\n",
       " 'If mold and mildew are still present, you will have to re-pot.',\n",
       " 'Before filling the pot with new soil, wash the pot thoroughly in a gallon of water with a tablespoon of bleach.',\n",
       " 'This will kill any spores or disease the pot may still contain.',\n",
       " 'Let the pot air dry completely, then fill with soil and re-pot the plant.',\n",
       " 'Advertisement',\n",
       " 'Steam can become very hot, and can burn and scald the skin.',\n",
       " 'Steam may seem less harmful than hot water, but this is not the case.',\n",
       " 'Steam can cause serious injuries, and taking the correct safety precautions when using any equipment that produces steam is essential.',\n",
       " 'Advertisement          Hazards   The main danger associated with steam is burns or scalding to the skin.',\n",
       " 'Water will scald at 120 degrees Fahrenheit.',\n",
       " 'Another hazard of steam is poor visibility.',\n",
       " 'Steam will \"cloud\" the air, making it difficult to see what you are actually doing, which could lead to other accidents.',\n",
       " 'Steam is still water and steam getting near electrical appliances or plug sockets could lead to an electric shock.',\n",
       " 'If you are working with steam on or near a floor, the risk of slipping or falling also exists.',\n",
       " 'Advertisement      Related Stories           Home Sweet Home     How to Steam Wrinkled Silk Curtains   By Antonia Sorin            Chow Down     How to Steam Tamales in the Oven   By Jessica Jewell            Home Sweet Home     How to Operate the Shark Steam Blaster   By Caleb Schulte          Video of the Day          Protective Clothing   To ensure that you do not get burned or scalded, do not use steam above 120 degrees Fahrenheit for cleaning or other tasks.',\n",
       " 'If you need to use steam at a higher temperature, wear protective clothing, such as gloves, face shield, eye protection, long apron and boots.',\n",
       " 'Advertisement          Other Precautions   To ensure that you do not get an electric shock, make sure that you work away from plugs, sockets and electrical equipment, or cover electrical equipment and ensure that it is completely dry before using.',\n",
       " 'Place non-slip mats on the floor if there is a danger of it getting wet.',\n",
       " 'If a steam cloud appears, stop working and wait for the cloud to dissipate before resuming your task.',\n",
       " 'Advertisement',\n",
       " 'The color of a rose can convey a wealth of meaning.',\n",
       " 'Roses have been cultivated over the years to appear in a wide variety of colors.',\n",
       " 'Each hue is meaningful in its own way, and the recipient of a rose can deduce the intent of the gift from the color of the flower.',\n",
       " 'Advertisement          Red   The red rose is a classic symbol of love and romance.',\n",
       " 'This striking color indicates deep passion, commitment and respect for the recipient.',\n",
       " \"Rose roses are a popular gift selection for Valentine's Day, anniversaries and other special events where one wants to communicate loving sentiments and dedication to the relationship.\",\n",
       " 'A single red rose can be used as a way to say a simple \"I love you.\"',\n",
       " 'Advertisement      Related Stories           Home Sweet Home     What Is the Meaning of Coral Roses?',\n",
       " 'By Danielle Smyth            Home Sweet Home     What Is the Meaning of Red and Yellow Roses?',\n",
       " 'By Kristin A. Ricca            Home Sweet Home     Flower Meanings & Wild Rose   By Danielle Smyth          Video of the Day          Pink   Pink roses have the longest standing history of any rose color.',\n",
       " 'Prior to the cultivation and hybridization of this plant, the vast majority of roses were of varying shades of pink.',\n",
       " 'While all pink roses are associated with a certain sense of refinement and elegance, different hues carry different meanings.',\n",
       " 'Dark pink roses communicate thanks and appreciation of another person.',\n",
       " 'Light pink roses demonstrate admiration and can also be used to convey sympathy.',\n",
       " 'Pale pink roses are sometimes seen in funeral arrangements to convey both admiration and respect for the deceased as well as sympathy for the grieving family.',\n",
       " 'Advertisement          White   The color white is symbolic of purity, and its presence in roses often indicates pure love.',\n",
       " 'White roses are a popular choice for weddings because these flowers indicate unity and strong virtues.',\n",
       " 'White roses are also considered to represent spiritual emotions.',\n",
       " 'As a symbol of deep reverence and respect, they are occasionally included in funeral bouquets as well.',\n",
       " 'Advertisement          Yellow   Yellow roses convey happiness and delight.',\n",
       " 'These flowers are often used as a symbol of friendship.',\n",
       " 'A bouquet of yellow roses indicates your deep pleasure in your friend, while a single yellow rose is a simple way to thank someone for her friendship.',\n",
       " 'Yellow roses that are tinged with red along the tips of the petals indicate a deep friendship that is becoming romantic in nature.',\n",
       " 'Advertisement          Orange   Orange roses can range in color from pale peach to deep coral.',\n",
       " \"These roses represent desire and the depth of the color can correlate beautifully to the depth of one's emotions.\",\n",
       " 'A vivid orange rose is symbolic of burning desire.',\n",
       " 'A peach colored rose may indicate affection and a tentative attempt to move a friendship into a deeper relationship.',\n",
       " 'Advertisement          Lavender   Distinctly whimsical, lavender roses convey a sense of enchantment and wonder, and are sometimes used to represent love at first sight.',\n",
       " 'As purple is associated with royalty and elegance, lavender roses can also be used to set the tone for a special formal event.',\n",
       " 'Advertisement',\n",
       " 'A healthy gardenia with white flowers     Gardenias are perennials grown as garden or house plants.',\n",
       " 'Plants will grow 2 to 8 feet tall with a spread of up to 8 feet.',\n",
       " 'The plants have 3- to 5-inch, dark, glossy leaves and waxy white flowers.',\n",
       " 'Native to South Africa and China, gardenias need the proper care in order to achieve healthy flower buds.',\n",
       " 'Advertisement          Bacterial Spot   Bacterial spot is most severe when temperatures are between 72 and 82 degrees Fahrenheit.',\n",
       " 'Pinhead-sized brown or black spots appear on the leaves of the gardenia, with yellowing of the leaf.',\n",
       " \"Flowers buds that haven't opened yet will turn black.\",\n",
       " 'Eventually the buds and leaves affected by bacterial spot will fall from the plant.',\n",
       " 'Avoid overhead watering to minimize exposure to the disease.',\n",
       " 'Infected plants should be removed so that nearby plants cannot become infected.',\n",
       " 'Advertisement      Related Stories           Home Sweet Home     Brown Spots on a Fiddle-Leaf Fig Houseplant   By Julie Bawden-Davis            Home Sweet Home     There Are Black Leaves on My Aucuba Shrub   By Judy Wolfe            Home Sweet Home     Why Are the Leaves on My Gardenia Turning Yellow?',\n",
       " 'By April Sanders          Video of the Day          Weather Conditions   Dry, hot weather conditions will cause the buds to turn black and drop from the gardenia.',\n",
       " 'When the conditions are hot and dry, the gardenia cannot absorb water as quickly as needed to keep the plant healthy.',\n",
       " 'Gardenia plants lose water through the leaves in hot, dry conditions and the buds and leaves will suffer.',\n",
       " 'The only way to prevent the buds from turning black and dropping is to check the soil daily and keep the plant soil moist at all times.',\n",
       " 'Advertisement          Insects   Thrips and aphids are sucking insects that will suck the juices from leaves and flower buds causing the flower buds to turn a brown-black and leaves will turn yellowish in color before dropping for the plant.',\n",
       " 'Use a pyrethroid or organophosphate insecticide to get rid of aphids, but insecticides are not as affected for thrip removal in the long term.',\n",
       " 'If you use an insecticide formulated to get rid of thrips, you will need to treat plants more than once to completely get rid of thrip adults.',\n",
       " 'Orthene insecticide is beneficial in treating thrips, but you can only apply the insecticide when the plant is in bud or the spray will burn the flower petals.',\n",
       " 'Advertisement          Care   Allowing the gardenia soil to dry excessively between each watering will cause the flower buds to turn black and drop from the plant.',\n",
       " 'Sudden changes in temperatures or cold temperatures will cause buds to die and turn brownish-black.',\n",
       " 'Ideal temperatures for gardenias is between 70 and 75 degrees Fahrenheit during the day and night temperatures about 10 degrees Fahrenheit cooler.',\n",
       " 'Advertisement',\n",
       " \"Things You'll Need   Screwdriver setUtility knife1/4-inch self-tapping screwElectric drillHigh-temperature siliconeCaulking gunStorm collarTermination cap         A rusted gas furnace roof vent creates dangerous conditions inside the home.\",\n",
       " \"Image Credit:      Jupiterimages/Photos.com/Getty Images      The constant exposure to weather weakens a gas furnace roof vent's outer liner and termination cap.\",\n",
       " \"A rusted area on a vent pipe not only lets rainwater enter the attic but also allows potentially dangerous downdrafts to push fumes into the home's living space.\",\n",
       " 'A gas furnace uses a double-wall flue pipe for its vent.',\n",
       " \"The inner liner carries the furnace's exhaust fumes outside, and the outer liner insulates and protects the inner liner.\",\n",
       " \"Always replace a gas furnace's roof vent with a compatible flue pipe, storm collar and termination cap.\",\n",
       " 'Advertisement          Step 1   Remove the screws holding the termination cap on the end of the vent pipe, using the correct size screwdriver to turn the screws counterclockwise.',\n",
       " \"Some termination caps use 1/4-inch-long screws that run through the termination cap's collar and penetrate the vent pipe's outer liner.\",\n",
       " 'Other termination caps use a compression band.',\n",
       " \"The screw tightens the compression band, which squeezes the cap's collar against the end of the vent pipe.\",\n",
       " 'Advertisement      Related Stories           Home Sweet Home     How to Flash a Chimney Pipe on a Corrugated Steel Roof   By Mona Culberson            Home Sweet Home     How to Replace Broken Sewer Caps   By Steve Sloane            Home Sweet Home     How to Install Mechanical Plumbing Vent   By Robert Sylvus          Video of the Day          Step 2   Grip the vent pipe with one hand and the termination cap with the other hand.',\n",
       " 'Hold the vent pipe still and turn the cap counterclockwise until the cap releases from the end of the vent pipe.',\n",
       " 'Set the cap aside.',\n",
       " 'Step 3   Cut through the sealant covering the seam between the vent pipe and its storm collar with a utility knife.',\n",
       " \"The storm collar slides over the end of the vent pipe and rests against the top of the roof's vent flashing.\",\n",
       " \"The storm collar's cone-shaped design directs rainwater away from the roof flashing.\",\n",
       " 'Advertisement          Step 4   Lift the storm collar off the vent pipe.',\n",
       " \"If excess sealant on the vent pipe prevents the collar from sliding up, scrape the sealant off the vent pipe's outer liner with the utility knife.\",\n",
       " 'Step 5   Cut through the sealant covering the seam between the vent pipe and the roof flashing with a utility knife.',\n",
       " 'Advertisement          Step 6   Enter the attic area and locate the vent pipe joint nearest the roof flashing.',\n",
       " \"Separate the two sections of vent pipe, using the same method used to remove the termination cap from the roof's vent pipe.\",\n",
       " 'Slide the vent pipe out of the roof flashing and into the attic.Related Stories           Home Sweet Home     How to Flash a Chimney Pipe on a Corrugated Steel Roof   By Mona Culberson            Home Sweet Home     How to Replace Broken Sewer Caps   By Steve Sloane            Home Sweet Home     How to Install Mechanical Plumbing Vent   By Robert Sylvus        Step 7   Push the male end of a new vent pipe up through the bottom of the roof flashing and set its female end on the male end of the vent pipe that connects to the gas furnace.',\n",
       " \"Twist the roof's vent pipe clockwise one half turn with one hand, while holding the gas furnace's vent pipe still with the other hand.\",\n",
       " 'Advertisement          Step 8   Lock the two sections of vent pipe together.',\n",
       " \"If the vent pipe uses a compression band, turn the compression band's screw clockwise with the correct screwdriver until the band squeezes the vent pipe.\",\n",
       " \"If the vent pipe does not use a compression band, run a 1/4-inch self-tapping screw through the roof vent pipe's collar with an electric drill.\",\n",
       " 'Place additional screws every 4 inches around the vent pipe.',\n",
       " 'Exit the attic area and climb onto the roof.',\n",
       " 'Advertisement            Advertisement          Step 9   Run a 1/4- to 3/8-inch-thick bead of high-temperature silicone around the seam between the roof flashing and the vent pipe, using a caulking gun to apply the silicone.',\n",
       " \"Step 10   Slide a storm collar over the end of the vent pipe, keeping the storm collar's wide end facing down.\",\n",
       " 'Push the storm collar down the vent pipe until it touches the top of the roof flashing.',\n",
       " 'Cover the seam between the storm collar and the vent pipe with the high-temperature silicone, using the caulking gun to apply the silicone.',\n",
       " \"Advertisement          Step 11   Slip a termination cap's female end over the vent pipe's male end.\",\n",
       " \"If the termination cap uses a compression band, turn the band's screw clockwise with the correct screwdriver until the band squeezes the cap's collar.\",\n",
       " \"If the termination cap's collar does not use a compression band, run a 1/4-inch self-tapping screw through the cap's collar with the electric drill.\",\n",
       " \"Run an additional screw every 4 inches around the termination cap's collar.\",\n",
       " 'Advertisement',\n",
       " \"Things You'll Need   Tape measureCalculator         Curtains add personality to a room decor.\",\n",
       " 'Curtains or drapes make a huge difference to the appearance and atmosphere in a room.',\n",
       " 'Aside from furniture such as sofas and chairs, curtains could be the largest single swathe of pattern or fabric in a room.',\n",
       " 'While carpets or flooring are often chosen to blend in with the decor, choosing curtains is where you can really let your personality show.',\n",
       " \"Whether you're making curtains at home, having them custom-made, or buying ready-made curtains from a store, you'll need to know how wide a pair of curtains you need.\",\n",
       " 'Advertisement          Step 1   Measure the width of your track or pole and then add 6 inches to allow a little extra fabric for the curtains to overlap in the center.',\n",
       " 'Video of the Day          Step 2   Multiply the width of your curtain track, or pole, by 2½.',\n",
       " 'This number multiplied by the width of the track is generally the calculated width for the most generous fullness in the finished curtains.',\n",
       " 'Some curtains, such as tabbed top, have sufficient fullness if 1½ times the track or pole measurement.',\n",
       " 'Advertisement      Related Stories           Home Sweet Home     How to Calculate Fabric Yardage for Inverted Pleated Drapery Panels   By Megan Lawless            Home Sweet Home     How to Make Blanket Curtains   By Nicole Vulcan            Home Sweet Home     How to Shorten Curtains   By Laure Justice        Step 3   Divide your multiplied track measurement by the width of the fabric you will use to make the curtains.',\n",
       " 'If you get a fraction number after doing this calculation, round it up to the next whole number.',\n",
       " 'This number represents how many fabric widths you need.Tip Write down each measurement as you take it.',\n",
       " 'Keeping the measurements in your head, and doing the calculations at the same time, makes the task unnecessarily difficult.',\n",
       " 'Advertisement',\n",
       " 'The water level rises in the toilet bowl or tank for several reasons.',\n",
       " 'Your toilet bowl fills to a predetermined water level based on the inherent design of that particular model.',\n",
       " 'Flushing the toilet releases water from the fill tank into the bowl to force it to drain through a pipe in the floor to empty the toilet of the waste inside it along with water already standing in the bowl.',\n",
       " 'The water level will get higher following the flush as the tank refills the bowl and the water supply line refills the tank.',\n",
       " 'Several reasons explain why the tank or bowl level rises higher than usual.',\n",
       " \"Advertisement          Adjusted Ball Valve   The ball valve or float valve located inside the toilet's tank is responsible for turning the supply of water on and off to allow the toilet to fill to the desired level.\",\n",
       " 'The floating ball rises on a lever until the water level reaches a height that causes the attached lever to shut off the water supply to the toilet.',\n",
       " 'Adjusting this valve causes the water level in the tank to get higher.',\n",
       " \"Advertisement      Related Stories           Home Sweet Home     My Toilet Won't Stop Draining   By Lee Morgan            Home Sweet Home     My Toilet Bowl Fills Up With Too Much Water When Flushed   By Steven Symes            Home Sweet Home     The Water Level in My Toilet Is Too High   By Steven Symes          Video of the Day      Some models have an adjustment screw that allows for a higher water level, while others can be adjusted by simply bending the lever arm upward to make the float ball higher in the tank, therefore allowing more water to enter prior to shut off.\",\n",
       " 'Displacement   If you wish to save water each time you flush the toilet, trick the toilet into thinking it has more water in the tank than it actually does.',\n",
       " 'This is done by water displacement.',\n",
       " 'Some people use a brick, carefully placed in the tank away from the mechanical parts of the toilet to displace the water, making the level rise with a smaller amount of water.',\n",
       " 'Other options include using a plastic bottle weighted with pebbles or sand and filled with water to accomplish the same task.',\n",
       " 'Advertisement          Clogs   If your water is rising to a higher level in the bowl itself, it means there is something blocking the drain.',\n",
       " 'A clog can be caused by excessive toilet paper, foreign objects that have been dropped in the bowl or sediment buildup in the pipes.',\n",
       " 'Often a plunger will free the clog and allow the water to freely flow out and return the water to its proper level.',\n",
       " 'A toilet snake may also be used to clear more serious clogs in the pipes.',\n",
       " 'Failure to clear a clog will result in overflowing and a big mess in your bathroom.',\n",
       " 'Advertisement          Full Septic Tank   If your toilets are backing up with dirty, rising water levels you may also notice tub drains and sinks doing the same.',\n",
       " 'If this is the case, then you may have a serious septic tank problem.',\n",
       " 'This backup could mean that the septic tank is full and is unable to drain properly through the leach lines.',\n",
       " 'Assuming there is no blockage in the main line of the home, the problem is likely in the tank itself.',\n",
       " 'This will prevent wastewater from leaving the lines in the home.',\n",
       " 'When this happens, the water has nowhere to go except back where it came from.',\n",
       " 'Toilet levels will rise and may not subside until work has been done to fix the septic tank.',\n",
       " 'Advertisement',\n",
       " 'nan',\n",
       " \"Things You'll Need   Organza ribbonScissorsHot glue gunGlue sticks for glue gun         Ribbon is a simple, elegant accent for dressing up flutes.\",\n",
       " 'The wedding toast is a time to embrace your commitment to your spouse and reflect on moments that brought the two of you together.',\n",
       " 'When toasting your spouse, use champagne flutes that say something about you as a couple.',\n",
       " 'Decorating champagne flutes yourself not only allows you to add personal flair to the glasses but also can help you trim your wedding costs a bit.',\n",
       " 'You can tie a delicate organza ribbon bow around each flute, and even add etching, beads or lace for added pizazz.',\n",
       " 'Advertisement          Step 1   Purchase champagne flutes.',\n",
       " 'Depending on your budget, you can choose a simple or more elaborate flute.',\n",
       " 'You can choose between glass or plastic flutes depending on the style of wedding you are planning.',\n",
       " 'If you plan on etching the flutes you should choose a glass flute.',\n",
       " 'When you are finished decorating there will be very little difference between a high-end glass flute and a budget basic glass flute, especially if you are planning to do more than decorate with ribbon.',\n",
       " \"Advertisement      Related Stories           Home Sweet Home     How to Make Balloon Bouquets   By Christi Aldridge            Let's Celebrate     Types of Flowers Used for Men's Boutonnieres   By Cynthia Myers            Get Crafty     How to Paint Wine Glasses or Other Glassware   By Kathy Adams          Video of the Day          Step 2   Look for a color of ribbon to match your wedding colors or choose a simple white or cream-colored ribbon.\",\n",
       " 'Organza ribbon works the best because it can be tied into a bow easily and will hold its shape throughout the evening.',\n",
       " \"When choosing a size of organza, remember the longer the flute's stem the wider your organza can be.\",\n",
       " 'For a short-stemmed flute you should use a thin organza ribbon.',\n",
       " 'Advertisement          Step 3   Cut 6-inch lengths of ribbon for each flute you intend to decorate.',\n",
       " 'If you want longer, flowing bow tails you can cut longer pieces of ribbon.',\n",
       " 'Experiment with different lengths before cutting if you are unsure.',\n",
       " \"Step 4   Tie the organza ribbon into a bow around the top of the champagne flute's stem.\",\n",
       " 'To tie the bow you do not need a fancy technique; you can tie the ribbon the same way you tie your shoes to create a simple, elegant bow.',\n",
       " 'Advertisement          Step 5   Apply a small bead of hot glue under your bow.',\n",
       " 'The glue will prevent the bow from sliding down the stem of the champagne flute.',\n",
       " 'If you feel that you have tied the ribbon tightly enough you can skip the hot glue if you prefer.',\n",
       " 'Or if you feel comfortable with your bow-tying skills you could also apply the glue to the flute stem before tying the ribbon around the stem.Tip Flowers, beads and lace can be combined with ribbon to decorate champagne flutes for your wedding.',\n",
       " 'Advertisement',\n",
       " 'Mealybugs often infest gardenias.',\n",
       " 'Gardenias often suffer from insect infestations that can damage their health and appearance.',\n",
       " 'Mealybugs are a common gardenia pest and look like white, oval-shaped spots on infested plants.',\n",
       " 'Mealybugs are very small, covered in white wax, and are usually found on the stems of gardenias or the undersides of leaves.',\n",
       " 'Advertisement          Identification   Mealybugs are very small, measuring about 1/10 inch in length.',\n",
       " 'This bug is flat and related to aphids and scale insects.',\n",
       " 'Mealybugs received their name because the white waxy coating on their backs resembles ground meal.',\n",
       " 'Mealybugs cause injuries to gardenia leaves from feeding on them with their sharp mouth parts that they use to pierce plant leaves and suck out plant sap.',\n",
       " 'Advertisement      Related Stories           Home Sweet Home     Bugs are Eating the Leaves on My Lilacs   By Tracy Hodge            Home Sweet Home     Black Bugs Are Eating My Weeping Willow Tree Leaves   By Tracy Hodge            Home Sweet Home     Using Isopropyl Alcohol As a Spray for Bugs   By Jean Godawa          Video of the Day          Types   While there are over 275 different species of mealybugs in the United States, according to Iowa State University, only two species are common pests.',\n",
       " 'The longtailed mealybug received its name for the long tail of wax that extends from its body.',\n",
       " 'The citrus mealybug is a serious pest of ornamental plants and shrubs.',\n",
       " 'This pest multiplies rapidly, producing a large amount of eggs during its short lifespan.',\n",
       " 'Advertisement          Effects   Mealybugs injure gardenias through feeding, causing the green leaves to appear stippled and distorted.',\n",
       " 'Gardenia leaves may also turn yellow and drop from the plant prematurely.',\n",
       " 'Gardenias infested with mealybugs often develop a condition known as sooty mold or gray sooty mold.',\n",
       " 'This condition causes a gray or black coating of fungus to develop on gardenia leaves, flowers and stems.',\n",
       " 'Sooty mold is the direct result of insect infestations.',\n",
       " 'Mealybugs produce honeydew when feeding on plant sap, which is very sticky.',\n",
       " \"Sooty mold fungi adhere to honeydew and the fungus grows on the gardenia's surface.\",\n",
       " 'While sooty mold is not usually harmful to gardenias, it is unattractive and a sign of heavy insect infestation.',\n",
       " 'Advertisement          Control   Mealybugs are often eliminated by spraying your gardenia with a forceful stream of water from the garden hose, several times each week.',\n",
       " 'This knocks mealybugs from the leaves and stems of gardenias, reducing their population.',\n",
       " 'Another way to eliminate small numbers of mealybugs is to dab your gardenia with an alcohol-soaked cotton swab and remove the insects.',\n",
       " 'Heavy mealybug infestations on your gardenia may warrant the use of insecticidal soaps.',\n",
       " 'Wash your gardenia with this product and rinse the residue away.',\n",
       " 'Horticultural oils are another way to reduce insects and remove sooty mold fungi.',\n",
       " 'Oil products work on contact to smother mealybugs and loosen sooty mold, making it easier to remove.',\n",
       " 'Advertisement',\n",
       " \"Things You'll Need   Extension ladder1/2-inch twisted nylon and polyester ropeSawA dead or damaged tree limb that scrapes across your roof and interferes with electrical wires or blocks your view must be removed.\",\n",
       " 'Small tree limb removal done from the ground is often a one-person job, but large tree limbs can require help to avoid injury to yourself or damage to surrounding property.',\n",
       " 'Assess the tree limb and the area around the tree before attempting to remove the limb.',\n",
       " 'Rope off the limb correctly before making any cuts to the limb.',\n",
       " 'Advertisement          Step 1   Prop an extension ladder against the tree trunk.',\n",
       " 'Get a helper to hold the ladder while you climb it to choose a tree branch above the limb you are removing.',\n",
       " 'Choose a healthy branch, the same size or larger than the limb you intend to remove.',\n",
       " 'Video of the Day          Step 2   Toss one end of a 1/2-inch twisted nylon and polyester rope, rated for 500 lbs.',\n",
       " 'or more, over the branch you chose to support the limb.',\n",
       " 'Wrap the other end of the rope at least twice around the limb you intend to remove, then back over the supporting tree branch.',\n",
       " 'Advertisement      Related Stories           Home Sweet Home     How to Cut Down a Tree in Segments   By Andrea Stein            Home Sweet Home     How to Kill Mesquite Trees in Texas   By Angela Castillo            Home Sweet Home     How to Raise a Tree Canopy Properly   By D.C. Winston        Step 3   Tie one end of the rope to the tree trunk using a clove hitch or a rolling hitch knot.',\n",
       " 'Get another helper to hold the opposite end of the rope, pulling it tight before you start removing the tree limb.',\n",
       " 'Step 4   Cut the tree limb from the tree.',\n",
       " 'Undercut the limb one-third of the way through with a saw.',\n",
       " 'Finish removing the limb with an over cut.',\n",
       " 'Advertisement          Step 5   Lower the cut limb from the tree.',\n",
       " 'Instruct your helper to keep the rope tight while slowly releasing the rope, controlling the descent of the limb to the ground.',\n",
       " 'Advertisement',\n",
       " \"Things You'll Need   Larger container for holding hot water1-inch putty knifeMicrowave oven (plastic tubs only) (optional)Conventional oven (metal cans only) (optional)         The cracked glazing compound around these window panes needs to be replaced with new, pliable glazing compound.\",\n",
       " 'Oil-based glazing compound is a white, clay-like putty that has long been used to fix wooden frame windows.',\n",
       " 'But sometimes you may open the container to find that the glazing compound is hard and unworkable.',\n",
       " \"It may be old, or perhaps the container wasn't sealed properly after the last use, allowing air in to dry out the compound.\",\n",
       " \"Depending on the compound's age and consistency, you can often revive it, avoid another trip to the store and get on with your project.\",\n",
       " 'Advertisement          Step 1            Putty knives are useful for restoring old glazing compound as well as applying softened product.',\n",
       " 'Probe the glazing compound with putty knife or your finger.',\n",
       " \"If it's stiff but somewhat pliable, remove about 1/2 cup of the product and work it with your hands, as you would with modeling clay, until it warms and softens.\",\n",
       " \"If it's hard, proceed to step 2.\",\n",
       " 'Advertisement      Related Stories           Home Sweet Home     How to Add Stain to a Glazing Compound   By Robert Russell            Chow Down     How to Keep Milk Fresh   By eHow Team            Home Sweet Home     How to Clean Drywall Compound from Wood Floors   By Jessica Jewell          Video of the Day          Step 2   Place the tightly closed glazing compound can or tub in a larger container, such as a coffee can or ice cream bucket.',\n",
       " 'Fill container with hot water to cover the sides of the compound container.',\n",
       " 'Wait 10 minutes.',\n",
       " 'Step 3   Mix, with a putty knife or your hands, to incorporate the warmer compound from the outside edges of container with the cooler compound from the center.',\n",
       " 'Repeat the 10-minute soak with fresh hot water if necessary.',\n",
       " \"Advertisement          Step 4   Place container of glazing compound that still hasn't softened in a conventional oven set at 170 degrees (metal cans only) or in a microwave oven (plastic containers only).\",\n",
       " 'For a conventional oven, check after 10 minutes.',\n",
       " 'For the microwave oven, start with 30 seconds on high per 16 oz.',\n",
       " 'of compound and repeat if needed.',\n",
       " 'Mix with your hands or the putty knife to incorporate the warmer parts of the compound.',\n",
       " 'Step 5   Discard the compound and replace with new product if it remains unworkable.Tip Seal all containers completely when finished to avoid wasted product.',\n",
       " 'Place a small piece of plastic wrap directly over compound before sealing to protect it from air inside the container.Warning Use caution when using hot water and warming the compound in the oven.',\n",
       " 'Wear rubber gloves to protect your hands, and start with small heat increments and short times before increasing.',\n",
       " 'Advertisement',\n",
       " 'nan',\n",
       " \"Things You'll Need   Swimming pool shock (calcium hypochlorite)Chlorine test kitChlorinated bleachPool brush or other soft-bristled brushPool vacuum (optional)Additional pool filter cartridgesAlgaecide (optional)         Algae keeps your pool from sparkling.\",\n",
       " 'There are three main types of algae, all classified by color: green (the most common), mustard (yellow) algae, and black algae -- the most dreaded as it can never be totally killed, only rendered invisible and controlled.',\n",
       " 'Pink algae is another pool invader; not really an algae but a fungus that creates slimy colonies colored either pink, white or gray.',\n",
       " 'If you notice what appears to be \"gray\" algae in your pool, it is most likely either pink algae, or dead algae.',\n",
       " 'Dead algae turns gray as it dies and must be removed from the water through filtration.',\n",
       " 'Regardless of the source, however, a few steps will kill any live algae and remove the dead.',\n",
       " 'Advertisement          Step 1   Add enough shock (calcium hypochlorite) to raise your chlorine levels to at least 10 ppm free chlorine (which is 10 times the recommended everyday chlorine level of about 2 ppm).',\n",
       " 'Follow the product instructions when using shock, calculating the amount required according to directions.',\n",
       " 'You can also use a chlorine test kit to check chlorine levels.',\n",
       " 'Advertisement      Related Stories           Home Sweet Home     How to Keep Your Above-Ground Pool Crystal Clear   By Emily Retherford            Home Sweet Home     Discoloration of White Pool Plastic   By Debra Durkee            Home Sweet Home     How to Tell if Your Sand Filter Sand Is Bad and Causing Cloudy Water   By Ruth de Jauregui          Video of the Day          Step 2   Turn on your filtration system, if it is not already on.',\n",
       " 'Water must be circulated around the clock during the entire algae treatment and removal of old, dead gray algae.',\n",
       " 'This will aid in the removal of algae bodies killed by the chlorine, as well as good circulation of chemicals.',\n",
       " 'Step 3   Remove any items in your pool that may contain algae on the surface (balls, rafts, ladders, and other accessories).',\n",
       " 'Wipe them down with chlorinated bleach mixed with water (at about a 1:1 ratio).',\n",
       " 'Allow them to dry thoroughly and wait until the pool is clean before reintroducing.',\n",
       " 'Advertisement          Step 4   Brush the side walls and floor, using a pool brush or other soft-bristled brush.',\n",
       " 'Sweep towards the pool drain or filter, if possible.',\n",
       " 'Make sure to work into any corners or crevices, where algae may hide.',\n",
       " 'Follow with a pool vacuum if you have one -- although this is not essential, just helpful.',\n",
       " 'Advertisement          Step 5   Observe your swimming pool while the chemicals work.',\n",
       " 'Watch for clearing of the water, which may take overnight in heavy or persistent algae problems.',\n",
       " 'Brush periodically while you wait for the problem to clear, and add more shock if the level falls below 5 ppm while you treat your pool.',\n",
       " 'Step 6   Backwash your filter, or change the cartridge, if the need arises -- pressure will raise about 10 psi when a filter needs to be back-washed; other pool filtration systems require the filter to be changed as the suction and output into the pool decreases; hold your hand over the inlet and outlet hoses in the pool to check.Tip A commercial algaecide may be added during treatment, after the super-chlorination (shock) treatment.',\n",
       " 'However, chlorine alone is all that is needed to kill algae.Warning Carefully follow any product instructions; pool chemicals are not safe for ingestion or use by children.',\n",
       " 'Advertisement',\n",
       " 'nan',\n",
       " \"Maybe company's coming over, and you only have 10 minutes to clean up a messy living room, or maybe you dislike cleaning so much that you're only willing to do it for 10 minutes at a time.\",\n",
       " \"In any case, you don't need to spend hours following a 100-point cleaning checklist and scrubbing corners with a toothbrush to make your space feel, look and smell cleaner.\",\n",
       " 'Focus your efforts on cleaning hacks that target the most noticeable areas of your home and save deep cleaning for another day.',\n",
       " 'Advertisement            Image Credit:      PRImageFactory/iStock/GettyImages      1.',\n",
       " 'Declutter Central Areas Clearing out clutter can transform the way a messy room looks in a short amount of time.',\n",
       " 'Make a pass through the area with a garbage bag to collect anything that can be thrown away.',\n",
       " \"Then, make another pass with a laundry basket or sturdy bin and collect anything that's in a place where it doesn't belong.\",\n",
       " \"(If you're tidying a messy bedroom, sort clean clothes and dirty clothes into separate laundry baskets so they don't get mixed up.)\",\n",
       " \"Advertisement      Related Stories           Home Sweet Home     10 Hassle-Free Hacks to Clean Baseboards   By Kathryn Walsh            Home Sweet Home     10 Mopping Hacks to Make Your Floors Cleaner Than They've Ever Been   By Kathryn Walsh            Home Sweet Home     10 Dusty Places in Your Home You Need to Clean More Often   By Ashley Tyler          Video of the Day      Stash the basket in a closet to be dealt with later.\",\n",
       " 'When you have time, dump everything you gathered onto a table and sort items into groups based on where they need to go.',\n",
       " 'Image Credit:      Catherine McQueen/Moment/GettyImages      2.',\n",
       " 'Remove Marks and Scuffs From Walls Your walls take a lot of abuse over the years, especially if you have rambunctious kids or clumsy pets.',\n",
       " 'Greasy fingerprints, spilled drinks and streaks of mysterious origin tend to build up quickly on the bottom two-thirds of your walls.',\n",
       " 'Those marks become really noticeable when the sunlight hits just right.',\n",
       " 'Advertisement      Start with just a damp sponge to clean walls.',\n",
       " 'If spots remain, dish soap or a paste of baking soda and water can also be used to remove marks from painted walls.',\n",
       " \"You may try dish soap or an all-purpose cleaner on stained wallpaper but always test it in an inconspicuous spot first to make sure the paper isn't damaged.\",\n",
       " \"Advertisement      Related Stories           Home Sweet Home     10 Hassle-Free Hacks to Clean Baseboards   By Kathryn Walsh            Home Sweet Home     10 Mopping Hacks to Make Your Floors Cleaner Than They've Ever Been   By Kathryn Walsh            Home Sweet Home     10 Dusty Places in Your Home You Need to Clean More Often   By Ashley Tyler          Image Credit:      FotoDuets/iStock/GettyImages      3.\",\n",
       " 'Wipe and Disinfect Light Switches Light switches and light switch plate covers are constantly being touched by dirty fingers.',\n",
       " \"If you look closely, you'll probably notice your light switches are looking a little grimy, and it doesn't bear thinking about what kinds of germs might be on them.\",\n",
       " \"Wipe light switches and plates with a clean microfiber cloth and then wipe them again with a microfiber cloth that's lightly dampened with a disinfecting cleaning spray.\",\n",
       " \"Because liquid and electricity shouldn't mix, never spray a light switch with cleaner or use a wet cloth to wipe this area.\",\n",
       " 'Advertisement            Advertisement            Image Credit:      Grace Cary/Moment/GettyImages      4.',\n",
       " 'Dust Lamp Shades and Light Fixtures The eye is naturally drawn to lamps and other light sources, so dusty lamp shades and light fixtures are hard to ignore.',\n",
       " 'Plus, cleaning dirty lamp shades or fixtures might actually bring a little more light into the room.',\n",
       " 'Wipe down lamp shades with a dry microfiber cloth to remove dust and follow with a slightly damp cloth if the shade still looks dirty.',\n",
       " 'Use a long-handled duster to clean ceiling light fixtures or ceiling fans.',\n",
       " 'Advertisement            Image Credit:      LightFieldStudios/iStock/GettyImages      5.',\n",
       " 'Clean Windows, Mirrors and Picture Frames Like cleaning lamps and light fixtures, cleaning windows and mirrors can immediately make your home feel brighter and better maintained.',\n",
       " 'For a quick way to clean mirrors and windows without streaks, spritz them from a spray bottle containing equal parts vinegar and water and then wipe them down with a microfiber cloth.',\n",
       " 'Dirty picture frames are also noticeable because they catch sunlight.',\n",
       " 'Give them a quick wipe with a damp cloth to remove dust and smudges.',\n",
       " 'Advertisement            Image Credit:      athima  tongloom/Moment/GettyImages      6.',\n",
       " 'Scrub Dirty Baseboards Dirty floors make an entire room feel unclean.',\n",
       " 'Dirt and dust tend to accumulate around the baseboards, especially with hardwood floors, so focusing on this area is a quick way to make a big difference in a messy room.',\n",
       " 'Wipe them down with a damp washcloth, dryer sheet or dry microfiber cloth to pull up dust and pet hair.',\n",
       " 'Scrub dirty baseboards with a cloth dipped in a cleaning solution of warm water and dish soap followed by a clean damp sponge.',\n",
       " 'To clean baseboards without bending over or getting down on your knees, use a new toilet wand to scrub them.',\n",
       " 'Advertisement            Advertisement            Image Credit:      FotoDuets/iStock/GettyImages      7.',\n",
       " 'Whiten Grout With a Magic Eraser There are a lot of DIY ways to effectively clean grungy grout in tile floors and backsplashes.',\n",
       " 'Really neglected grout can be deep cleaned with oxygen bleach or a paste made of baking soda and hydrogen peroxide.',\n",
       " 'However, this method is time-consuming because you have to apply the solution, let it sit for at least 10 minutes, scrub it into the grout and then rinse.',\n",
       " 'Using a damp Magic Eraser (or generic melamine foam sponge) is a much quicker way to whiten and brighten dingy grout.',\n",
       " 'Image Credit:      KURJANPHOTO/iStock/GettyImages      8.',\n",
       " 'Wipe Down Appliances Like light switches, the handles of your appliances are high-touch areas in your home.',\n",
       " \"That means they're prone to both visible smudges and invisible bacteria.\",\n",
       " 'It only takes a few minutes to give all your appliances a quick cleaning.',\n",
       " 'Use stainless steel cleaner wipes or a paste of baking soda and water to clean stainless steel appliances.',\n",
       " 'Clean white or black appliances by spraying them with a mixture of equal parts white vinegar and water followed by a sponge dipped in warm, soapy water and finally a clean, damp sponge.',\n",
       " 'Image Credit:      DNY59/E+/GettyImages      9.',\n",
       " \"Squeegee Pet Hair From Furniture and Carpets Owners of furry, shedding pets know that it's a constant struggle to get their hair off upholstered surfaces and carpets.\",\n",
       " \"It doesn't matter how cute your pets are; you don't want their shed fur to be the first thing a visitor notices upon walking into your home.\",\n",
       " 'Your vacuum cleaner alone might not be enough to pull it all up once that fur gets pressed into your carpet and upholstered furniture.',\n",
       " 'Try using a squeegee to scrape stubborn pet hair from these areas.',\n",
       " 'Advertisement            Image Credit:      smrm1977/iStock/GettyImages      10.',\n",
       " \"Disguise Messes, Odors and Stains Rome wasn't built in a day, and you can't do a full spring cleaning routine or even deep clean a single room in just 10 minutes, but 10 minutes is plenty of time to do a little camouflaging of any problem areas.\",\n",
       " 'Arrange a throw blanket or toss pillows over stained or faded upholstered fabric.',\n",
       " 'Move large, leafy potted plants around to cover a dirty carpet or block a cluttered corner.',\n",
       " 'Cover odors by mixing distilled water with a few drops of essential oils in a spray bottle to make a quick DIY room spray.',\n",
       " 'Image Credit:      franz12/iStock/GettyImages            Advertisement',\n",
       " 'Tankless water heaters take up little space compared to tank-style models.',\n",
       " 'Image Credit:      Jupiterimages/Comstock/Getty Images      While traditional tank units keep gallons of water heated around the clock, tankless water heaters only heat water when you need it, which can help reduce energy costs.',\n",
       " 'Although most homes require only one tank-style water heater, homeowners who plan to go tankless may find using multiple smaller units rather than a single large one improves performance and ensures hot water is always available when you need it.',\n",
       " \"Advertisement          Capacity   Even the largest tankless water heaters can't supply enough hot water for multiple simultaneous uses in larger households, according to the U.S. Department of Energy.\",\n",
       " 'While some very large tankless units are advertised at flow rates of 9 or 10 gallons per minute (GPM), few actually provide this type of flow rate while still raising water to the desired temperature.',\n",
       " 'To actually raise groundwater to 120 degrees Fahrenheit, most cut flow rate to well under the highest advertised rate, and may provide only a few gallons per minute.',\n",
       " 'The DOE suggests using two or more tankless water heaters in larger households to achieve the desired level of hot water, or using dedicated tankless units at dishwashers and washing machines.',\n",
       " 'FacilitiesNet suggests adding a second tankless unit when the demand for hot water exceeds 6 to 8 GPM.',\n",
       " 'Advertisement      Related Stories           Home Sweet Home     Hot Water Heating System Problems   By Caroline Fritz            Home Sweet Home     How Can I Bypass a Hot Water Heater Without Removing It?',\n",
       " 'By Finn McCuhil            Home Sweet Home     Commercial Water Heater Vs.',\n",
       " 'Residential Water Heater   By Aaron Charles          Video of the Day          Performance   Tankless water heaters start heating water only when you turn on a faucet, switch on the shower or start your dishwasher.',\n",
       " 'There is a small delay from these actions before you actually receive hot water because the water heater is busy generating heat.',\n",
       " 'If you have only a central tankless unit, you may find yourself waiting frequently for hot water at fixtures located far from the water heater.',\n",
       " 'Using two or more tankless units means water has less distance to travel, resulting in faster hot water access at sinks, showers and other fixtures.',\n",
       " 'Advertisement          Efficiency   As you turn on the sink and wait for the tankless water heater to provide hot water, you allow cold water to flow down the drain.',\n",
       " 'Adding a second tankless water heater means faster heat and less wasted water, according to the California Energy Commission.',\n",
       " 'Multiple heaters also means shorter pipe runs, so less energy is wasted as hot water travels or cools down in the pipes.',\n",
       " \"Advertisement          Redundancy   If you have a single large tankless water heater and it fails, you'll be left without hot water until the unit is repaired.\",\n",
       " \"A second heater serves as a backup system so you're never completely without hot water, though flow rate and capacity likely will be cut in half.\",\n",
       " 'Advertisement          Cost   Tankless water heaters cost $2,500 to $4,000 installed as of 2012, according to GreenBuildingAdvisor.com, and larger units generally cost more than small ones.',\n",
       " 'Investing in two tankless water heaters rather than one likely will result in higher initial costs thanks to double equipment, installation, piping and ventilation expenses.',\n",
       " 'Advertisement',\n",
       " \"Things You'll Need   Calcium carbide crystalsThick garden gloves         Kill your mole problem using calcium carbide.\",\n",
       " \"While moles may appear to look innocent, they're actually detrimental to lawns and gardens.\",\n",
       " \"They're burrowing creatures, so they dig tunnels beneath the earth, which causes mounds and hills to appear in lawn areas.\",\n",
       " \"These mounds and hills don't just look bad, they're also harmful to the grass because they disrupt the root system.\",\n",
       " 'There are several ways to kill moles, including traps, smoke bombs and poisons.',\n",
       " 'One of these poisons is called calcium carbide.',\n",
       " 'Advertisement          Step 1   Locate the newest mole tunnel in your yard.',\n",
       " 'One way to do this is by stomping out all the mole tunnels in one day.',\n",
       " 'Return to your yard early the following morning, and locate any new tunnels.',\n",
       " 'These are the freshest mole tunnels.',\n",
       " 'Video of the Day          Step 2   Locate the mounds that sit on either end of the tunnel.',\n",
       " 'Clear away all dirt on top of the mounds to expose the mole hole.',\n",
       " 'Advertisement      Related Stories           Home Sweet Home     How to Stick Hoses in Mole Holes   By Richard Toole            Home Sweet Home     Homemade Gopher Repellent   By Mel Frank            Home Sweet Home     How to Kill Moles in Washington State   By Patrick Hutchison        Step 3   Put on a thick pair of garden gloves.',\n",
       " 'Step 4   Insert a few calcium carbide crystals into the mole hole.',\n",
       " 'Cover the hole up immediately with dirt and leave the area.',\n",
       " 'The crystals will turn into a gas, filling the mole tunnels.',\n",
       " 'Step 5   Repeat the process, as necessary, until your mole problem ceases.Warning Never touch calcium carbide with your bare skin.',\n",
       " 'It can cause temporary or permanent damage.Calcium carbide creates a toxic gas.',\n",
       " 'Leave the yard immediately after dropping the crystals into the ground.',\n",
       " 'Advertisement',\n",
       " 'Plan for a big raspberry picking beginning the second year after planting.',\n",
       " 'Image Credit:      Pirotehnik/iStock/GettyImages      Perfect for eating fresh, freezing or making preserves, raspberries (Rubeus ideaus) are some of the easiest fruit shrubs to grow in a home garden.',\n",
       " 'They come in red, yellow and black, with red varieties being the sweetest and most popular.',\n",
       " 'Raspberries are fairly hardy – they can survive winters in U.S. Department of Agriculture plant hardiness zones 3 to 9 – which makes them an ideal fruit for Northern gardens.',\n",
       " 'When a raspberry plant produces its first crop depends on the variety.',\n",
       " 'Advertisement      Primocanes vs. Floricanes Raspberries are considered perennial plants because their roots can survive for many years.',\n",
       " 'Red raspberry plants can live between 10 and 15 years, while black raspberries have a shorter life span.',\n",
       " 'The stems, or canes, of raspberry plants, on the other hand, are biennial, which means they only live for two seasons.',\n",
       " \"Advertisement      Related Stories           Home Sweet Home     Raspberry Plants That Don't Bloom   By Kristina Seleshanko            Home Sweet Home     How to Grow Blackberries in Arizona   By Kirsten Sorenson            Home Sweet Home     Difference in Dewberries & Blackberries   By Evan Gillespie          Video of the Day      In their first year, new canes are referred to as primocanes, while second-year canes are known as floricanes.\",\n",
       " 'Some varieties of raspberry can only produce fruit on floricanes.',\n",
       " 'Other types can produce fruit on both primocanes and floricanes.',\n",
       " 'This distinction determines when a particular type of raspberry yields a crop.',\n",
       " 'Advertisement      Types of Raspberry Fruit Shrubs Most raspberries produce fruit on only floricanes, with the first crop coming a year after planting.',\n",
       " 'These cultivars are known as summer-bearing raspberries.',\n",
       " 'They generally produce fruit in June and July.',\n",
       " 'Some red and yellow raspberries and almost all black varieties fall into this category.',\n",
       " \"The popular 'Killarney' and 'Nova' raspberries are just two examples of summer-bearing raspberry varieties.\",\n",
       " 'Advertisement      Other raspberry plants produce fruits on the tips of primocanes, even in the first year of planting, as well as on floricanes.',\n",
       " 'The result is two crops a year, with the first coming on floricanes in June and July and the second on primocanes starting in late summer through the first frost of autumn.',\n",
       " 'These raspberries are known as everbearing raspberries.',\n",
       " \"Examples include the 'Heritage' raspberry, which bears large, sweet fruits that are perfect for eating fresh or for freezing.\",\n",
       " 'The fall crop tends to be more copious.',\n",
       " 'Advertisement      Caring for Raspberry Plants Raspberries need full sun – six hours a day or more – in order to produce fruit, and they rely on bees for pollination.',\n",
       " 'Raspberries also need lots of water during the growing season.',\n",
       " 'Provide raspberries with 1 or 1.5 inches of water a week while the fruit is developing.',\n",
       " 'The ideal soil pH for raspberries is between 5.6 and 6.2.',\n",
       " 'Advertisement      Keep the soil around your raspberry plants free of weeds to prevent unwanted vegetation from competing with your fruit shrubs for nutrients.',\n",
       " 'On the other hand, onions, garlic, leeks and nasturtiums make good raspberry companion plants because they help to keep away pests.Whether they are summer-bearing or ever-bearing, all raspberries must be trained on a trellis or another type of support.',\n",
       " 'Raspberries must be pruned annually.',\n",
       " 'Floricanes die after producing fruit, so remove them from the plant to keep diseases at bay.',\n",
       " 'Thin out any diseased or weak primocanes, leaving behind only the strongest and most vigorous stems.',\n",
       " 'Advertisement',\n",
       " 'Okra is added to soups and stews, used for canning or eaten as a boiled or fried vegetable.',\n",
       " 'Okra, or Hibiscus esculentus, is often referred to as gumbo and is part of the Malvaceae family, which also includes hollyhock, cotton, rose of Sharon and hibiscus plants.',\n",
       " 'This warm-season, tall, annual vegetable grows in a variety of soils.',\n",
       " 'The undeveloped pods of the plants are harvested and used in many recipes.',\n",
       " 'Advertisement          When and Where   Wait 10 to 14 days after the last chance of frost passes in your area to plant okra seeds outside in the garden.',\n",
       " 'The soil temperatures should be at least 62 degrees Fahrenheit, since okra needs more than 55 frost-free days where daytime temperatures remain above 85 degrees to develop fully.',\n",
       " 'Find a location with full sun and well-drained soil.',\n",
       " 'Enrich the planting area with 3 or more inches of compost mixed to a depth of 6 inches.',\n",
       " 'Advertisement      Related Stories           Home Sweet Home     5 Cool Indoor Gardening Kits Perfect for People Without Yards               Home Sweet Home     How to Grow a Balcony Garden               Home Sweet Home     How to Care for an African Milk Tree             Video of the Day          Planting Okra Seeds Outdoors   Soak the okra seeds overnight or for several hours prior to planting to speed up germination.',\n",
       " 'Plant the seeds 1 inch deep every 4 to 6 inches in a row.',\n",
       " 'Space the rows 3 to 4 feet apart.',\n",
       " 'Water the soil carefully to avoid displacing the seeds.',\n",
       " 'Keep the area moist, but not soggy until seedlings emerge in a week or more.',\n",
       " 'Thin the seedlings to one plant every 18 inches when okra seedlings reach 3 inches tall.',\n",
       " 'Advertisement          Planting Seeds Indoors   You can start okra seeds indoors six to eight weeks ahead of the expected outdoor planting date.',\n",
       " 'This will allow you to transplant okra plants that are already several inches tall.',\n",
       " 'Use pots made out of peat for planting seeds indoors because Okra seedlings do not transplant well.',\n",
       " 'Fill the pots with good-quality soil and plant two seeds in each pot at a depth of 1 inch.',\n",
       " 'Keep the pots in a bright location and water as needed to maintain moist soil.',\n",
       " 'Advertisement          Transplants and Care   Thin the seedlings to one per pot when okra plants are two inches tall.',\n",
       " 'Dig holes in your garden that are deep enough to bury the entire peat pot holding the okra transplants.',\n",
       " 'Space the okra plants 18 inches apart in rows.',\n",
       " 'Saturate the transplants with water to settle the plants in place, and add more soil if the tops of the pots are exposed.',\n",
       " 'Supply 1 inch of water weekly to the okra plants in the absence of rain until harvest time.',\n",
       " 'Advertisement',\n",
       " \"Things You'll Need   5 gallon bucketPlungerToilet augerWire hangerWood skewerMuriatic acidWater         A loss of flushing power can be caused by several factors.\",\n",
       " 'Toilets normally flush with great force, so when your toilet merely swirls after you push down the handle you immediately know the toilet is no longer functioning properly.',\n",
       " 'You must first determine the cause of the loss of flushing power before you can begin to work on a solution to the problem.',\n",
       " 'Fortunately, you can fix the problem of a loss of flushing power without the need to call a plumber.',\n",
       " \"Advertisement          Step 1   Pour a five gallon bucket of water into the toilet's bowl rapidly, without spilling any water out of the bowl.\",\n",
       " 'If the toilet still struggles to flush, press a plunger over the opening in the bowl and pump the handle a dozen times or more to dislodge the clog.',\n",
       " ...]"
      ]
     },
     "execution_count": 4,
     "metadata": {},
     "output_type": "execute_result"
    }
   ],
   "source": [
    "# Concatenate all sentences from each article into a list\n",
    "all_sentences = [sentence for sublist in text[\"sentences\"] for sentence in sublist]\n",
    "all_sentences"
   ]
  },
  {
   "cell_type": "markdown",
   "id": "37319302",
   "metadata": {},
   "source": [
    "We noticed there are many sentences that are not semantically meaningful for sentiment analysis, most of which are advertisements or providing credits for the images used in an article. Therefore, we chose to remove those sentences from the list, and consequently, the analysis. "
   ]
  },
  {
   "cell_type": "code",
   "execution_count": 5,
   "id": "34df7ff3",
   "metadata": {},
   "outputs": [],
   "source": [
    "# Filter out non-meaningful sentences from the list\n",
    "sentences = []\n",
    "\n",
    "for sentence in all_sentences:\n",
    "    if sentence.startswith(\"Image Credit:\") == False:\n",
    "        if sentence.startswith(\"Advertisement\") == False:\n",
    "            sentences.append(sentence)"
   ]
  },
  {
   "cell_type": "markdown",
   "id": "80d1289c",
   "metadata": {},
   "source": [
    "From the cleaned sentence list, we randomly selected 2000 sentences and stored them in a dataframe as **labeled_sentences.csv** in the **outcome** folder. \n",
    "\n",
    "We created an empty column titled `sentiment` in the dataframe, where we can manually label the sentiment of each sentence. "
   ]
  },
  {
   "cell_type": "code",
   "execution_count": 6,
   "id": "1fab0c18",
   "metadata": {},
   "outputs": [],
   "source": [
    "# Randomly selete 2000 sentences\n",
    "import random\n",
    "sample_size = 2000\n",
    "random.seed(42)\n",
    "\n",
    "sample_sentences = random.sample(sentences, sample_size)\n",
    "\n",
    "# Transform the list into a dataframe\n",
    "df_sample = pd.DataFrame(sample_sentences,columns = [\"sentence\"])\n",
    "# Create the column of sentiment with no values\n",
    "df_sample[\"sentiment\"] = \"\"\n"
   ]
  },
  {
   "cell_type": "code",
   "execution_count": 14,
   "id": "50a493ac",
   "metadata": {},
   "outputs": [
    {
     "data": {
      "text/html": [
       "<div>\n",
       "<style scoped>\n",
       "    .dataframe tbody tr th:only-of-type {\n",
       "        vertical-align: middle;\n",
       "    }\n",
       "\n",
       "    .dataframe tbody tr th {\n",
       "        vertical-align: top;\n",
       "    }\n",
       "\n",
       "    .dataframe thead th {\n",
       "        text-align: right;\n",
       "    }\n",
       "</style>\n",
       "<table border=\"1\" class=\"dataframe\">\n",
       "  <thead>\n",
       "    <tr style=\"text-align: right;\">\n",
       "      <th></th>\n",
       "      <th>sentence</th>\n",
       "      <th>sentiment</th>\n",
       "    </tr>\n",
       "  </thead>\n",
       "  <tbody>\n",
       "    <tr>\n",
       "      <th>0</th>\n",
       "      <td>If the adhesive is not soft enough to remove w...</td>\n",
       "      <td></td>\n",
       "    </tr>\n",
       "    <tr>\n",
       "      <th>1</th>\n",
       "      <td>Add 2 drops of biodegradable dishwashing liqui...</td>\n",
       "      <td></td>\n",
       "    </tr>\n",
       "    <tr>\n",
       "      <th>2</th>\n",
       "      <td>Press the primer bulb back into the mount and ...</td>\n",
       "      <td></td>\n",
       "    </tr>\n",
       "    <tr>\n",
       "      <th>3</th>\n",
       "      <td>Doing so will decrease the amount of fruit pro...</td>\n",
       "      <td></td>\n",
       "    </tr>\n",
       "    <tr>\n",
       "      <th>4</th>\n",
       "      <td>Ensure the edges are aligned with the edges of...</td>\n",
       "      <td></td>\n",
       "    </tr>\n",
       "    <tr>\n",
       "      <th>...</th>\n",
       "      <td>...</td>\n",
       "      <td>...</td>\n",
       "    </tr>\n",
       "    <tr>\n",
       "      <th>1995</th>\n",
       "      <td>There's also a shock-guard bumper that absorbs...</td>\n",
       "      <td></td>\n",
       "    </tr>\n",
       "    <tr>\n",
       "      <th>1996</th>\n",
       "      <td>Let the poultice sit on the stain for 24 to 48...</td>\n",
       "      <td></td>\n",
       "    </tr>\n",
       "    <tr>\n",
       "      <th>1997</th>\n",
       "      <td>Super glue only requires a small dollop and dr...</td>\n",
       "      <td></td>\n",
       "    </tr>\n",
       "    <tr>\n",
       "      <th>1998</th>\n",
       "      <td>Reattach the screws.</td>\n",
       "      <td></td>\n",
       "    </tr>\n",
       "    <tr>\n",
       "      <th>1999</th>\n",
       "      <td>Place a second box fan in another window with ...</td>\n",
       "      <td></td>\n",
       "    </tr>\n",
       "  </tbody>\n",
       "</table>\n",
       "<p>2000 rows × 2 columns</p>\n",
       "</div>"
      ],
      "text/plain": [
       "                                               sentence sentiment\n",
       "0     If the adhesive is not soft enough to remove w...          \n",
       "1     Add 2 drops of biodegradable dishwashing liqui...          \n",
       "2     Press the primer bulb back into the mount and ...          \n",
       "3     Doing so will decrease the amount of fruit pro...          \n",
       "4     Ensure the edges are aligned with the edges of...          \n",
       "...                                                 ...       ...\n",
       "1995  There's also a shock-guard bumper that absorbs...          \n",
       "1996  Let the poultice sit on the stain for 24 to 48...          \n",
       "1997  Super glue only requires a small dollop and dr...          \n",
       "1998                               Reattach the screws.          \n",
       "1999  Place a second box fan in another window with ...          \n",
       "\n",
       "[2000 rows x 2 columns]"
      ]
     },
     "execution_count": 14,
     "metadata": {},
     "output_type": "execute_result"
    }
   ],
   "source": [
    "df_sample"
   ]
  },
  {
   "cell_type": "code",
   "execution_count": 7,
   "id": "ed7d722c",
   "metadata": {},
   "outputs": [],
   "source": [
    "# Save the dataframe as a .csv file\n",
    "df_sample.to_csv(\"outcome/labeled_sentences.csv\")"
   ]
  },
  {
   "cell_type": "markdown",
   "id": "1f03585d",
   "metadata": {},
   "source": [
    "## <a id=\"section_2\">2. Prepare data for modeling</a>"
   ]
  },
  {
   "cell_type": "markdown",
   "id": "28ebaec2",
   "metadata": {},
   "source": [
    "Before this step, we downloaded the dataframe **labeled_sentence.csv** to our local drive and manually labeled the sentiment of sentences as *positive*, *neutral*, or *negative*. \n",
    "\n",
    "It should be noted that the website  __[Home Sweet Home](https://www.ehow.com/home-sweet-home)__ mainly consists of articles about home improviements. Therefore, most of our sentences are (i) imperatives that give plain instructions or (ii) declaratives that objectively describe a method or product, which all should have been labeled as *neutral*. \n",
    "\n",
    "For the purpose of the classification task, however, we tried to approach the labelling with a slightly different strategy, so that we can have more balanced distribution among the three sentiments:\n",
    "- **Label plain instructions (imperative sentences) as *neutral*.**<br>\n",
    "e.g. *Reattach the screws.* <br>\n",
    "e.g. *Slightly overlap each session every time you start a new one.*<br>\n",
    "<br/>\n",
    "\n",
    "- **Label declarative sentences that describe the features or characteritics of a product/method that are not neccesarily good or bad as *neutral*.** <br>\n",
    "e.g. *Found primarily in the South, these trees are distinctive for their long needles and seed cones.* <br>\n",
    "e.g. *A nontoxic latex undercoating is now used ton metal sinks and has been used since the late '70s.*\n",
    "\n",
    "<br/>\n",
    "\n",
    "- **For questions, missing vlues, or unparsable phrases, label them as *neutral*.** <br>\n",
    "e.g. *dry whiting, bolted20 lbs.* <br>\n",
    "e.g. *Motion sensor?* <br>\n",
    "\n",
    "<br/>\n",
    "\n",
    "- **Label declarative sentences that describe the advantages of a product/method as *positive*.** <br>\n",
    "e.g. *A swimming pool is an amenity that can bring hours of family enjoyment.* <br>\n",
    "e.g. *Three round feet on the bottom help balance and keep the roll holder in place.*\n",
    "\n",
    "<br/>\n",
    "\n",
    "- **Label declarative sentences that describe the disadvantages of a product/method as *negative*.** <br>\n",
    "e.g. *Others, including mosquitoes, fleas and sticks, will seek you out as a source food.* <br>\n",
    "e.g. *Washing windows takes a long time, especially ef you have a second story.* <br>\n",
    "\n",
    "<br/>\n",
    "\n",
    "\n",
    "- **For sentences that have two clauses, one negative and one positive, label the sentence with the sentiment of the clause where the focus is on.** <br>\n",
    "e.g. *While PVC is very durable, it does occasinally get stained.*  -- nagative <br>\n",
    "e.g. *Even though the design of this Crate & Barrel fireplace screen is stunning to look at, its minimalism design makes it the perfect addition to any mid-century modern style home.* -- positive <br>\n",
    "\n",
    "<br/> \n",
    "\n",
    "- **For rhetorical questions, label them by the meaning intended by author.** <br>\n",
    "e.g. *But did you know you can make natural fertilizers from everyday kitchen waste?*. -- positive <br>\n",
    "\n",
    "<br/>\n",
    "\n",
    "After manually labelling all sentences, we uploaded the labelled data set to the **outcome** folder as **labeled_sentences_1.csv** for for analysis. "
   ]
  },
  {
   "cell_type": "code",
   "execution_count": 18,
   "id": "6a10fc0f",
   "metadata": {
    "scrolled": true
   },
   "outputs": [
    {
     "data": {
      "text/html": [
       "<div>\n",
       "<style scoped>\n",
       "    .dataframe tbody tr th:only-of-type {\n",
       "        vertical-align: middle;\n",
       "    }\n",
       "\n",
       "    .dataframe tbody tr th {\n",
       "        vertical-align: top;\n",
       "    }\n",
       "\n",
       "    .dataframe thead th {\n",
       "        text-align: right;\n",
       "    }\n",
       "</style>\n",
       "<table border=\"1\" class=\"dataframe\">\n",
       "  <thead>\n",
       "    <tr style=\"text-align: right;\">\n",
       "      <th></th>\n",
       "      <th>sentence</th>\n",
       "      <th>sentiment</th>\n",
       "    </tr>\n",
       "  </thead>\n",
       "  <tbody>\n",
       "    <tr>\n",
       "      <th>0</th>\n",
       "      <td>If the adhesive is not soft enough to remove w...</td>\n",
       "      <td>u</td>\n",
       "    </tr>\n",
       "    <tr>\n",
       "      <th>1</th>\n",
       "      <td>Add 2 drops of biodegradable dishwashing liqui...</td>\n",
       "      <td>u</td>\n",
       "    </tr>\n",
       "    <tr>\n",
       "      <th>2</th>\n",
       "      <td>Press the primer bulb back into the mount and ...</td>\n",
       "      <td>u</td>\n",
       "    </tr>\n",
       "    <tr>\n",
       "      <th>3</th>\n",
       "      <td>Doing so will decrease the amount of fruit pro...</td>\n",
       "      <td>n</td>\n",
       "    </tr>\n",
       "    <tr>\n",
       "      <th>4</th>\n",
       "      <td>Ensure the edges are aligned with the edges of...</td>\n",
       "      <td>u</td>\n",
       "    </tr>\n",
       "    <tr>\n",
       "      <th>...</th>\n",
       "      <td>...</td>\n",
       "      <td>...</td>\n",
       "    </tr>\n",
       "    <tr>\n",
       "      <th>1996</th>\n",
       "      <td>Let the poultice sit on the stain for 24 to 48...</td>\n",
       "      <td>u</td>\n",
       "    </tr>\n",
       "    <tr>\n",
       "      <th>1997</th>\n",
       "      <td>Super glue only requires a small dollop and dr...</td>\n",
       "      <td>u</td>\n",
       "    </tr>\n",
       "    <tr>\n",
       "      <th>1998</th>\n",
       "      <td>Reattach the screws.</td>\n",
       "      <td>u</td>\n",
       "    </tr>\n",
       "    <tr>\n",
       "      <th>1999</th>\n",
       "      <td>Place a second box fan in another window with ...</td>\n",
       "      <td>u</td>\n",
       "    </tr>\n",
       "    <tr>\n",
       "      <th>2000</th>\n",
       "      <td>NaN</td>\n",
       "      <td>NaN</td>\n",
       "    </tr>\n",
       "  </tbody>\n",
       "</table>\n",
       "<p>2001 rows × 2 columns</p>\n",
       "</div>"
      ],
      "text/plain": [
       "                                               sentence sentiment\n",
       "0     If the adhesive is not soft enough to remove w...         u\n",
       "1     Add 2 drops of biodegradable dishwashing liqui...         u\n",
       "2     Press the primer bulb back into the mount and ...         u\n",
       "3     Doing so will decrease the amount of fruit pro...         n\n",
       "4     Ensure the edges are aligned with the edges of...         u\n",
       "...                                                 ...       ...\n",
       "1996  Let the poultice sit on the stain for 24 to 48...         u\n",
       "1997  Super glue only requires a small dollop and dr...         u\n",
       "1998                               Reattach the screws.         u\n",
       "1999  Place a second box fan in another window with ...         u\n",
       "2000                                                NaN       NaN\n",
       "\n",
       "[2001 rows x 2 columns]"
      ]
     },
     "execution_count": 18,
     "metadata": {},
     "output_type": "execute_result"
    }
   ],
   "source": [
    "# Load the data set with the 2000 labelled sentences\n",
    "df = pd.read_csv(\"outcome/labeled_sentences_1.csv\")\n",
    "df = df[[\"sentence\", \"sentiment\"]]\n",
    "df"
   ]
  },
  {
   "cell_type": "markdown",
   "id": "89e9eb05",
   "metadata": {},
   "source": [
    "Count the number of each label in the data set.\n"
   ]
  },
  {
   "cell_type": "code",
   "execution_count": 26,
   "id": "e618701d",
   "metadata": {},
   "outputs": [
    {
     "name": "stdout",
     "output_type": "stream",
     "text": [
      "The number of positive cases: 352, negative cases: 189, neutral caess: 1459.\n"
     ]
    }
   ],
   "source": [
    "p = len(df[df.sentiment==\"p\"])\n",
    "n = len(df[df.sentiment==\"n\"])\n",
    "u = len(df[df.sentiment==\"u\"])\n",
    "\n",
    "print(f\"The number of positive cases: {p}, negative cases: {n}, neutral caess: {u}.\")\n"
   ]
  },
  {
   "cell_type": "markdown",
   "id": "29f1053c",
   "metadata": {},
   "source": [
    "It can be noticed, although we employed an alternative strategy to label the sentiment, our data set is still significantly biased towards *neutral* by the nature of the articles, and we believe this will influence the performance of the classification algorithms greatly, espeically on new sentences."
   ]
  },
  {
   "cell_type": "markdown",
   "id": "b10b3673",
   "metadata": {},
   "source": [
    "Another mistake we noticed in our data set is that we forgot to filter out the sentences with missing values from the data set before selecting 2000 sentences. Therefore, we need to remove the sentences now before transformed them into the form for modelling. "
   ]
  },
  {
   "cell_type": "code",
   "execution_count": 27,
   "id": "4914eccb",
   "metadata": {
    "scrolled": true
   },
   "outputs": [
    {
     "name": "stdout",
     "output_type": "stream",
     "text": [
      "nan\n",
      "nan\n",
      "nan\n",
      "nan\n",
      "nan\n",
      "nan\n",
      "nan\n",
      "nan\n",
      "nan\n",
      "nan\n",
      "nan\n",
      "nan\n",
      "nan\n"
     ]
    }
   ],
   "source": [
    "# Check the missing values in the sentence values of the data set\n",
    "for i in df[\"sentence\"]:\n",
    "    if pd.isna(i):\n",
    "        print(i)\n"
   ]
  },
  {
   "cell_type": "markdown",
   "id": "658e6b1a",
   "metadata": {},
   "source": [
    "There are in total 13 sentences in our data set that are missing. Although it will be better to remove them first before seleting (so we can still have 2000 sentences to work with), relabelling 2000 sentences is too time-consuming. \n",
    "\n",
    "However, only 13 sentences should not influence the accuracy of the models too much. "
   ]
  },
  {
   "cell_type": "code",
   "execution_count": 28,
   "id": "90cf3f53",
   "metadata": {},
   "outputs": [
    {
     "name": "stdout",
     "output_type": "stream",
     "text": [
      "[188, 242, 330, 373, 405, 733, 1293, 1298, 1411, 1437, 1766, 1857, 2000]\n"
     ]
    },
    {
     "data": {
      "text/html": [
       "<div>\n",
       "<style scoped>\n",
       "    .dataframe tbody tr th:only-of-type {\n",
       "        vertical-align: middle;\n",
       "    }\n",
       "\n",
       "    .dataframe tbody tr th {\n",
       "        vertical-align: top;\n",
       "    }\n",
       "\n",
       "    .dataframe thead th {\n",
       "        text-align: right;\n",
       "    }\n",
       "</style>\n",
       "<table border=\"1\" class=\"dataframe\">\n",
       "  <thead>\n",
       "    <tr style=\"text-align: right;\">\n",
       "      <th></th>\n",
       "      <th>sentence</th>\n",
       "      <th>sentiment</th>\n",
       "    </tr>\n",
       "  </thead>\n",
       "  <tbody>\n",
       "    <tr>\n",
       "      <th>0</th>\n",
       "      <td>If the adhesive is not soft enough to remove w...</td>\n",
       "      <td>u</td>\n",
       "    </tr>\n",
       "    <tr>\n",
       "      <th>1</th>\n",
       "      <td>Add 2 drops of biodegradable dishwashing liqui...</td>\n",
       "      <td>u</td>\n",
       "    </tr>\n",
       "    <tr>\n",
       "      <th>2</th>\n",
       "      <td>Press the primer bulb back into the mount and ...</td>\n",
       "      <td>u</td>\n",
       "    </tr>\n",
       "    <tr>\n",
       "      <th>3</th>\n",
       "      <td>Doing so will decrease the amount of fruit pro...</td>\n",
       "      <td>n</td>\n",
       "    </tr>\n",
       "    <tr>\n",
       "      <th>4</th>\n",
       "      <td>Ensure the edges are aligned with the edges of...</td>\n",
       "      <td>u</td>\n",
       "    </tr>\n",
       "    <tr>\n",
       "      <th>...</th>\n",
       "      <td>...</td>\n",
       "      <td>...</td>\n",
       "    </tr>\n",
       "    <tr>\n",
       "      <th>1995</th>\n",
       "      <td>There's also a shock-guard bumper that absorbs...</td>\n",
       "      <td>p</td>\n",
       "    </tr>\n",
       "    <tr>\n",
       "      <th>1996</th>\n",
       "      <td>Let the poultice sit on the stain for 24 to 48...</td>\n",
       "      <td>u</td>\n",
       "    </tr>\n",
       "    <tr>\n",
       "      <th>1997</th>\n",
       "      <td>Super glue only requires a small dollop and dr...</td>\n",
       "      <td>u</td>\n",
       "    </tr>\n",
       "    <tr>\n",
       "      <th>1998</th>\n",
       "      <td>Reattach the screws.</td>\n",
       "      <td>u</td>\n",
       "    </tr>\n",
       "    <tr>\n",
       "      <th>1999</th>\n",
       "      <td>Place a second box fan in another window with ...</td>\n",
       "      <td>u</td>\n",
       "    </tr>\n",
       "  </tbody>\n",
       "</table>\n",
       "<p>1988 rows × 2 columns</p>\n",
       "</div>"
      ],
      "text/plain": [
       "                                               sentence sentiment\n",
       "0     If the adhesive is not soft enough to remove w...         u\n",
       "1     Add 2 drops of biodegradable dishwashing liqui...         u\n",
       "2     Press the primer bulb back into the mount and ...         u\n",
       "3     Doing so will decrease the amount of fruit pro...         n\n",
       "4     Ensure the edges are aligned with the edges of...         u\n",
       "...                                                 ...       ...\n",
       "1995  There's also a shock-guard bumper that absorbs...         p\n",
       "1996  Let the poultice sit on the stain for 24 to 48...         u\n",
       "1997  Super glue only requires a small dollop and dr...         u\n",
       "1998                               Reattach the screws.         u\n",
       "1999  Place a second box fan in another window with ...         u\n",
       "\n",
       "[1988 rows x 2 columns]"
      ]
     },
     "execution_count": 28,
     "metadata": {},
     "output_type": "execute_result"
    }
   ],
   "source": [
    "# Clean the nan values from the data set\n",
    "miss_list = list()\n",
    "for i in range(len(df)):\n",
    "    if pd.isna(df[\"sentence\"][i]):\n",
    "        miss_list.append(i)\n",
    "print(miss_list)       \n",
    " \n",
    "    \n",
    "df = df.drop(df.index[miss_list])\n",
    "\n",
    "df"
   ]
  },
  {
   "cell_type": "markdown",
   "id": "a010b805",
   "metadata": {},
   "source": [
    "Then, we prepared the data for modelling. \n",
    "\n",
    "The target value y is the labeled sentiment of each sentence, and the predictors are a $1988*5890$ matrix X."
   ]
  },
  {
   "cell_type": "code",
   "execution_count": 34,
   "id": "1f33aa86",
   "metadata": {},
   "outputs": [
    {
     "data": {
      "text/plain": [
       "<1988x5890 sparse matrix of type '<class 'numpy.float64'>'\n",
       "\twith 18526 stored elements in Compressed Sparse Row format>"
      ]
     },
     "execution_count": 34,
     "metadata": {},
     "output_type": "execute_result"
    }
   ],
   "source": [
    "y = df.sentiment\n",
    "\n",
    "from sklearn.feature_extraction.text import TfidfVectorizer\n",
    "vectorizer = TfidfVectorizer(use_idf=True, norm=\"l2\", stop_words=\"english\", max_df=0.7)\n",
    "X = vectorizer.fit_transform(df.sentence)\n",
    "X"
   ]
  },
  {
   "cell_type": "code",
   "execution_count": 35,
   "id": "211af3fd",
   "metadata": {},
   "outputs": [
    {
     "data": {
      "text/plain": [
       "((1988, 5890), (1988,))"
      ]
     },
     "execution_count": 35,
     "metadata": {},
     "output_type": "execute_result"
    }
   ],
   "source": [
    "X.shape, y.shape"
   ]
  },
  {
   "cell_type": "markdown",
   "id": "7a52c16f",
   "metadata": {},
   "source": [
    "We then randomly split up the data set, used 80% of the data set as the training data to fit the models, and the remaining 20% as test data to evaluate the models' performances. "
   ]
  },
  {
   "cell_type": "code",
   "execution_count": 36,
   "id": "1b9bc5bf",
   "metadata": {},
   "outputs": [],
   "source": [
    "# Split the data set into training and test sets\n",
    "from sklearn.model_selection import train_test_split\n",
    "\n",
    "X_train, X_test, y_train, y_test = train_test_split(X, y, test_size=0.2, random_state=0)"
   ]
  },
  {
   "cell_type": "code",
   "execution_count": 12,
   "id": "6ad5db86",
   "metadata": {},
   "outputs": [
    {
     "data": {
      "text/plain": [
       "((1590, 5890), (1590,), (398, 5890), (398,))"
      ]
     },
     "execution_count": 12,
     "metadata": {},
     "output_type": "execute_result"
    }
   ],
   "source": [
    "X_train.shape, y_train.shape, X_test.shape, y_test.shape"
   ]
  },
  {
   "cell_type": "markdown",
   "id": "cec7b74f",
   "metadata": {},
   "source": [
    "## <a id=\"section_3\">3. Classifier selection</a>"
   ]
  },
  {
   "cell_type": "markdown",
   "id": "d52349f3",
   "metadata": {},
   "source": [
    "We trained 8 different classifiers on our training data. For models that can be fitted with various parameters, we used 5-fold cross-validation to select the best parameter. \n",
    "\n",
    "For each classifier, we recorded their test accuracy, precision, recall, f1-score, and time efficiency to select the best model."
   ]
  },
  {
   "cell_type": "code",
   "execution_count": 37,
   "id": "bee939de",
   "metadata": {},
   "outputs": [],
   "source": [
    "from sklearn.metrics import confusion_matrix, classification_report"
   ]
  },
  {
   "cell_type": "markdown",
   "id": "85cea23d",
   "metadata": {},
   "source": [
    "### <a id=\"section_3.1\">3.1. K-Nearest Neighbors (K-NNs)</a> "
   ]
  },
  {
   "cell_type": "markdown",
   "id": "7caad17a",
   "metadata": {},
   "source": [
    "K-NN model requires us to select the best K.\n",
    "\n",
    "Cross-validation results suggest the model performs the best when K = 10"
   ]
  },
  {
   "cell_type": "code",
   "execution_count": 38,
   "id": "2dd43cc4",
   "metadata": {},
   "outputs": [
    {
     "name": "stderr",
     "output_type": "stream",
     "text": [
      "/home/wenqzeng/.local/lib/python3.9/site-packages/sklearn/neighbors/_classification.py:228: FutureWarning: Unlike other reduction functions (e.g. `skew`, `kurtosis`), the default behavior of `mode` typically preserves the axis it acts along. In SciPy 1.11.0, this behavior will change: the default value of `keepdims` will become False, the `axis` over which the statistic is taken will be eliminated, and the value None will no longer be accepted. Set `keepdims` to True or False to avoid this warning.\n",
      "  mode, _ = stats.mode(_y[neigh_ind, k], axis=1)\n",
      "/home/wenqzeng/.local/lib/python3.9/site-packages/sklearn/neighbors/_classification.py:228: FutureWarning: Unlike other reduction functions (e.g. `skew`, `kurtosis`), the default behavior of `mode` typically preserves the axis it acts along. In SciPy 1.11.0, this behavior will change: the default value of `keepdims` will become False, the `axis` over which the statistic is taken will be eliminated, and the value None will no longer be accepted. Set `keepdims` to True or False to avoid this warning.\n",
      "  mode, _ = stats.mode(_y[neigh_ind, k], axis=1)\n",
      "/home/wenqzeng/.local/lib/python3.9/site-packages/sklearn/neighbors/_classification.py:228: FutureWarning: Unlike other reduction functions (e.g. `skew`, `kurtosis`), the default behavior of `mode` typically preserves the axis it acts along. In SciPy 1.11.0, this behavior will change: the default value of `keepdims` will become False, the `axis` over which the statistic is taken will be eliminated, and the value None will no longer be accepted. Set `keepdims` to True or False to avoid this warning.\n",
      "  mode, _ = stats.mode(_y[neigh_ind, k], axis=1)\n",
      "/home/wenqzeng/.local/lib/python3.9/site-packages/sklearn/neighbors/_classification.py:228: FutureWarning: Unlike other reduction functions (e.g. `skew`, `kurtosis`), the default behavior of `mode` typically preserves the axis it acts along. In SciPy 1.11.0, this behavior will change: the default value of `keepdims` will become False, the `axis` over which the statistic is taken will be eliminated, and the value None will no longer be accepted. Set `keepdims` to True or False to avoid this warning.\n",
      "  mode, _ = stats.mode(_y[neigh_ind, k], axis=1)\n",
      "/home/wenqzeng/.local/lib/python3.9/site-packages/sklearn/neighbors/_classification.py:228: FutureWarning: Unlike other reduction functions (e.g. `skew`, `kurtosis`), the default behavior of `mode` typically preserves the axis it acts along. In SciPy 1.11.0, this behavior will change: the default value of `keepdims` will become False, the `axis` over which the statistic is taken will be eliminated, and the value None will no longer be accepted. Set `keepdims` to True or False to avoid this warning.\n",
      "  mode, _ = stats.mode(_y[neigh_ind, k], axis=1)\n",
      "/home/wenqzeng/.local/lib/python3.9/site-packages/sklearn/neighbors/_classification.py:228: FutureWarning: Unlike other reduction functions (e.g. `skew`, `kurtosis`), the default behavior of `mode` typically preserves the axis it acts along. In SciPy 1.11.0, this behavior will change: the default value of `keepdims` will become False, the `axis` over which the statistic is taken will be eliminated, and the value None will no longer be accepted. Set `keepdims` to True or False to avoid this warning.\n",
      "  mode, _ = stats.mode(_y[neigh_ind, k], axis=1)\n",
      "/home/wenqzeng/.local/lib/python3.9/site-packages/sklearn/neighbors/_classification.py:228: FutureWarning: Unlike other reduction functions (e.g. `skew`, `kurtosis`), the default behavior of `mode` typically preserves the axis it acts along. In SciPy 1.11.0, this behavior will change: the default value of `keepdims` will become False, the `axis` over which the statistic is taken will be eliminated, and the value None will no longer be accepted. Set `keepdims` to True or False to avoid this warning.\n",
      "  mode, _ = stats.mode(_y[neigh_ind, k], axis=1)\n",
      "/home/wenqzeng/.local/lib/python3.9/site-packages/sklearn/neighbors/_classification.py:228: FutureWarning: Unlike other reduction functions (e.g. `skew`, `kurtosis`), the default behavior of `mode` typically preserves the axis it acts along. In SciPy 1.11.0, this behavior will change: the default value of `keepdims` will become False, the `axis` over which the statistic is taken will be eliminated, and the value None will no longer be accepted. Set `keepdims` to True or False to avoid this warning.\n",
      "  mode, _ = stats.mode(_y[neigh_ind, k], axis=1)\n",
      "/home/wenqzeng/.local/lib/python3.9/site-packages/sklearn/neighbors/_classification.py:228: FutureWarning: Unlike other reduction functions (e.g. `skew`, `kurtosis`), the default behavior of `mode` typically preserves the axis it acts along. In SciPy 1.11.0, this behavior will change: the default value of `keepdims` will become False, the `axis` over which the statistic is taken will be eliminated, and the value None will no longer be accepted. Set `keepdims` to True or False to avoid this warning.\n",
      "  mode, _ = stats.mode(_y[neigh_ind, k], axis=1)\n",
      "/home/wenqzeng/.local/lib/python3.9/site-packages/sklearn/neighbors/_classification.py:228: FutureWarning: Unlike other reduction functions (e.g. `skew`, `kurtosis`), the default behavior of `mode` typically preserves the axis it acts along. In SciPy 1.11.0, this behavior will change: the default value of `keepdims` will become False, the `axis` over which the statistic is taken will be eliminated, and the value None will no longer be accepted. Set `keepdims` to True or False to avoid this warning.\n",
      "  mode, _ = stats.mode(_y[neigh_ind, k], axis=1)\n",
      "/home/wenqzeng/.local/lib/python3.9/site-packages/sklearn/neighbors/_classification.py:228: FutureWarning: Unlike other reduction functions (e.g. `skew`, `kurtosis`), the default behavior of `mode` typically preserves the axis it acts along. In SciPy 1.11.0, this behavior will change: the default value of `keepdims` will become False, the `axis` over which the statistic is taken will be eliminated, and the value None will no longer be accepted. Set `keepdims` to True or False to avoid this warning.\n",
      "  mode, _ = stats.mode(_y[neigh_ind, k], axis=1)\n",
      "/home/wenqzeng/.local/lib/python3.9/site-packages/sklearn/neighbors/_classification.py:228: FutureWarning: Unlike other reduction functions (e.g. `skew`, `kurtosis`), the default behavior of `mode` typically preserves the axis it acts along. In SciPy 1.11.0, this behavior will change: the default value of `keepdims` will become False, the `axis` over which the statistic is taken will be eliminated, and the value None will no longer be accepted. Set `keepdims` to True or False to avoid this warning.\n",
      "  mode, _ = stats.mode(_y[neigh_ind, k], axis=1)\n",
      "/home/wenqzeng/.local/lib/python3.9/site-packages/sklearn/neighbors/_classification.py:228: FutureWarning: Unlike other reduction functions (e.g. `skew`, `kurtosis`), the default behavior of `mode` typically preserves the axis it acts along. In SciPy 1.11.0, this behavior will change: the default value of `keepdims` will become False, the `axis` over which the statistic is taken will be eliminated, and the value None will no longer be accepted. Set `keepdims` to True or False to avoid this warning.\n",
      "  mode, _ = stats.mode(_y[neigh_ind, k], axis=1)\n"
     ]
    },
    {
     "name": "stdout",
     "output_type": "stream",
     "text": [
      "k = 1: [0.7327044  0.72641509 0.72641509 0.72327044 0.72955975]\n",
      "0.728, 0.003\n",
      "\n",
      "k = 3: [0.72641509 0.71698113 0.72641509 0.71698113 0.72327044]\n",
      "0.722, 0.004\n",
      "\n",
      "k = 10: [0.72012579 0.71698113 0.74842767 0.73899371 0.72641509]\n",
      "0.73, 0.012\n",
      "\n",
      "k = 30: [0.72955975 0.72641509 0.72955975 0.72955975 0.72327044]\n",
      "0.728, 0.003\n",
      "\n",
      "Highest score : 0.73 when k = 10\n"
     ]
    },
    {
     "name": "stderr",
     "output_type": "stream",
     "text": [
      "/home/wenqzeng/.local/lib/python3.9/site-packages/sklearn/neighbors/_classification.py:228: FutureWarning: Unlike other reduction functions (e.g. `skew`, `kurtosis`), the default behavior of `mode` typically preserves the axis it acts along. In SciPy 1.11.0, this behavior will change: the default value of `keepdims` will become False, the `axis` over which the statistic is taken will be eliminated, and the value None will no longer be accepted. Set `keepdims` to True or False to avoid this warning.\n",
      "  mode, _ = stats.mode(_y[neigh_ind, k], axis=1)\n",
      "/home/wenqzeng/.local/lib/python3.9/site-packages/sklearn/neighbors/_classification.py:228: FutureWarning: Unlike other reduction functions (e.g. `skew`, `kurtosis`), the default behavior of `mode` typically preserves the axis it acts along. In SciPy 1.11.0, this behavior will change: the default value of `keepdims` will become False, the `axis` over which the statistic is taken will be eliminated, and the value None will no longer be accepted. Set `keepdims` to True or False to avoid this warning.\n",
      "  mode, _ = stats.mode(_y[neigh_ind, k], axis=1)\n",
      "/home/wenqzeng/.local/lib/python3.9/site-packages/sklearn/neighbors/_classification.py:228: FutureWarning: Unlike other reduction functions (e.g. `skew`, `kurtosis`), the default behavior of `mode` typically preserves the axis it acts along. In SciPy 1.11.0, this behavior will change: the default value of `keepdims` will become False, the `axis` over which the statistic is taken will be eliminated, and the value None will no longer be accepted. Set `keepdims` to True or False to avoid this warning.\n",
      "  mode, _ = stats.mode(_y[neigh_ind, k], axis=1)\n",
      "/home/wenqzeng/.local/lib/python3.9/site-packages/sklearn/neighbors/_classification.py:228: FutureWarning: Unlike other reduction functions (e.g. `skew`, `kurtosis`), the default behavior of `mode` typically preserves the axis it acts along. In SciPy 1.11.0, this behavior will change: the default value of `keepdims` will become False, the `axis` over which the statistic is taken will be eliminated, and the value None will no longer be accepted. Set `keepdims` to True or False to avoid this warning.\n",
      "  mode, _ = stats.mode(_y[neigh_ind, k], axis=1)\n",
      "/home/wenqzeng/.local/lib/python3.9/site-packages/sklearn/neighbors/_classification.py:228: FutureWarning: Unlike other reduction functions (e.g. `skew`, `kurtosis`), the default behavior of `mode` typically preserves the axis it acts along. In SciPy 1.11.0, this behavior will change: the default value of `keepdims` will become False, the `axis` over which the statistic is taken will be eliminated, and the value None will no longer be accepted. Set `keepdims` to True or False to avoid this warning.\n",
      "  mode, _ = stats.mode(_y[neigh_ind, k], axis=1)\n",
      "/home/wenqzeng/.local/lib/python3.9/site-packages/sklearn/neighbors/_classification.py:228: FutureWarning: Unlike other reduction functions (e.g. `skew`, `kurtosis`), the default behavior of `mode` typically preserves the axis it acts along. In SciPy 1.11.0, this behavior will change: the default value of `keepdims` will become False, the `axis` over which the statistic is taken will be eliminated, and the value None will no longer be accepted. Set `keepdims` to True or False to avoid this warning.\n",
      "  mode, _ = stats.mode(_y[neigh_ind, k], axis=1)\n",
      "/home/wenqzeng/.local/lib/python3.9/site-packages/sklearn/neighbors/_classification.py:228: FutureWarning: Unlike other reduction functions (e.g. `skew`, `kurtosis`), the default behavior of `mode` typically preserves the axis it acts along. In SciPy 1.11.0, this behavior will change: the default value of `keepdims` will become False, the `axis` over which the statistic is taken will be eliminated, and the value None will no longer be accepted. Set `keepdims` to True or False to avoid this warning.\n",
      "  mode, _ = stats.mode(_y[neigh_ind, k], axis=1)\n"
     ]
    }
   ],
   "source": [
    "from sklearn.neighbors import KNeighborsClassifier \n",
    "\n",
    "# Cross-validate to select the best model\n",
    "from sklearn.model_selection import cross_val_score\n",
    "score_max = 0                      # Score_max is a temoporay variable to store the max score \n",
    "\n",
    "for param in [1, 3, 10, 30]:\n",
    "    model = KNeighborsClassifier(n_neighbors=param)\n",
    "    scores = cross_val_score(model, X_train, y_train, cv=5)\n",
    "    print(f\"k = {param}: {scores}\\n{round(scores.mean(), 3)}, {round(scores.std(), 3)}\\n\")\n",
    "       \n",
    "    # updating the temporary variable param_best if the param variable yields a better performance\n",
    "    if scores.mean() > score_max:\n",
    "        score_max = scores.mean()\n",
    "        param_best = param         \n",
    "\n",
    "# Print the parameter with the best performance \n",
    "print(f\"Highest score : {round(score_max, 3)} when k = {param_best}\")"
   ]
  },
  {
   "cell_type": "markdown",
   "id": "d5eeca69",
   "metadata": {},
   "source": [
    "A K-NN (K=10) model was fit to the training data and tested on the test data. "
   ]
  },
  {
   "cell_type": "code",
   "execution_count": 39,
   "id": "74634506",
   "metadata": {},
   "outputs": [],
   "source": [
    "# Build the best model for models with parameters to decide\n",
    "def train_test(X_train, X_test, y_train, y_test, cls): # cls is the model to be fit\n",
    "    cls.fit(X_train, y_train)\n",
    "    \n",
    "    y_true = y_test\n",
    "    y_pred = cls.predict(X_test)\n",
    "    \n",
    "    print(f\"Train accuracy score: {round(cls.score(X_train, y_train), 3)}\")\n",
    "    print(f\"Test accuracy score: {round(cls.score(X_test, y_test), 3)}\\n\")\n",
    "    print(confusion_matrix(y_true, y_pred))\n",
    "    print()\n",
    "    print(classification_report(y_true, y_pred, zero_division=0))"
   ]
  },
  {
   "cell_type": "code",
   "execution_count": 40,
   "id": "a950ca9f",
   "metadata": {
    "scrolled": true
   },
   "outputs": [
    {
     "name": "stdout",
     "output_type": "stream",
     "text": [
      "k = 10\n",
      "Train accuracy score: 0.745\n",
      "Test accuracy score: 0.731\n",
      "\n",
      "[[  0   0  34]\n",
      " [  0   0  70]\n",
      " [  1   2 291]]\n",
      "\n",
      "              precision    recall  f1-score   support\n",
      "\n",
      "           n       0.00      0.00      0.00        34\n",
      "           p       0.00      0.00      0.00        70\n",
      "           u       0.74      0.99      0.84       294\n",
      "\n",
      "    accuracy                           0.73       398\n",
      "   macro avg       0.25      0.33      0.28       398\n",
      "weighted avg       0.54      0.73      0.62       398\n",
      "\n",
      "CPU times: user 123 ms, sys: 21.4 ms, total: 145 ms\n",
      "Wall time: 138 ms\n"
     ]
    },
    {
     "name": "stderr",
     "output_type": "stream",
     "text": [
      "/home/wenqzeng/.local/lib/python3.9/site-packages/sklearn/neighbors/_classification.py:228: FutureWarning: Unlike other reduction functions (e.g. `skew`, `kurtosis`), the default behavior of `mode` typically preserves the axis it acts along. In SciPy 1.11.0, this behavior will change: the default value of `keepdims` will become False, the `axis` over which the statistic is taken will be eliminated, and the value None will no longer be accepted. Set `keepdims` to True or False to avoid this warning.\n",
      "  mode, _ = stats.mode(_y[neigh_ind, k], axis=1)\n",
      "/home/wenqzeng/.local/lib/python3.9/site-packages/sklearn/neighbors/_classification.py:228: FutureWarning: Unlike other reduction functions (e.g. `skew`, `kurtosis`), the default behavior of `mode` typically preserves the axis it acts along. In SciPy 1.11.0, this behavior will change: the default value of `keepdims` will become False, the `axis` over which the statistic is taken will be eliminated, and the value None will no longer be accepted. Set `keepdims` to True or False to avoid this warning.\n",
      "  mode, _ = stats.mode(_y[neigh_ind, k], axis=1)\n"
     ]
    }
   ],
   "source": [
    "# fit the knn with best parameter to the training data and test it on test data\n",
    "print(f\"k = {param_best}\")\n",
    "knc = KNeighborsClassifier(n_neighbors=param_best) # initiate the knn model\n",
    "%time train_test(X_train, X_test, y_train, y_test, knc)"
   ]
  },
  {
   "cell_type": "markdown",
   "id": "9f223c14",
   "metadata": {},
   "source": [
    "The precision, recall, and f1-score of the model to identify *negative* and *positive* sentences in the test data are low, arguably due to that our data set is biased towards *neutral* and doesn't contain enough input for the classifier to be properly trained. \n",
    "\n",
    "The overall test accuracy of the K-NN model is 0.73. We store the KNN test accuracy in the dictionary item `summary` for further comparison."
   ]
  },
  {
   "cell_type": "code",
   "execution_count": 41,
   "id": "ed9c03e7",
   "metadata": {},
   "outputs": [
    {
     "name": "stderr",
     "output_type": "stream",
     "text": [
      "/home/wenqzeng/.local/lib/python3.9/site-packages/sklearn/neighbors/_classification.py:228: FutureWarning: Unlike other reduction functions (e.g. `skew`, `kurtosis`), the default behavior of `mode` typically preserves the axis it acts along. In SciPy 1.11.0, this behavior will change: the default value of `keepdims` will become False, the `axis` over which the statistic is taken will be eliminated, and the value None will no longer be accepted. Set `keepdims` to True or False to avoid this warning.\n",
      "  mode, _ = stats.mode(_y[neigh_ind, k], axis=1)\n"
     ]
    }
   ],
   "source": [
    "# store the KNN performance into summary\n",
    "summary = {}\n",
    "summary[\"k-NNs\"] = round(knc.score(X_test, y_test), 3)\n"
   ]
  },
  {
   "cell_type": "markdown",
   "id": "0f72a1da",
   "metadata": {},
   "source": [
    "### <a id=\"section_3.2\">3.2. Logistic Regression </a> "
   ]
  },
  {
   "cell_type": "markdown",
   "id": "0ecce6c0",
   "metadata": {},
   "source": [
    "There is no parameter to select for the logistic regression model. \n",
    "\n",
    "Cross-validation shows that the average accuracy of the model on the training data is 0.73."
   ]
  },
  {
   "cell_type": "code",
   "execution_count": 42,
   "id": "dfd12f5f",
   "metadata": {},
   "outputs": [
    {
     "name": "stdout",
     "output_type": "stream",
     "text": [
      "[0.72955975 0.72641509 0.72955975 0.72012579 0.71698113]\n",
      "0.725, 0.005\n"
     ]
    }
   ],
   "source": [
    "from sklearn.linear_model import LogisticRegression\n",
    "# initiate the lr\n",
    "lr = LogisticRegression(random_state=0)\n",
    "\n",
    "# cross-validate to see the average performance\n",
    "scores = cross_val_score(lr, X_train, y_train, cv=5)\n",
    "print(f\"{scores}\\n{round(scores.mean(), 3)}, {round(scores.std(), 3)}\")"
   ]
  },
  {
   "cell_type": "markdown",
   "id": "26b0ad03",
   "metadata": {},
   "source": [
    "We then trained the logistic regression model on the whole training data and tested on the test data."
   ]
  },
  {
   "cell_type": "code",
   "execution_count": 43,
   "id": "2f210ca9",
   "metadata": {},
   "outputs": [
    {
     "name": "stdout",
     "output_type": "stream",
     "text": [
      "Train accuracy score: 0.79\n",
      "Test accuracy score: 0.739\n",
      "\n",
      "[[  0   0  34]\n",
      " [  0   1  69]\n",
      " [  1   0 293]]\n",
      "\n",
      "              precision    recall  f1-score   support\n",
      "\n",
      "           n       0.00      0.00      0.00        34\n",
      "           p       1.00      0.01      0.03        70\n",
      "           u       0.74      1.00      0.85       294\n",
      "\n",
      "    accuracy                           0.74       398\n",
      "   macro avg       0.58      0.34      0.29       398\n",
      "weighted avg       0.72      0.74      0.63       398\n",
      "\n",
      "CPU times: user 5.19 s, sys: 26.2 s, total: 31.4 s\n",
      "Wall time: 3.95 s\n"
     ]
    }
   ],
   "source": [
    "# fit the model to the training data and test it with test data\n",
    "%time train_test(X_train, X_test, y_train, y_test, lr)"
   ]
  },
  {
   "cell_type": "markdown",
   "id": "383bc673",
   "metadata": {},
   "source": [
    "The precision, recall, and f1-score of the model to identify *negative* and *positive* sentences in the test data are low, arguably due to that our data set is biased towards *neutral* and doesn't contain enough input for the classifier to be properly trained. \n",
    "\n",
    "The overall test accuracy of the Logistic regression model is 0.74, better than the KNN model. However, it also took longer than the KNN model to fit.\n",
    "\n",
    "We store the Logistic regression test accuracy in the dictionary item `summary` for further comparison."
   ]
  },
  {
   "cell_type": "code",
   "execution_count": 23,
   "id": "755328fd",
   "metadata": {},
   "outputs": [
    {
     "data": {
      "text/plain": [
       "{'k-NNs': 0.779, 'Logistic Regression': 0.779}"
      ]
     },
     "execution_count": 23,
     "metadata": {},
     "output_type": "execute_result"
    }
   ],
   "source": [
    "# store the test accuracy in summary\n",
    "summary[\"Logistic Regression\"] = round(lr.score(X_test, y_test), 3)"
   ]
  },
  {
   "cell_type": "markdown",
   "id": "ca70beae",
   "metadata": {},
   "source": [
    "### <a id=\"section_3.3\">3.3. Multinomial Naive Bayes </a> "
   ]
  },
  {
   "cell_type": "markdown",
   "id": "f9f90175",
   "metadata": {},
   "source": [
    "There is no parameter to select for the Multinomial Naive Bayes model. \n",
    "\n",
    "Cross-validation shows that the average accuracy of the model on the training data is 0.73."
   ]
  },
  {
   "cell_type": "code",
   "execution_count": 45,
   "id": "b62c495e",
   "metadata": {},
   "outputs": [
    {
     "name": "stdout",
     "output_type": "stream",
     "text": [
      "[0.72641509 0.72641509 0.72641509 0.72327044 0.72327044]\n",
      "0.725, 0.002\n"
     ]
    }
   ],
   "source": [
    "from sklearn.naive_bayes import MultinomialNB\n",
    "# initiate the multinomial naive bayes\n",
    "mnb = MultinomialNB()\n",
    "\n",
    "# cross-validation to see the average performance\n",
    "scores = cross_val_score(mnb, X_train, y_train, cv=5)\n",
    "print(f\"{scores}\\n{round(scores.mean(), 3)}, {round(scores.std(), 3)}\")"
   ]
  },
  {
   "cell_type": "markdown",
   "id": "d179a40a",
   "metadata": {},
   "source": [
    "We then fit the model to the whole training data and tested it performance on the test data."
   ]
  },
  {
   "cell_type": "code",
   "execution_count": 47,
   "id": "e5d79964",
   "metadata": {},
   "outputs": [
    {
     "name": "stdout",
     "output_type": "stream",
     "text": [
      "Train accuracy score: 0.747\n",
      "Test accuracy score: 0.739\n",
      "\n",
      "[[  0   0  34]\n",
      " [  0   0  70]\n",
      " [  0   0 294]]\n",
      "\n",
      "              precision    recall  f1-score   support\n",
      "\n",
      "           n       0.00      0.00      0.00        34\n",
      "           p       0.00      0.00      0.00        70\n",
      "           u       0.74      1.00      0.85       294\n",
      "\n",
      "    accuracy                           0.74       398\n",
      "   macro avg       0.25      0.33      0.28       398\n",
      "weighted avg       0.55      0.74      0.63       398\n",
      "\n",
      "CPU times: user 13.6 ms, sys: 1.14 ms, total: 14.7 ms\n",
      "Wall time: 14 ms\n"
     ]
    }
   ],
   "source": [
    "# Train the model on the whole training data and test it on test data\n",
    "%time train_test(X_train, X_test, y_train, y_test, mnb)"
   ]
  },
  {
   "cell_type": "markdown",
   "id": "cf6015a5",
   "metadata": {},
   "source": [
    "The precision, recall, and f1-score of the model to identify *negative* and *positive* sentences in the test data are low, arguably due to that our data set is biased towards *neutral* and doesn't contain enough input for the classifier to be properly trained. \n",
    "\n",
    "The overall test accuracy of the Multinomial Naive Bayes model is 0.74, better than the KNN model and itendical to Logistical regression. However, it was less time-consuming than the Logistic regression.\n",
    "\n",
    "We store the Multinomial Naive Bayes test accuracy in the dictionary item `summary` for further comparison."
   ]
  },
  {
   "cell_type": "code",
   "execution_count": 49,
   "id": "886053ad",
   "metadata": {},
   "outputs": [],
   "source": [
    "# store the test accuracy\n",
    "summary[\"Multinomial Naive Bayes\"] = round(mnb.score(X_test, y_test), 3)\n"
   ]
  },
  {
   "cell_type": "markdown",
   "id": "0d016b1c",
   "metadata": {},
   "source": [
    "### <a id=\"section_3.4\">3.4. Decision Tree </a> "
   ]
  },
  {
   "cell_type": "markdown",
   "id": "c78da457",
   "metadata": {},
   "source": [
    "There is no parameter to select for the Decision Tree model. \n",
    "\n",
    "Cross-validation shows that the average accuracy of the model on the training data is 0.7."
   ]
  },
  {
   "cell_type": "code",
   "execution_count": 50,
   "id": "981c59a2",
   "metadata": {},
   "outputs": [
    {
     "name": "stdout",
     "output_type": "stream",
     "text": [
      "[0.70125786 0.6918239  0.68867925 0.70440252 0.68867925]\n",
      "0.695, 0.007\n"
     ]
    }
   ],
   "source": [
    "from sklearn.tree import DecisionTreeClassifier\n",
    "# initate the model\n",
    "dtc = DecisionTreeClassifier(random_state=0)\n",
    "\n",
    "# cross-validate to see the average performance\n",
    "scores = cross_val_score(dtc, X_train, y_train, cv=5)\n",
    "print(f\"{scores}\\n{round(scores.mean(), 3)}, {round(scores.std(), 3)}\")"
   ]
  },
  {
   "cell_type": "markdown",
   "id": "1233184e",
   "metadata": {},
   "source": [
    "We then fit the model to the whole training data and tested it performance on the test data."
   ]
  },
  {
   "cell_type": "code",
   "execution_count": 51,
   "id": "e3fc636a",
   "metadata": {
    "scrolled": true
   },
   "outputs": [
    {
     "name": "stdout",
     "output_type": "stream",
     "text": [
      "Train accuracy score: 1.0\n",
      "Test accuracy score: 0.698\n",
      "\n",
      "[[ 11   5  18]\n",
      " [  6  21  43]\n",
      " [ 23  25 246]]\n",
      "\n",
      "              precision    recall  f1-score   support\n",
      "\n",
      "           n       0.28      0.32      0.30        34\n",
      "           p       0.41      0.30      0.35        70\n",
      "           u       0.80      0.84      0.82       294\n",
      "\n",
      "    accuracy                           0.70       398\n",
      "   macro avg       0.50      0.49      0.49       398\n",
      "weighted avg       0.69      0.70      0.69       398\n",
      "\n",
      "CPU times: user 206 ms, sys: 13.4 ms, total: 220 ms\n",
      "Wall time: 219 ms\n"
     ]
    }
   ],
   "source": [
    "# fit the model to the whole training data and test it on test data\n",
    "%time train_test(X_train, X_test, y_train, y_test, dtc)"
   ]
  },
  {
   "cell_type": "markdown",
   "id": "51504482",
   "metadata": {},
   "source": [
    "The precision, recall, and f1-score of the model to identify *negative* and *positive* sentences in the test data are better than the previous models, but still low, arguably due to that our data set is biased towards *neutral* and doesn't contain enough input for the classifier to be properly trained. The performance indexes on detecting *neutral* sentences are, however, worse, when comparing with previous models. \n",
    "\n",
    "The overall test accuracy of the Decision Tree model is 0.7, being the worst among the models compared so far.\n",
    "\n",
    "We store the Decision Tree test accuracy in the dictionary item `summary` for further comparison."
   ]
  },
  {
   "cell_type": "code",
   "execution_count": 63,
   "id": "d0a74e10",
   "metadata": {},
   "outputs": [],
   "source": [
    "# record the test accuracy \n",
    "summary[\"Decision Trees\"] = round(dtc.score(X_test, y_test), 3)"
   ]
  },
  {
   "cell_type": "markdown",
   "id": "5265c048",
   "metadata": {},
   "source": [
    "### <a id=\"section_3.5\">3.5. Random Forest </a> "
   ]
  },
  {
   "cell_type": "markdown",
   "id": "60d3617a",
   "metadata": {},
   "source": [
    "There is no parameter to select for the Random Forest model. \n",
    "\n",
    "Cross-validation shows that the average accuracy of the model on the training data is 0.75."
   ]
  },
  {
   "cell_type": "code",
   "execution_count": 53,
   "id": "dfefc9b5",
   "metadata": {
    "scrolled": true
   },
   "outputs": [
    {
     "name": "stdout",
     "output_type": "stream",
     "text": [
      "[0.75157233 0.74528302 0.74528302 0.75471698 0.75471698]\n",
      "0.75, 0.004\n"
     ]
    }
   ],
   "source": [
    "from sklearn.ensemble import RandomForestClassifier\n",
    "# initate the model\n",
    "rfc = RandomForestClassifier(random_state=0)\n",
    "\n",
    "# cross-validate to see the average performance\n",
    "scores = cross_val_score(rfc, X_train, y_train, cv=5)\n",
    "print(f\"{scores}\\n{round(scores.mean(), 3)}, {round(scores.std(), 3)}\")"
   ]
  },
  {
   "cell_type": "markdown",
   "id": "4a343ec5",
   "metadata": {},
   "source": [
    "We then fit the model to the whole training data and tested it performance on the test data."
   ]
  },
  {
   "cell_type": "code",
   "execution_count": 54,
   "id": "8b68a664",
   "metadata": {
    "scrolled": true
   },
   "outputs": [
    {
     "name": "stdout",
     "output_type": "stream",
     "text": [
      "Train accuracy score: 1.0\n",
      "Test accuracy score: 0.751\n",
      "\n",
      "[[  3   1  30]\n",
      " [  1   7  62]\n",
      " [  1   4 289]]\n",
      "\n",
      "              precision    recall  f1-score   support\n",
      "\n",
      "           n       0.60      0.09      0.15        34\n",
      "           p       0.58      0.10      0.17        70\n",
      "           u       0.76      0.98      0.86       294\n",
      "\n",
      "    accuracy                           0.75       398\n",
      "   macro avg       0.65      0.39      0.39       398\n",
      "weighted avg       0.71      0.75      0.68       398\n",
      "\n",
      "CPU times: user 1.67 s, sys: 107 ms, total: 1.77 s\n",
      "Wall time: 1.77 s\n"
     ]
    }
   ],
   "source": [
    "# train the model on training data and tested it performance on test data\n",
    "%time train_test(X_train, X_test, y_train, y_test, rfc)"
   ]
  },
  {
   "cell_type": "markdown",
   "id": "be180850",
   "metadata": {},
   "source": [
    "Random Forest had balanced performance among the three sentiments regarding precision; however, the recall and f1-score was still much higher in *neutral* sentences than the other two. \n",
    "\n",
    "The overall test accuracy of the Random Forest model is 0.75, being the best among the models constructed so far. On the other hand, this model is also rather time-consuming. \n",
    "\n",
    "We store the Random Forest test accuracy in the dictionary item `summary` for further comparison."
   ]
  },
  {
   "cell_type": "code",
   "execution_count": 55,
   "id": "1784de4a",
   "metadata": {},
   "outputs": [],
   "source": [
    "summary[\"Random Forest\"] = round(rfc.score(X_test, y_test), 3)"
   ]
  },
  {
   "cell_type": "markdown",
   "id": "8ce1d5ab",
   "metadata": {},
   "source": [
    "### <a id=\"section_3.6\">3.6. Linear Support Vector Machines (SVMs)</a>"
   ]
  },
  {
   "cell_type": "markdown",
   "id": "5eb99af2",
   "metadata": {},
   "source": [
    "A linear SVMs requires to select a best c parameter.\n",
    "\n",
    "Cross-validation results suggest the model performs the best when C = 1.\n"
   ]
  },
  {
   "cell_type": "code",
   "execution_count": 56,
   "id": "fb0a2e50",
   "metadata": {
    "scrolled": true
   },
   "outputs": [
    {
     "name": "stdout",
     "output_type": "stream",
     "text": [
      "C = 0.01: [0.72641509 0.72641509 0.72641509 0.72327044 0.72327044]\n",
      "0.725, 0.002\n",
      "\n",
      "C = 0.03: [0.72641509 0.72641509 0.72641509 0.72327044 0.72327044]\n",
      "0.725, 0.002\n",
      "\n",
      "C = 0.1: [0.72641509 0.72641509 0.72641509 0.72327044 0.72327044]\n",
      "0.725, 0.002\n",
      "\n",
      "C = 0.3: [0.72955975 0.72641509 0.7327044  0.7327044  0.72955975]\n",
      "0.73, 0.002\n",
      "\n",
      "C = 1: [0.74213836 0.7327044  0.73899371 0.73584906 0.73899371]\n",
      "0.738, 0.003\n",
      "\n",
      "C = 3: [0.72641509 0.73584906 0.75157233 0.73899371 0.72327044]\n",
      "0.735, 0.01\n",
      "\n",
      "C = 10: [0.72641509 0.74528302 0.74528302 0.7327044  0.71383648]\n",
      "0.733, 0.012\n",
      "\n",
      "Highest score : 0.738 when C = 1\n"
     ]
    }
   ],
   "source": [
    "from sklearn.svm import LinearSVC\n",
    "\n",
    "# Cross validate the SVM to select the best c\n",
    "\n",
    "score_max = 0\n",
    "\n",
    "for param in [0.01, 0.03, 0.1, 0.3, 1, 3, 10]:\n",
    "    model = LinearSVC(C=param, random_state=0)\n",
    "    scores = cross_val_score(model, X_train, y_train, cv=5)\n",
    "    print(f\"C = {param}: {scores}\\n{round(scores.mean(), 3)}, {round(scores.std(), 3)}\\n\")\n",
    "    \n",
    "    if scores.mean() > score_max:\n",
    "        score_max = scores.mean()\n",
    "        param_best = param\n",
    "        \n",
    "print(f\"Highest score : {round(score_max, 3)} when C = {param_best}\")"
   ]
  },
  {
   "cell_type": "markdown",
   "id": "18d0b09c",
   "metadata": {},
   "source": [
    "A linear SVMs with C=1 was fit to the training data and tested on the test data. "
   ]
  },
  {
   "cell_type": "code",
   "execution_count": 57,
   "id": "40bdf5ad",
   "metadata": {},
   "outputs": [
    {
     "name": "stdout",
     "output_type": "stream",
     "text": [
      "C = 1\n",
      "Train accuracy score: 1.0\n",
      "Test accuracy score: 0.744\n",
      "\n",
      "[[  5   2  27]\n",
      " [  1   5  64]\n",
      " [  4   4 286]]\n",
      "\n",
      "              precision    recall  f1-score   support\n",
      "\n",
      "           n       0.50      0.15      0.23        34\n",
      "           p       0.45      0.07      0.12        70\n",
      "           u       0.76      0.97      0.85       294\n",
      "\n",
      "    accuracy                           0.74       398\n",
      "   macro avg       0.57      0.40      0.40       398\n",
      "weighted avg       0.68      0.74      0.67       398\n",
      "\n",
      "CPU times: user 18.3 ms, sys: 2.81 ms, total: 21.1 ms\n",
      "Wall time: 19.6 ms\n"
     ]
    }
   ],
   "source": [
    "print(f\"C = {param_best}\")\n",
    "lsvc = LinearSVC(C=param_best) # initate the SVMs\n",
    "# fit the model and test it on test data\n",
    "%time train_test(X_train, X_test, y_train, y_test, lsvc)"
   ]
  },
  {
   "cell_type": "markdown",
   "id": "1d718c35",
   "metadata": {},
   "source": [
    "Linear SVMs had rather balanced performance among the three sentiments regarding precision; however, the recall and f1-score was still much higher in *neutral* sentences than the other two. \n",
    "\n",
    "The overall test accuracy of the Random Forest model is 0.74, being the second best among the models constructed so far. Compared to the currently best model (Random Forest), SVMs is also much less time-consuming. \n",
    "\n",
    "We store the Linear SVMs test accuracy in the dictionary item `summary` for further comparison."
   ]
  },
  {
   "cell_type": "code",
   "execution_count": 60,
   "id": "a2440fbb",
   "metadata": {},
   "outputs": [],
   "source": [
    "# record the test accuracy\n",
    "summary[\"Linear SVMs\"] = round(lsvc.score(X_test, y_test), 3)"
   ]
  },
  {
   "cell_type": "markdown",
   "id": "e23dcff4",
   "metadata": {},
   "source": [
    "### <a id=\"section_3.7\"> 3.7. Kernelized Support Vector Machines (KSVMs)</a>"
   ]
  },
  {
   "cell_type": "markdown",
   "id": "2fab9e69",
   "metadata": {},
   "source": [
    "A kernelized SVMs requires to select a best C parameter.\n",
    "\n",
    "Cross-validation results suggest the model performs the best when C = 1."
   ]
  },
  {
   "cell_type": "code",
   "execution_count": 61,
   "id": "7767a911",
   "metadata": {
    "scrolled": false
   },
   "outputs": [
    {
     "name": "stdout",
     "output_type": "stream",
     "text": [
      "C = 0.01: [0.72641509 0.72641509 0.72641509 0.72327044 0.72327044]\n",
      "0.725, 0.002\n",
      "\n",
      "C = 0.03: [0.72641509 0.72641509 0.72641509 0.72327044 0.72327044]\n",
      "0.725, 0.002\n",
      "\n",
      "C = 0.1: [0.72641509 0.72641509 0.72641509 0.72327044 0.72327044]\n",
      "0.725, 0.002\n",
      "\n",
      "C = 0.3: [0.72641509 0.72641509 0.72641509 0.72327044 0.72327044]\n",
      "0.725, 0.002\n",
      "\n",
      "C = 1: [0.72955975 0.72641509 0.72641509 0.72327044 0.72641509]\n",
      "0.726, 0.002\n",
      "\n",
      "C = 3: [0.72955975 0.72327044 0.72641509 0.72955975 0.72327044]\n",
      "0.726, 0.003\n",
      "\n",
      "C = 10: [0.72955975 0.72327044 0.72641509 0.72955975 0.72327044]\n",
      "0.726, 0.003\n",
      "\n",
      "Highest score : 0.726 when C = 1\n"
     ]
    }
   ],
   "source": [
    "from sklearn.svm import SVC\n",
    "\n",
    "# Cross-validate to select the best C\n",
    "\n",
    "score_max = 0\n",
    "\n",
    "for param in [0.01, 0.03, 0.1, 0.3, 1, 3, 10]:\n",
    "    model = SVC(C=param, kernel=\"rbf\", gamma=\"scale\", random_state=0)\n",
    "    scores = cross_val_score(model, X_train, y_train, cv=5)\n",
    "    print(f\"C = {param}: {scores}\\n{round(scores.mean(), 3)}, {round(scores.std(), 3)}\\n\")\n",
    "    \n",
    "    if scores.mean() > score_max:\n",
    "        score_max = scores.mean()\n",
    "        param_best = param\n",
    "        \n",
    "print(f\"Highest score : {round(score_max, 3)} when C = {param_best}\")"
   ]
  },
  {
   "cell_type": "markdown",
   "id": "997b17e6",
   "metadata": {},
   "source": [
    "A kernelized SVMs with C=1 was fit to the training data and tested on the test data. "
   ]
  },
  {
   "cell_type": "code",
   "execution_count": 62,
   "id": "24b95ead",
   "metadata": {},
   "outputs": [
    {
     "name": "stdout",
     "output_type": "stream",
     "text": [
      "C = 1\n",
      "Train accuracy score: 0.947\n",
      "Test accuracy score: 0.741\n",
      "\n",
      "[[  0   0  34]\n",
      " [  0   1  69]\n",
      " [  0   0 294]]\n",
      "\n",
      "              precision    recall  f1-score   support\n",
      "\n",
      "           n       0.00      0.00      0.00        34\n",
      "           p       1.00      0.01      0.03        70\n",
      "           u       0.74      1.00      0.85       294\n",
      "\n",
      "    accuracy                           0.74       398\n",
      "   macro avg       0.58      0.34      0.29       398\n",
      "weighted avg       0.72      0.74      0.63       398\n",
      "\n",
      "CPU times: user 709 ms, sys: 42.3 ms, total: 751 ms\n",
      "Wall time: 749 ms\n"
     ]
    }
   ],
   "source": [
    "print(f\"C = {param_best}\")\n",
    "# initate the KSVM\n",
    "svc = SVC(C=param_best)\n",
    "# fit the model to the training data and test it on test data\n",
    "%time train_test(X_train, X_test, y_train, y_test, svc)"
   ]
  },
  {
   "cell_type": "markdown",
   "id": "f49e81bf",
   "metadata": {},
   "source": [
    "All indexes for identifying the *negative* sentences are very low. \n",
    "\n",
    "The precision for identifing *positive* sentences are ceiling, however, the recall and f1-score is low, suggesting that although all the recognized *positive* sentences are indeed *positive*, there remain a great number of *positive* sentences that are not detected by the model.\n",
    "\n",
    "The model performend moderately well on identifying *neutral* sentences.\n",
    "\n",
    "The overall test accuracy of the kernelized SVMs is 0.74. We store the test accuracy in the decision item `summary` for further comparisons. "
   ]
  },
  {
   "cell_type": "code",
   "execution_count": 64,
   "id": "99f265b6",
   "metadata": {},
   "outputs": [],
   "source": [
    "summary[\"Kernelized SVMs\"] = round(svc.score(X_test, y_test), 3)"
   ]
  },
  {
   "cell_type": "markdown",
   "id": "5bbb5f46",
   "metadata": {},
   "source": [
    "### <a id=\"section_3.8\"> 3.8. Neural Networks </a>"
   ]
  },
  {
   "cell_type": "markdown",
   "id": "c3fce708",
   "metadata": {},
   "source": [
    "Neural Networks model require to select the best hidden layer size.\n",
    "\n",
    "Cross-validation results suggest the model performs the best with 100 hidden layers."
   ]
  },
  {
   "cell_type": "code",
   "execution_count": 65,
   "id": "95984538",
   "metadata": {},
   "outputs": [
    {
     "name": "stderr",
     "output_type": "stream",
     "text": [
      "/home/wenqzeng/.local/lib/python3.9/site-packages/sklearn/neural_network/_multilayer_perceptron.py:692: ConvergenceWarning: Stochastic Optimizer: Maximum iterations (200) reached and the optimization hasn't converged yet.\n",
      "  warnings.warn(\n",
      "/home/wenqzeng/.local/lib/python3.9/site-packages/sklearn/neural_network/_multilayer_perceptron.py:692: ConvergenceWarning: Stochastic Optimizer: Maximum iterations (200) reached and the optimization hasn't converged yet.\n",
      "  warnings.warn(\n",
      "/home/wenqzeng/.local/lib/python3.9/site-packages/sklearn/neural_network/_multilayer_perceptron.py:692: ConvergenceWarning: Stochastic Optimizer: Maximum iterations (200) reached and the optimization hasn't converged yet.\n",
      "  warnings.warn(\n",
      "/home/wenqzeng/.local/lib/python3.9/site-packages/sklearn/neural_network/_multilayer_perceptron.py:692: ConvergenceWarning: Stochastic Optimizer: Maximum iterations (200) reached and the optimization hasn't converged yet.\n",
      "  warnings.warn(\n",
      "/home/wenqzeng/.local/lib/python3.9/site-packages/sklearn/neural_network/_multilayer_perceptron.py:692: ConvergenceWarning: Stochastic Optimizer: Maximum iterations (200) reached and the optimization hasn't converged yet.\n",
      "  warnings.warn(\n"
     ]
    },
    {
     "name": "stdout",
     "output_type": "stream",
     "text": [
      "hidden_layer_size = 10: [0.70754717 0.72012579 0.73584906 0.73899371 0.72327044]\n",
      "0.725, 0.011\n",
      "\n",
      "hidden_layer_size = 30: [0.73584906 0.72327044 0.7327044  0.72955975 0.72955975]\n",
      "0.73, 0.004\n",
      "\n",
      "hidden_layer_size = 100: [0.73584906 0.72327044 0.74842767 0.73584906 0.72012579]\n",
      "0.733, 0.01\n",
      "\n",
      "Highest score : 0.733 when hidden_layer_sizes = 100\n"
     ]
    }
   ],
   "source": [
    "################################################\n",
    "# Don't run this chunk during presentation\n",
    "################################################\n",
    "\n",
    "from sklearn.neural_network import MLPClassifier\n",
    "\n",
    "# Cross validation to select the best number of hidden layers\n",
    "\n",
    "score_max = 0\n",
    "\n",
    "for param in [10, 30, 100]:\n",
    "    model = MLPClassifier(hidden_layer_sizes=(param, ), random_state=0)\n",
    "    scores = cross_val_score(model, X_train, y_train, cv=5)\n",
    "    print(f\"hidden_layer_size = {param}: {scores}\\n{round(scores.mean(), 3)}, {round(scores.std(), 3)}\\n\")\n",
    "    \n",
    "    if scores.mean() > score_max:\n",
    "        score_max = scores.mean()\n",
    "        param_best = param\n",
    "        \n",
    "print(f\"Highest score : {round(score_max, 3)} when hidden_layer_sizes = {param_best}\")"
   ]
  },
  {
   "cell_type": "markdown",
   "id": "2cd5c6e7",
   "metadata": {},
   "source": [
    "Fit a neural network with 100 hidden layers to the training data and test it on test data"
   ]
  },
  {
   "cell_type": "code",
   "execution_count": 67,
   "id": "d932b224",
   "metadata": {},
   "outputs": [
    {
     "name": "stdout",
     "output_type": "stream",
     "text": [
      "hidden_layer_size = 100\n",
      "Train accuracy score: 1.0\n",
      "Test accuracy score: 0.724\n",
      "\n",
      "[[  8   5  21]\n",
      " [  3   8  59]\n",
      " [  9  13 272]]\n",
      "\n",
      "              precision    recall  f1-score   support\n",
      "\n",
      "           n       0.40      0.24      0.30        34\n",
      "           p       0.31      0.11      0.17        70\n",
      "           u       0.77      0.93      0.84       294\n",
      "\n",
      "    accuracy                           0.72       398\n",
      "   macro avg       0.49      0.42      0.44       398\n",
      "weighted avg       0.66      0.72      0.68       398\n",
      "\n",
      "CPU times: user 1min, sys: 4min 45s, total: 5min 45s\n",
      "Wall time: 43.2 s\n"
     ]
    }
   ],
   "source": [
    "print(f\"hidden_layer_size = {param_best}\")\n",
    "# initate the neural network\n",
    "mlpc = MLPClassifier(hidden_layer_sizes=(param_best, ), random_state=0)\n",
    "# fit the model to the training data and test it on test data\n",
    "%time train_test(X_train, X_test, y_train, y_test, mlpc)"
   ]
  },
  {
   "cell_type": "markdown",
   "id": "5b210629",
   "metadata": {},
   "source": [
    "The model stil performed better at identifying *neutral* sentences. However, it should be the second best in recognizing the *negative* and *positive* sentences, following Decision Tree. \n",
    "\n",
    "The overall test accuracy of the model is 0.72. We store its test performance in the dictionary item `summary` for comparison. "
   ]
  },
  {
   "cell_type": "code",
   "execution_count": 68,
   "id": "a903c79c",
   "metadata": {},
   "outputs": [],
   "source": [
    "summary[\"Neural Networks\"] = round(mlpc.score(X_test, y_test), 3)"
   ]
  },
  {
   "cell_type": "code",
   "execution_count": 70,
   "id": "eb676e6f",
   "metadata": {},
   "outputs": [
    {
     "data": {
      "text/plain": [
       "{'k-NNs': 0.731,\n",
       " 'Multinomial Naive Bayes': 0.739,\n",
       " 'Decision Trees': 0.698,\n",
       " 'Random Forest': 0.751,\n",
       " 'Linear SVMs': 0.744,\n",
       " 'Kernelized SVMs': 0.741,\n",
       " 'Neural Networks': 0.724}"
      ]
     },
     "execution_count": 70,
     "metadata": {},
     "output_type": "execute_result"
    }
   ],
   "source": [
    "#Choose the classifier that yields the best performance. \n",
    "summary"
   ]
  },
  {
   "cell_type": "markdown",
   "id": "7ce9df18",
   "metadata": {},
   "source": [
    "By comparing the test accuracy of all the classification algorithms, **Random Forest** is selected as the best model to predict the sentence sentiment for our data set. "
   ]
  },
  {
   "cell_type": "markdown",
   "id": "dba06af0",
   "metadata": {},
   "source": [
    "## <a id=\"section_4\"> 4. Test Random Forest </a>"
   ]
  },
  {
   "cell_type": "markdown",
   "id": "a7097897",
   "metadata": {},
   "source": [
    "In this section, we used new ten sentences to test the performance of **Random Forest** in predicting sentence sentiment. \n",
    "\n",
    "We semi-randomly selected 10 sentences from Amazon reviews and online articles with a balanced distribution of positive, negative, and neutral. "
   ]
  },
  {
   "cell_type": "code",
   "execution_count": 71,
   "id": "60bdae44",
   "metadata": {},
   "outputs": [],
   "source": [
    "\n",
    "text1 = \"This sink is perfect for the industrial/studio look that we have at home. It's a great size for our bathroom sink.\\\n",
    "So far, we love it. The finish is nice and it appears to be made well. \\\n",
    "I don't know how I'll like the ffaucet being off to the side but I'll update my review when it's futexlly installed and running.\"\n",
    "\n",
    "text2 = \"The sprayer pullout and button is perfect! We couldn't be more pleased with this faucet!\\\n",
    "It looks so much more expensive than it is! And it feels quality - the metal is thick and heavy, the installation parts are nice...\\\n",
    "I adjusted the placement of my counterweight because the way the plumbing is set up wehn I pull down the sprayer and release it back \\\n",
    "into the spout, the counterweight gets stuck on one of the pipes. So, I just moved it up a little bit sacrificing some of the \\\n",
    "pull down length. My sink is really deep and I still get a good reach to the bottom.\"\n",
    "\n",
    "text3 = \"I wish I never purchased this oven. The functions are too complicataed to use, especially when the print on the buttons \\\n",
    "wears off within a couple months.\"\n",
    "\n",
    "text4 = \"I like this cute little machin, and I know my father has used them for years without incident. HOWEVER, within about \\\n",
    "20 uses, it started turning on and trying to brew by itself half of the time that I plugged it in without the power button being pressed.\\\n",
    "I did not get it wet or drop it or damage it in any way.\"\n",
    "\n",
    "text5 = \"I hate this little device from hell. I used to love it. I bought one for every room in my house, my office at work, and they \\\n",
    "were good. But now, despite Amazon's alleged spying, some genius at Amazon decided to allow this thing to wake you up all hours\\\n",
    " of the night with a loud obnoxious noise and a bright yellow light.\"\n",
    "\n",
    "text6 = \"Very disppointed with these chairs. Hasn't been quite 5 months and t he wicker is unraveling on one of the chairs.\"\n",
    "\n",
    "text7 = \"Adorable. Exactly as pictured. Looks so nice between my two rockers on the porch and a perfect landing place for a cup\\\n",
    " of coffee and a book.\"\n",
    "\n",
    "text8 = \"When coding categorical variables, there are a variety of coding systems we can choose for testing different set of \\\n",
    "linear hypotheses. On this page, we will cover some of the coding schemes for categorical variables. \\\n",
    "We will show how these coding schemes are constructed and interpreted.\"\n",
    "\n",
    "text9 = \"We bought this a month ago and we absolutely love it! Super high quality and pretty easy to put together.\\\n",
    " I would definitely recommend! And my dog clearly loves it.\"\n",
    "\n",
    "text10 = \"Almost all of machine learning can be viewed in probabilistic terms, making probabilistic thinking fundamental. \\\n",
    "It is, of course, not the only view. But it is through this view that we can connect what we do in machine learning to \\\n",
    "every other computational science, whether that be in stochastic optimisation, control theory, operations research, \\\n",
    "econometrics, information theory, statistical physics or bio-statistics. For this reason alone, mastery of probabilistic \\\n",
    "thinking is essential.\""
   ]
  },
  {
   "cell_type": "markdown",
   "id": "95ec5709",
   "metadata": {},
   "source": [
    "Prepare the sentence to fit the model.\n",
    "\n",
    "The sentences are transoformed to a 10*5890 matrix as the predictors."
   ]
  },
  {
   "cell_type": "code",
   "execution_count": 72,
   "id": "a4cd381f",
   "metadata": {},
   "outputs": [
    {
     "data": {
      "text/plain": [
       "<10x5890 sparse matrix of type '<class 'numpy.float64'>'\n",
       "\twith 142 stored elements in Compressed Sparse Row format>"
      ]
     },
     "execution_count": 72,
     "metadata": {},
     "output_type": "execute_result"
    }
   ],
   "source": [
    "new_texts = [text1, text2, text3, text4, text5, text6, text7, text8, text9, text10]\n",
    "X_new = vectorizer.transform(new_texts)\n",
    "X_new"
   ]
  },
  {
   "cell_type": "markdown",
   "id": "f4746c73",
   "metadata": {},
   "source": [
    "Predict the sentiments of these sentences by the fitted model Random Forest."
   ]
  },
  {
   "cell_type": "code",
   "execution_count": 73,
   "id": "fa43f36e",
   "metadata": {},
   "outputs": [
    {
     "data": {
      "text/plain": [
       "array(['p', 'p', 'u', 'u', 'u', 'u', 'p', 'u', 'u', 'u'], dtype=object)"
      ]
     },
     "execution_count": 73,
     "metadata": {},
     "output_type": "execute_result"
    }
   ],
   "source": [
    "# rfc.predict Predict the newe sentences with random forest\n",
    "rfc.predict(X_new)"
   ]
  },
  {
   "cell_type": "markdown",
   "id": "faa4b690",
   "metadata": {},
   "source": [
    "In summary, the Random Forest model trained with our training data set did a farily good job in predicting the positive and neutral sentiments. However, it failed to predict any negative sentiments, which is not surprising, given the poor performance the algorithm had regarding negative sentences on our test data. "
   ]
  }
 ],
 "metadata": {
  "kernelspec": {
   "display_name": "Python 3 (ipykernel)",
   "language": "python",
   "name": "python3"
  },
  "language_info": {
   "codemirror_mode": {
    "name": "ipython",
    "version": 3
   },
   "file_extension": ".py",
   "mimetype": "text/x-python",
   "name": "python",
   "nbconvert_exporter": "python",
   "pygments_lexer": "ipython3",
   "version": "3.9.1"
  }
 },
 "nbformat": 4,
 "nbformat_minor": 5
}
